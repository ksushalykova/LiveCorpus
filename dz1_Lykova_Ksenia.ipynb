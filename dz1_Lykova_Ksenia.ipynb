{
  "nbformat": 4,
  "nbformat_minor": 0,
  "metadata": {
    "colab": {
      "name": "dz1_Lykova_Ksenia.ipynb",
      "provenance": [],
      "collapsed_sections": []
    },
    "kernelspec": {
      "name": "python3",
      "display_name": "Python 3"
    },
    "language_info": {
      "name": "python"
    }
  },
  "cells": [
    {
      "cell_type": "code",
      "execution_count": null,
      "metadata": {
        "id": "Yt0xX6NZUgyD"
      },
      "outputs": [],
      "source": [
        "# 1. Разведка"
      ]
    },
    {
      "cell_type": "code",
      "source": [
        "! kaggle competitions download -c hse-intro-ds-2022-hw1\n",
        "\n",
        "import zipfile\n",
        "z = zipfile.ZipFile('hse-intro-ds-2022-hw1.zip', 'r')\n",
        "z.extract('train.csv')\n",
        "z.extract('test.csv')\n",
        "z.extract('sample_submission.csv')\n",
        "z.close()\n",
        "\n",
        "# BadZipFile: File is not a zip file\n",
        "# распаковать не получилось, загружаю трейн и тест вручную"
      ],
      "metadata": {
        "colab": {
          "base_uri": "https://localhost:8080/",
          "height": 519
        },
        "id": "iA0E1tO3XiBA",
        "outputId": "862eb249-6a86-48dd-9f3d-b0489d75f090"
      },
      "execution_count": null,
      "outputs": [
        {
          "output_type": "stream",
          "name": "stdout",
          "text": [
            "Traceback (most recent call last):\n",
            "  File \"/usr/local/bin/kaggle\", line 5, in <module>\n",
            "    from kaggle.cli import main\n",
            "  File \"/usr/local/lib/python3.7/dist-packages/kaggle/__init__.py\", line 23, in <module>\n",
            "    api.authenticate()\n",
            "  File \"/usr/local/lib/python3.7/dist-packages/kaggle/api/kaggle_api_extended.py\", line 166, in authenticate\n",
            "    self.config_file, self.config_dir))\n",
            "OSError: Could not find kaggle.json. Make sure it's located in /root/.kaggle. Or use the environment method.\n"
          ]
        },
        {
          "output_type": "error",
          "ename": "BadZipFile",
          "evalue": "ignored",
          "traceback": [
            "\u001b[0;31m---------------------------------------------------------------------------\u001b[0m",
            "\u001b[0;31mBadZipFile\u001b[0m                                Traceback (most recent call last)",
            "\u001b[0;32m<ipython-input-2-a18fe55a25e9>\u001b[0m in \u001b[0;36m<module>\u001b[0;34m()\u001b[0m\n\u001b[1;32m      2\u001b[0m \u001b[0;34m\u001b[0m\u001b[0m\n\u001b[1;32m      3\u001b[0m \u001b[0;32mimport\u001b[0m \u001b[0mzipfile\u001b[0m\u001b[0;34m\u001b[0m\u001b[0;34m\u001b[0m\u001b[0m\n\u001b[0;32m----> 4\u001b[0;31m \u001b[0mz\u001b[0m \u001b[0;34m=\u001b[0m \u001b[0mzipfile\u001b[0m\u001b[0;34m.\u001b[0m\u001b[0mZipFile\u001b[0m\u001b[0;34m(\u001b[0m\u001b[0;34m'hse-intro-ds-2022-hw1.zip'\u001b[0m\u001b[0;34m,\u001b[0m \u001b[0;34m'r'\u001b[0m\u001b[0;34m)\u001b[0m\u001b[0;34m\u001b[0m\u001b[0;34m\u001b[0m\u001b[0m\n\u001b[0m\u001b[1;32m      5\u001b[0m \u001b[0mz\u001b[0m\u001b[0;34m.\u001b[0m\u001b[0mextract\u001b[0m\u001b[0;34m(\u001b[0m\u001b[0;34m'train.csv'\u001b[0m\u001b[0;34m)\u001b[0m\u001b[0;34m\u001b[0m\u001b[0;34m\u001b[0m\u001b[0m\n\u001b[1;32m      6\u001b[0m \u001b[0mz\u001b[0m\u001b[0;34m.\u001b[0m\u001b[0mextract\u001b[0m\u001b[0;34m(\u001b[0m\u001b[0;34m'test.csv'\u001b[0m\u001b[0;34m)\u001b[0m\u001b[0;34m\u001b[0m\u001b[0;34m\u001b[0m\u001b[0m\n",
            "\u001b[0;32m/usr/lib/python3.7/zipfile.py\u001b[0m in \u001b[0;36m__init__\u001b[0;34m(self, file, mode, compression, allowZip64, compresslevel)\u001b[0m\n\u001b[1;32m   1256\u001b[0m         \u001b[0;32mtry\u001b[0m\u001b[0;34m:\u001b[0m\u001b[0;34m\u001b[0m\u001b[0;34m\u001b[0m\u001b[0m\n\u001b[1;32m   1257\u001b[0m             \u001b[0;32mif\u001b[0m \u001b[0mmode\u001b[0m \u001b[0;34m==\u001b[0m \u001b[0;34m'r'\u001b[0m\u001b[0;34m:\u001b[0m\u001b[0;34m\u001b[0m\u001b[0;34m\u001b[0m\u001b[0m\n\u001b[0;32m-> 1258\u001b[0;31m                 \u001b[0mself\u001b[0m\u001b[0;34m.\u001b[0m\u001b[0m_RealGetContents\u001b[0m\u001b[0;34m(\u001b[0m\u001b[0;34m)\u001b[0m\u001b[0;34m\u001b[0m\u001b[0;34m\u001b[0m\u001b[0m\n\u001b[0m\u001b[1;32m   1259\u001b[0m             \u001b[0;32melif\u001b[0m \u001b[0mmode\u001b[0m \u001b[0;32min\u001b[0m \u001b[0;34m(\u001b[0m\u001b[0;34m'w'\u001b[0m\u001b[0;34m,\u001b[0m \u001b[0;34m'x'\u001b[0m\u001b[0;34m)\u001b[0m\u001b[0;34m:\u001b[0m\u001b[0;34m\u001b[0m\u001b[0;34m\u001b[0m\u001b[0m\n\u001b[1;32m   1260\u001b[0m                 \u001b[0;31m# set the modified flag so central directory gets written\u001b[0m\u001b[0;34m\u001b[0m\u001b[0;34m\u001b[0m\u001b[0;34m\u001b[0m\u001b[0m\n",
            "\u001b[0;32m/usr/lib/python3.7/zipfile.py\u001b[0m in \u001b[0;36m_RealGetContents\u001b[0;34m(self)\u001b[0m\n\u001b[1;32m   1323\u001b[0m             \u001b[0;32mraise\u001b[0m \u001b[0mBadZipFile\u001b[0m\u001b[0;34m(\u001b[0m\u001b[0;34m\"File is not a zip file\"\u001b[0m\u001b[0;34m)\u001b[0m\u001b[0;34m\u001b[0m\u001b[0;34m\u001b[0m\u001b[0m\n\u001b[1;32m   1324\u001b[0m         \u001b[0;32mif\u001b[0m \u001b[0;32mnot\u001b[0m \u001b[0mendrec\u001b[0m\u001b[0;34m:\u001b[0m\u001b[0;34m\u001b[0m\u001b[0;34m\u001b[0m\u001b[0m\n\u001b[0;32m-> 1325\u001b[0;31m             \u001b[0;32mraise\u001b[0m \u001b[0mBadZipFile\u001b[0m\u001b[0;34m(\u001b[0m\u001b[0;34m\"File is not a zip file\"\u001b[0m\u001b[0;34m)\u001b[0m\u001b[0;34m\u001b[0m\u001b[0;34m\u001b[0m\u001b[0m\n\u001b[0m\u001b[1;32m   1326\u001b[0m         \u001b[0;32mif\u001b[0m \u001b[0mself\u001b[0m\u001b[0;34m.\u001b[0m\u001b[0mdebug\u001b[0m \u001b[0;34m>\u001b[0m \u001b[0;36m1\u001b[0m\u001b[0;34m:\u001b[0m\u001b[0;34m\u001b[0m\u001b[0;34m\u001b[0m\u001b[0m\n\u001b[1;32m   1327\u001b[0m             \u001b[0mprint\u001b[0m\u001b[0;34m(\u001b[0m\u001b[0mendrec\u001b[0m\u001b[0;34m)\u001b[0m\u001b[0;34m\u001b[0m\u001b[0;34m\u001b[0m\u001b[0m\n",
            "\u001b[0;31mBadZipFile\u001b[0m: File is not a zip file"
          ]
        }
      ]
    },
    {
      "cell_type": "code",
      "source": [
        "import numpy as np\n",
        "import pandas as pd\n",
        "import re\n",
        "\n",
        "!pwd\n",
        "!ls"
      ],
      "metadata": {
        "id": "34qDzZUpqW5X",
        "colab": {
          "base_uri": "https://localhost:8080/"
        },
        "outputId": "4f7eab0a-840f-48d6-e6cf-633f1da2abf7"
      },
      "execution_count": 87,
      "outputs": [
        {
          "output_type": "stream",
          "name": "stdout",
          "text": [
            "/content\n",
            "sample_data  train.csv\n"
          ]
        }
      ]
    },
    {
      "cell_type": "code",
      "source": [
        "# здесь также определяем, что считать пропуском -\n",
        "# и определяем как NaN значения (самые на первый взгляд заметные и частые)\n",
        "\n",
        "data = pd.read_csv(\"train.csv\", encoding=\"utf-8\", on_bad_lines='skip', \n",
        "                   na_values = {\n",
        "                                \"target\": [\"NaN\"],\n",
        "                                \"surname\": [\"NaN\", \"-\", \"*\", \"---\", \".\"],\n",
        "                                \"name\": [\"NaN\", \"-\", \"*\", \"---\", \".\"],\n",
        "                                \"patronymic\": [\"NaN\", \"-\", \"*\", \"---\", \".\"]})\n",
        "#data.head(263)"
      ],
      "metadata": {
        "id": "71azpESTR_3U",
        "colab": {
          "base_uri": "https://localhost:8080/",
          "height": 424
        },
        "outputId": "898bdb99-4c21-4bdf-f75c-5b4598138a56"
      },
      "execution_count": 88,
      "outputs": [
        {
          "output_type": "execute_result",
          "data": {
            "text/plain": [
              "          Id    surname    name    patronymic  target\n",
              "0    2636471    ЯКУШОВА   ЕЛЕНА     СЕРГЕЕВНА     0.0\n",
              "1     165386  ВАБИЩЕВИЧ   ФЕДОР      ПЕТРОВИЧ     1.0\n",
              "2     243807   ГОЛУБЕВА   ОЛЬГА     АНТОНОВНА     0.0\n",
              "3     232582    ГЛАЗКОВ  АНДРЕЙ  ВЛАДИМИРОВИЧ     1.0\n",
              "4    3970023   ГАВРИЩУК    МАРК     ВАДИМОВИЧ     1.0\n",
              "..       ...        ...     ...           ...     ...\n",
              "258  4803552   МАКСИМОВ    ОЛЕГ  ВЛАДИМИРОВИЧ     1.0\n",
              "259  4697267    ЗУЙКОВА  ЛЮБОВЬ     ИЛЬИНИЧНА     0.0\n",
              "260  6038052   МАМАЛИГА    САВА           NaN     1.0\n",
              "261  4215560    ИВАНОВА   ОЛЬГА  ВЛАДИМИРОВНА     0.0\n",
              "262    43704   АНТИПОВА  ЛАРИСА    АЛЕКСЕЕВНА     0.0\n",
              "\n",
              "[263 rows x 5 columns]"
            ],
            "text/html": [
              "\n",
              "  <div id=\"df-0fd9d32c-9638-4cd0-a200-e45a73910c7e\">\n",
              "    <div class=\"colab-df-container\">\n",
              "      <div>\n",
              "<style scoped>\n",
              "    .dataframe tbody tr th:only-of-type {\n",
              "        vertical-align: middle;\n",
              "    }\n",
              "\n",
              "    .dataframe tbody tr th {\n",
              "        vertical-align: top;\n",
              "    }\n",
              "\n",
              "    .dataframe thead th {\n",
              "        text-align: right;\n",
              "    }\n",
              "</style>\n",
              "<table border=\"1\" class=\"dataframe\">\n",
              "  <thead>\n",
              "    <tr style=\"text-align: right;\">\n",
              "      <th></th>\n",
              "      <th>Id</th>\n",
              "      <th>surname</th>\n",
              "      <th>name</th>\n",
              "      <th>patronymic</th>\n",
              "      <th>target</th>\n",
              "    </tr>\n",
              "  </thead>\n",
              "  <tbody>\n",
              "    <tr>\n",
              "      <th>0</th>\n",
              "      <td>2636471</td>\n",
              "      <td>ЯКУШОВА</td>\n",
              "      <td>ЕЛЕНА</td>\n",
              "      <td>СЕРГЕЕВНА</td>\n",
              "      <td>0.0</td>\n",
              "    </tr>\n",
              "    <tr>\n",
              "      <th>1</th>\n",
              "      <td>165386</td>\n",
              "      <td>ВАБИЩЕВИЧ</td>\n",
              "      <td>ФЕДОР</td>\n",
              "      <td>ПЕТРОВИЧ</td>\n",
              "      <td>1.0</td>\n",
              "    </tr>\n",
              "    <tr>\n",
              "      <th>2</th>\n",
              "      <td>243807</td>\n",
              "      <td>ГОЛУБЕВА</td>\n",
              "      <td>ОЛЬГА</td>\n",
              "      <td>АНТОНОВНА</td>\n",
              "      <td>0.0</td>\n",
              "    </tr>\n",
              "    <tr>\n",
              "      <th>3</th>\n",
              "      <td>232582</td>\n",
              "      <td>ГЛАЗКОВ</td>\n",
              "      <td>АНДРЕЙ</td>\n",
              "      <td>ВЛАДИМИРОВИЧ</td>\n",
              "      <td>1.0</td>\n",
              "    </tr>\n",
              "    <tr>\n",
              "      <th>4</th>\n",
              "      <td>3970023</td>\n",
              "      <td>ГАВРИЩУК</td>\n",
              "      <td>МАРК</td>\n",
              "      <td>ВАДИМОВИЧ</td>\n",
              "      <td>1.0</td>\n",
              "    </tr>\n",
              "    <tr>\n",
              "      <th>...</th>\n",
              "      <td>...</td>\n",
              "      <td>...</td>\n",
              "      <td>...</td>\n",
              "      <td>...</td>\n",
              "      <td>...</td>\n",
              "    </tr>\n",
              "    <tr>\n",
              "      <th>258</th>\n",
              "      <td>4803552</td>\n",
              "      <td>МАКСИМОВ</td>\n",
              "      <td>ОЛЕГ</td>\n",
              "      <td>ВЛАДИМИРОВИЧ</td>\n",
              "      <td>1.0</td>\n",
              "    </tr>\n",
              "    <tr>\n",
              "      <th>259</th>\n",
              "      <td>4697267</td>\n",
              "      <td>ЗУЙКОВА</td>\n",
              "      <td>ЛЮБОВЬ</td>\n",
              "      <td>ИЛЬИНИЧНА</td>\n",
              "      <td>0.0</td>\n",
              "    </tr>\n",
              "    <tr>\n",
              "      <th>260</th>\n",
              "      <td>6038052</td>\n",
              "      <td>МАМАЛИГА</td>\n",
              "      <td>САВА</td>\n",
              "      <td>NaN</td>\n",
              "      <td>1.0</td>\n",
              "    </tr>\n",
              "    <tr>\n",
              "      <th>261</th>\n",
              "      <td>4215560</td>\n",
              "      <td>ИВАНОВА</td>\n",
              "      <td>ОЛЬГА</td>\n",
              "      <td>ВЛАДИМИРОВНА</td>\n",
              "      <td>0.0</td>\n",
              "    </tr>\n",
              "    <tr>\n",
              "      <th>262</th>\n",
              "      <td>43704</td>\n",
              "      <td>АНТИПОВА</td>\n",
              "      <td>ЛАРИСА</td>\n",
              "      <td>АЛЕКСЕЕВНА</td>\n",
              "      <td>0.0</td>\n",
              "    </tr>\n",
              "  </tbody>\n",
              "</table>\n",
              "<p>263 rows × 5 columns</p>\n",
              "</div>\n",
              "      <button class=\"colab-df-convert\" onclick=\"convertToInteractive('df-0fd9d32c-9638-4cd0-a200-e45a73910c7e')\"\n",
              "              title=\"Convert this dataframe to an interactive table.\"\n",
              "              style=\"display:none;\">\n",
              "        \n",
              "  <svg xmlns=\"http://www.w3.org/2000/svg\" height=\"24px\"viewBox=\"0 0 24 24\"\n",
              "       width=\"24px\">\n",
              "    <path d=\"M0 0h24v24H0V0z\" fill=\"none\"/>\n",
              "    <path d=\"M18.56 5.44l.94 2.06.94-2.06 2.06-.94-2.06-.94-.94-2.06-.94 2.06-2.06.94zm-11 1L8.5 8.5l.94-2.06 2.06-.94-2.06-.94L8.5 2.5l-.94 2.06-2.06.94zm10 10l.94 2.06.94-2.06 2.06-.94-2.06-.94-.94-2.06-.94 2.06-2.06.94z\"/><path d=\"M17.41 7.96l-1.37-1.37c-.4-.4-.92-.59-1.43-.59-.52 0-1.04.2-1.43.59L10.3 9.45l-7.72 7.72c-.78.78-.78 2.05 0 2.83L4 21.41c.39.39.9.59 1.41.59.51 0 1.02-.2 1.41-.59l7.78-7.78 2.81-2.81c.8-.78.8-2.07 0-2.86zM5.41 20L4 18.59l7.72-7.72 1.47 1.35L5.41 20z\"/>\n",
              "  </svg>\n",
              "      </button>\n",
              "      \n",
              "  <style>\n",
              "    .colab-df-container {\n",
              "      display:flex;\n",
              "      flex-wrap:wrap;\n",
              "      gap: 12px;\n",
              "    }\n",
              "\n",
              "    .colab-df-convert {\n",
              "      background-color: #E8F0FE;\n",
              "      border: none;\n",
              "      border-radius: 50%;\n",
              "      cursor: pointer;\n",
              "      display: none;\n",
              "      fill: #1967D2;\n",
              "      height: 32px;\n",
              "      padding: 0 0 0 0;\n",
              "      width: 32px;\n",
              "    }\n",
              "\n",
              "    .colab-df-convert:hover {\n",
              "      background-color: #E2EBFA;\n",
              "      box-shadow: 0px 1px 2px rgba(60, 64, 67, 0.3), 0px 1px 3px 1px rgba(60, 64, 67, 0.15);\n",
              "      fill: #174EA6;\n",
              "    }\n",
              "\n",
              "    [theme=dark] .colab-df-convert {\n",
              "      background-color: #3B4455;\n",
              "      fill: #D2E3FC;\n",
              "    }\n",
              "\n",
              "    [theme=dark] .colab-df-convert:hover {\n",
              "      background-color: #434B5C;\n",
              "      box-shadow: 0px 1px 3px 1px rgba(0, 0, 0, 0.15);\n",
              "      filter: drop-shadow(0px 1px 2px rgba(0, 0, 0, 0.3));\n",
              "      fill: #FFFFFF;\n",
              "    }\n",
              "  </style>\n",
              "\n",
              "      <script>\n",
              "        const buttonEl =\n",
              "          document.querySelector('#df-0fd9d32c-9638-4cd0-a200-e45a73910c7e button.colab-df-convert');\n",
              "        buttonEl.style.display =\n",
              "          google.colab.kernel.accessAllowed ? 'block' : 'none';\n",
              "\n",
              "        async function convertToInteractive(key) {\n",
              "          const element = document.querySelector('#df-0fd9d32c-9638-4cd0-a200-e45a73910c7e');\n",
              "          const dataTable =\n",
              "            await google.colab.kernel.invokeFunction('convertToInteractive',\n",
              "                                                     [key], {});\n",
              "          if (!dataTable) return;\n",
              "\n",
              "          const docLinkHtml = 'Like what you see? Visit the ' +\n",
              "            '<a target=\"_blank\" href=https://colab.research.google.com/notebooks/data_table.ipynb>data table notebook</a>'\n",
              "            + ' to learn more about interactive tables.';\n",
              "          element.innerHTML = '';\n",
              "          dataTable['output_type'] = 'display_data';\n",
              "          await google.colab.output.renderOutput(dataTable, element);\n",
              "          const docLink = document.createElement('div');\n",
              "          docLink.innerHTML = docLinkHtml;\n",
              "          element.appendChild(docLink);\n",
              "        }\n",
              "      </script>\n",
              "    </div>\n",
              "  </div>\n",
              "  "
            ]
          },
          "metadata": {},
          "execution_count": 88
        }
      ]
    },
    {
      "cell_type": "code",
      "source": [
        "#data.shape"
      ],
      "metadata": {
        "colab": {
          "base_uri": "https://localhost:8080/"
        },
        "id": "j7v0Po9_ViFD",
        "outputId": "112f8e75-a482-416e-8857-783cd02bb39c"
      },
      "execution_count": 89,
      "outputs": [
        {
          "output_type": "execute_result",
          "data": {
            "text/plain": [
              "(5917177, 5)"
            ]
          },
          "metadata": {},
          "execution_count": 89
        }
      ]
    },
    {
      "cell_type": "code",
      "source": [
        "males = data.loc[data['target'] == 1.0]\n",
        "females = data.loc[data['target'] == 0.0]"
      ],
      "metadata": {
        "id": "V1BasNTlujtr"
      },
      "execution_count": 44,
      "outputs": []
    },
    {
      "cell_type": "code",
      "source": [
        "# Задание 1.1"
      ],
      "metadata": {
        "id": "v0KP_P8bv63U"
      },
      "execution_count": null,
      "outputs": []
    },
    {
      "cell_type": "code",
      "source": [
        "# общий обзор\n",
        "\n",
        "data.describe(include='all')"
      ],
      "metadata": {
        "colab": {
          "base_uri": "https://localhost:8080/",
          "height": 394
        },
        "id": "f81HB8T61XRN",
        "outputId": "18eed738-b864-478d-f016-32df8842e0f7"
      },
      "execution_count": null,
      "outputs": [
        {
          "output_type": "execute_result",
          "data": {
            "text/plain": [
              "                  Id  surname       name     patronymic        target\n",
              "count   5.917177e+06  5917094    5917032        5900432  5.917169e+06\n",
              "unique           NaN   375149      43832          78389           NaN\n",
              "top              NaN  ИВАНОВА  АЛЕКСАНДР  АЛЕКСАНДРОВНА           NaN\n",
              "freq             NaN    23079     257696         295265           NaN\n",
              "mean    3.114239e+06      NaN        NaN            NaN  4.372273e-01\n",
              "std     1.798065e+06      NaN        NaN            NaN  4.960440e-01\n",
              "min     0.000000e+00      NaN        NaN            NaN  0.000000e+00\n",
              "25%     1.556910e+06      NaN        NaN            NaN  0.000000e+00\n",
              "50%     3.114242e+06      NaN        NaN            NaN  0.000000e+00\n",
              "75%     4.671429e+06      NaN        NaN            NaN  1.000000e+00\n",
              "max     6.228607e+06      NaN        NaN            NaN  1.000000e+00"
            ],
            "text/html": [
              "\n",
              "  <div id=\"df-cf868b9e-fb17-4316-823f-24be84ba656c\">\n",
              "    <div class=\"colab-df-container\">\n",
              "      <div>\n",
              "<style scoped>\n",
              "    .dataframe tbody tr th:only-of-type {\n",
              "        vertical-align: middle;\n",
              "    }\n",
              "\n",
              "    .dataframe tbody tr th {\n",
              "        vertical-align: top;\n",
              "    }\n",
              "\n",
              "    .dataframe thead th {\n",
              "        text-align: right;\n",
              "    }\n",
              "</style>\n",
              "<table border=\"1\" class=\"dataframe\">\n",
              "  <thead>\n",
              "    <tr style=\"text-align: right;\">\n",
              "      <th></th>\n",
              "      <th>Id</th>\n",
              "      <th>surname</th>\n",
              "      <th>name</th>\n",
              "      <th>patronymic</th>\n",
              "      <th>target</th>\n",
              "    </tr>\n",
              "  </thead>\n",
              "  <tbody>\n",
              "    <tr>\n",
              "      <th>count</th>\n",
              "      <td>5.917177e+06</td>\n",
              "      <td>5917094</td>\n",
              "      <td>5917032</td>\n",
              "      <td>5900432</td>\n",
              "      <td>5.917169e+06</td>\n",
              "    </tr>\n",
              "    <tr>\n",
              "      <th>unique</th>\n",
              "      <td>NaN</td>\n",
              "      <td>375149</td>\n",
              "      <td>43832</td>\n",
              "      <td>78389</td>\n",
              "      <td>NaN</td>\n",
              "    </tr>\n",
              "    <tr>\n",
              "      <th>top</th>\n",
              "      <td>NaN</td>\n",
              "      <td>ИВАНОВА</td>\n",
              "      <td>АЛЕКСАНДР</td>\n",
              "      <td>АЛЕКСАНДРОВНА</td>\n",
              "      <td>NaN</td>\n",
              "    </tr>\n",
              "    <tr>\n",
              "      <th>freq</th>\n",
              "      <td>NaN</td>\n",
              "      <td>23079</td>\n",
              "      <td>257696</td>\n",
              "      <td>295265</td>\n",
              "      <td>NaN</td>\n",
              "    </tr>\n",
              "    <tr>\n",
              "      <th>mean</th>\n",
              "      <td>3.114239e+06</td>\n",
              "      <td>NaN</td>\n",
              "      <td>NaN</td>\n",
              "      <td>NaN</td>\n",
              "      <td>4.372273e-01</td>\n",
              "    </tr>\n",
              "    <tr>\n",
              "      <th>std</th>\n",
              "      <td>1.798065e+06</td>\n",
              "      <td>NaN</td>\n",
              "      <td>NaN</td>\n",
              "      <td>NaN</td>\n",
              "      <td>4.960440e-01</td>\n",
              "    </tr>\n",
              "    <tr>\n",
              "      <th>min</th>\n",
              "      <td>0.000000e+00</td>\n",
              "      <td>NaN</td>\n",
              "      <td>NaN</td>\n",
              "      <td>NaN</td>\n",
              "      <td>0.000000e+00</td>\n",
              "    </tr>\n",
              "    <tr>\n",
              "      <th>25%</th>\n",
              "      <td>1.556910e+06</td>\n",
              "      <td>NaN</td>\n",
              "      <td>NaN</td>\n",
              "      <td>NaN</td>\n",
              "      <td>0.000000e+00</td>\n",
              "    </tr>\n",
              "    <tr>\n",
              "      <th>50%</th>\n",
              "      <td>3.114242e+06</td>\n",
              "      <td>NaN</td>\n",
              "      <td>NaN</td>\n",
              "      <td>NaN</td>\n",
              "      <td>0.000000e+00</td>\n",
              "    </tr>\n",
              "    <tr>\n",
              "      <th>75%</th>\n",
              "      <td>4.671429e+06</td>\n",
              "      <td>NaN</td>\n",
              "      <td>NaN</td>\n",
              "      <td>NaN</td>\n",
              "      <td>1.000000e+00</td>\n",
              "    </tr>\n",
              "    <tr>\n",
              "      <th>max</th>\n",
              "      <td>6.228607e+06</td>\n",
              "      <td>NaN</td>\n",
              "      <td>NaN</td>\n",
              "      <td>NaN</td>\n",
              "      <td>1.000000e+00</td>\n",
              "    </tr>\n",
              "  </tbody>\n",
              "</table>\n",
              "</div>\n",
              "      <button class=\"colab-df-convert\" onclick=\"convertToInteractive('df-cf868b9e-fb17-4316-823f-24be84ba656c')\"\n",
              "              title=\"Convert this dataframe to an interactive table.\"\n",
              "              style=\"display:none;\">\n",
              "        \n",
              "  <svg xmlns=\"http://www.w3.org/2000/svg\" height=\"24px\"viewBox=\"0 0 24 24\"\n",
              "       width=\"24px\">\n",
              "    <path d=\"M0 0h24v24H0V0z\" fill=\"none\"/>\n",
              "    <path d=\"M18.56 5.44l.94 2.06.94-2.06 2.06-.94-2.06-.94-.94-2.06-.94 2.06-2.06.94zm-11 1L8.5 8.5l.94-2.06 2.06-.94-2.06-.94L8.5 2.5l-.94 2.06-2.06.94zm10 10l.94 2.06.94-2.06 2.06-.94-2.06-.94-.94-2.06-.94 2.06-2.06.94z\"/><path d=\"M17.41 7.96l-1.37-1.37c-.4-.4-.92-.59-1.43-.59-.52 0-1.04.2-1.43.59L10.3 9.45l-7.72 7.72c-.78.78-.78 2.05 0 2.83L4 21.41c.39.39.9.59 1.41.59.51 0 1.02-.2 1.41-.59l7.78-7.78 2.81-2.81c.8-.78.8-2.07 0-2.86zM5.41 20L4 18.59l7.72-7.72 1.47 1.35L5.41 20z\"/>\n",
              "  </svg>\n",
              "      </button>\n",
              "      \n",
              "  <style>\n",
              "    .colab-df-container {\n",
              "      display:flex;\n",
              "      flex-wrap:wrap;\n",
              "      gap: 12px;\n",
              "    }\n",
              "\n",
              "    .colab-df-convert {\n",
              "      background-color: #E8F0FE;\n",
              "      border: none;\n",
              "      border-radius: 50%;\n",
              "      cursor: pointer;\n",
              "      display: none;\n",
              "      fill: #1967D2;\n",
              "      height: 32px;\n",
              "      padding: 0 0 0 0;\n",
              "      width: 32px;\n",
              "    }\n",
              "\n",
              "    .colab-df-convert:hover {\n",
              "      background-color: #E2EBFA;\n",
              "      box-shadow: 0px 1px 2px rgba(60, 64, 67, 0.3), 0px 1px 3px 1px rgba(60, 64, 67, 0.15);\n",
              "      fill: #174EA6;\n",
              "    }\n",
              "\n",
              "    [theme=dark] .colab-df-convert {\n",
              "      background-color: #3B4455;\n",
              "      fill: #D2E3FC;\n",
              "    }\n",
              "\n",
              "    [theme=dark] .colab-df-convert:hover {\n",
              "      background-color: #434B5C;\n",
              "      box-shadow: 0px 1px 3px 1px rgba(0, 0, 0, 0.15);\n",
              "      filter: drop-shadow(0px 1px 2px rgba(0, 0, 0, 0.3));\n",
              "      fill: #FFFFFF;\n",
              "    }\n",
              "  </style>\n",
              "\n",
              "      <script>\n",
              "        const buttonEl =\n",
              "          document.querySelector('#df-cf868b9e-fb17-4316-823f-24be84ba656c button.colab-df-convert');\n",
              "        buttonEl.style.display =\n",
              "          google.colab.kernel.accessAllowed ? 'block' : 'none';\n",
              "\n",
              "        async function convertToInteractive(key) {\n",
              "          const element = document.querySelector('#df-cf868b9e-fb17-4316-823f-24be84ba656c');\n",
              "          const dataTable =\n",
              "            await google.colab.kernel.invokeFunction('convertToInteractive',\n",
              "                                                     [key], {});\n",
              "          if (!dataTable) return;\n",
              "\n",
              "          const docLinkHtml = 'Like what you see? Visit the ' +\n",
              "            '<a target=\"_blank\" href=https://colab.research.google.com/notebooks/data_table.ipynb>data table notebook</a>'\n",
              "            + ' to learn more about interactive tables.';\n",
              "          element.innerHTML = '';\n",
              "          dataTable['output_type'] = 'display_data';\n",
              "          await google.colab.output.renderOutput(dataTable, element);\n",
              "          const docLink = document.createElement('div');\n",
              "          docLink.innerHTML = docLinkHtml;\n",
              "          element.appendChild(docLink);\n",
              "        }\n",
              "      </script>\n",
              "    </div>\n",
              "  </div>\n",
              "  "
            ]
          },
          "metadata": {},
          "execution_count": 11
        }
      ]
    },
    {
      "cell_type": "code",
      "source": [
        "# место и количество пропущенных данных\n",
        "\n",
        "print(pd.isnull(data).sum())"
      ],
      "metadata": {
        "colab": {
          "base_uri": "https://localhost:8080/"
        },
        "id": "iI_KSynD13U2",
        "outputId": "f4776029-826f-4a5b-9040-50c155b4d513"
      },
      "execution_count": null,
      "outputs": [
        {
          "output_type": "stream",
          "name": "stdout",
          "text": [
            "Id                0\n",
            "surname          83\n",
            "name            145\n",
            "patronymic    16745\n",
            "target            8\n",
            "dtype: int64\n"
          ]
        }
      ]
    },
    {
      "cell_type": "code",
      "source": [
        "# пропуски в графах фамилия (83), имя (145), отчество (16745) и пол (8)\n",
        "# заполнить можно только пол, \n",
        "# остальные строки с отсутствующими данными удалить"
      ],
      "metadata": {
        "id": "Hmr6TohW1_K4"
      },
      "execution_count": null,
      "outputs": []
    },
    {
      "cell_type": "code",
      "source": [
        "# вот так можно заполнить пол, где он пропущен\n",
        "\n",
        "if str(data['patronymic'])[-1] == \"А\": \n",
        "    data['target'].fillna(0.0, inplace=True)\n",
        "else:\n",
        "    data['target'].fillna(1.0, inplace=True)"
      ],
      "metadata": {
        "id": "vljpX4kIWS2R"
      },
      "execution_count": null,
      "outputs": []
    },
    {
      "cell_type": "code",
      "source": [
        "# понимаем, что он пропущен не у людей, поэтому ничего не заполняем, потом удалим\n",
        "\n",
        "data[data['target'].isnull()]"
      ],
      "metadata": {
        "colab": {
          "base_uri": "https://localhost:8080/",
          "height": 300
        },
        "id": "E4cBZ7rjZawl",
        "outputId": "e6977c72-10ef-485c-92d8-7c38269537a1"
      },
      "execution_count": null,
      "outputs": [
        {
          "output_type": "execute_result",
          "data": {
            "text/plain": [
              "              Id               surname           name            patronymic  \\\n",
              "749245   1665280               1900304      МАЛАХОВКА             УЛ.КАЛИНИ   \n",
              "755005   1654031   ЗАО ПРЕДПРИЯТИЕ ИТИ   ПО ПОСТ.ИНФ.                 ТЕХНО   \n",
              "2254715  1752987   УПРАВЛЕНИЕ ПО ДЕЛАМ       МОЛОДЕЖИ              КУЛЬТУРЫ   \n",
              "2551660  1654029      АООТЭЛЕКТРОСВЯЗЬ              О  /З-Й УЗЕЛ ЭЛЕКТРОСВЯ   \n",
              "3313534  1665290               1900163        ЛЮБЕРЦЫ              УЛ.ЮЖНАЯ   \n",
              "5341561  1656255  КОМИТЕТ ПО ФИЗИЧЕСКО     Й КУЛЬТУРЕ                СПОРТУ   \n",
              "5476144  1654030   ЗАО ПРЕДПРИЯТИЕ ИТИ   ПО ПОСТ.ИНФ.                 ТЕХНО   \n",
              "5600867  1650995   УПРАВЛЕНИЕ ПО ДЕЛАМ       МОЛОДЕЖИ              КУЛЬТУРЫ   \n",
              "\n",
              "         target  \n",
              "749245      NaN  \n",
              "755005      NaN  \n",
              "2254715     NaN  \n",
              "2551660     NaN  \n",
              "3313534     NaN  \n",
              "5341561     NaN  \n",
              "5476144     NaN  \n",
              "5600867     NaN  "
            ],
            "text/html": [
              "\n",
              "  <div id=\"df-3c01a43f-c17e-4c4e-8c8a-88f8f33ac524\">\n",
              "    <div class=\"colab-df-container\">\n",
              "      <div>\n",
              "<style scoped>\n",
              "    .dataframe tbody tr th:only-of-type {\n",
              "        vertical-align: middle;\n",
              "    }\n",
              "\n",
              "    .dataframe tbody tr th {\n",
              "        vertical-align: top;\n",
              "    }\n",
              "\n",
              "    .dataframe thead th {\n",
              "        text-align: right;\n",
              "    }\n",
              "</style>\n",
              "<table border=\"1\" class=\"dataframe\">\n",
              "  <thead>\n",
              "    <tr style=\"text-align: right;\">\n",
              "      <th></th>\n",
              "      <th>Id</th>\n",
              "      <th>surname</th>\n",
              "      <th>name</th>\n",
              "      <th>patronymic</th>\n",
              "      <th>target</th>\n",
              "    </tr>\n",
              "  </thead>\n",
              "  <tbody>\n",
              "    <tr>\n",
              "      <th>749245</th>\n",
              "      <td>1665280</td>\n",
              "      <td>1900304</td>\n",
              "      <td>МАЛАХОВКА</td>\n",
              "      <td>УЛ.КАЛИНИ</td>\n",
              "      <td>NaN</td>\n",
              "    </tr>\n",
              "    <tr>\n",
              "      <th>755005</th>\n",
              "      <td>1654031</td>\n",
              "      <td>ЗАО ПРЕДПРИЯТИЕ ИТИ</td>\n",
              "      <td>ПО ПОСТ.ИНФ.</td>\n",
              "      <td>ТЕХНО</td>\n",
              "      <td>NaN</td>\n",
              "    </tr>\n",
              "    <tr>\n",
              "      <th>2254715</th>\n",
              "      <td>1752987</td>\n",
              "      <td>УПРАВЛЕНИЕ ПО ДЕЛАМ</td>\n",
              "      <td>МОЛОДЕЖИ</td>\n",
              "      <td>КУЛЬТУРЫ</td>\n",
              "      <td>NaN</td>\n",
              "    </tr>\n",
              "    <tr>\n",
              "      <th>2551660</th>\n",
              "      <td>1654029</td>\n",
              "      <td>АООТЭЛЕКТРОСВЯЗЬ</td>\n",
              "      <td>О</td>\n",
              "      <td>/З-Й УЗЕЛ ЭЛЕКТРОСВЯ</td>\n",
              "      <td>NaN</td>\n",
              "    </tr>\n",
              "    <tr>\n",
              "      <th>3313534</th>\n",
              "      <td>1665290</td>\n",
              "      <td>1900163</td>\n",
              "      <td>ЛЮБЕРЦЫ</td>\n",
              "      <td>УЛ.ЮЖНАЯ</td>\n",
              "      <td>NaN</td>\n",
              "    </tr>\n",
              "    <tr>\n",
              "      <th>5341561</th>\n",
              "      <td>1656255</td>\n",
              "      <td>КОМИТЕТ ПО ФИЗИЧЕСКО</td>\n",
              "      <td>Й КУЛЬТУРЕ</td>\n",
              "      <td>СПОРТУ</td>\n",
              "      <td>NaN</td>\n",
              "    </tr>\n",
              "    <tr>\n",
              "      <th>5476144</th>\n",
              "      <td>1654030</td>\n",
              "      <td>ЗАО ПРЕДПРИЯТИЕ ИТИ</td>\n",
              "      <td>ПО ПОСТ.ИНФ.</td>\n",
              "      <td>ТЕХНО</td>\n",
              "      <td>NaN</td>\n",
              "    </tr>\n",
              "    <tr>\n",
              "      <th>5600867</th>\n",
              "      <td>1650995</td>\n",
              "      <td>УПРАВЛЕНИЕ ПО ДЕЛАМ</td>\n",
              "      <td>МОЛОДЕЖИ</td>\n",
              "      <td>КУЛЬТУРЫ</td>\n",
              "      <td>NaN</td>\n",
              "    </tr>\n",
              "  </tbody>\n",
              "</table>\n",
              "</div>\n",
              "      <button class=\"colab-df-convert\" onclick=\"convertToInteractive('df-3c01a43f-c17e-4c4e-8c8a-88f8f33ac524')\"\n",
              "              title=\"Convert this dataframe to an interactive table.\"\n",
              "              style=\"display:none;\">\n",
              "        \n",
              "  <svg xmlns=\"http://www.w3.org/2000/svg\" height=\"24px\"viewBox=\"0 0 24 24\"\n",
              "       width=\"24px\">\n",
              "    <path d=\"M0 0h24v24H0V0z\" fill=\"none\"/>\n",
              "    <path d=\"M18.56 5.44l.94 2.06.94-2.06 2.06-.94-2.06-.94-.94-2.06-.94 2.06-2.06.94zm-11 1L8.5 8.5l.94-2.06 2.06-.94-2.06-.94L8.5 2.5l-.94 2.06-2.06.94zm10 10l.94 2.06.94-2.06 2.06-.94-2.06-.94-.94-2.06-.94 2.06-2.06.94z\"/><path d=\"M17.41 7.96l-1.37-1.37c-.4-.4-.92-.59-1.43-.59-.52 0-1.04.2-1.43.59L10.3 9.45l-7.72 7.72c-.78.78-.78 2.05 0 2.83L4 21.41c.39.39.9.59 1.41.59.51 0 1.02-.2 1.41-.59l7.78-7.78 2.81-2.81c.8-.78.8-2.07 0-2.86zM5.41 20L4 18.59l7.72-7.72 1.47 1.35L5.41 20z\"/>\n",
              "  </svg>\n",
              "      </button>\n",
              "      \n",
              "  <style>\n",
              "    .colab-df-container {\n",
              "      display:flex;\n",
              "      flex-wrap:wrap;\n",
              "      gap: 12px;\n",
              "    }\n",
              "\n",
              "    .colab-df-convert {\n",
              "      background-color: #E8F0FE;\n",
              "      border: none;\n",
              "      border-radius: 50%;\n",
              "      cursor: pointer;\n",
              "      display: none;\n",
              "      fill: #1967D2;\n",
              "      height: 32px;\n",
              "      padding: 0 0 0 0;\n",
              "      width: 32px;\n",
              "    }\n",
              "\n",
              "    .colab-df-convert:hover {\n",
              "      background-color: #E2EBFA;\n",
              "      box-shadow: 0px 1px 2px rgba(60, 64, 67, 0.3), 0px 1px 3px 1px rgba(60, 64, 67, 0.15);\n",
              "      fill: #174EA6;\n",
              "    }\n",
              "\n",
              "    [theme=dark] .colab-df-convert {\n",
              "      background-color: #3B4455;\n",
              "      fill: #D2E3FC;\n",
              "    }\n",
              "\n",
              "    [theme=dark] .colab-df-convert:hover {\n",
              "      background-color: #434B5C;\n",
              "      box-shadow: 0px 1px 3px 1px rgba(0, 0, 0, 0.15);\n",
              "      filter: drop-shadow(0px 1px 2px rgba(0, 0, 0, 0.3));\n",
              "      fill: #FFFFFF;\n",
              "    }\n",
              "  </style>\n",
              "\n",
              "      <script>\n",
              "        const buttonEl =\n",
              "          document.querySelector('#df-3c01a43f-c17e-4c4e-8c8a-88f8f33ac524 button.colab-df-convert');\n",
              "        buttonEl.style.display =\n",
              "          google.colab.kernel.accessAllowed ? 'block' : 'none';\n",
              "\n",
              "        async function convertToInteractive(key) {\n",
              "          const element = document.querySelector('#df-3c01a43f-c17e-4c4e-8c8a-88f8f33ac524');\n",
              "          const dataTable =\n",
              "            await google.colab.kernel.invokeFunction('convertToInteractive',\n",
              "                                                     [key], {});\n",
              "          if (!dataTable) return;\n",
              "\n",
              "          const docLinkHtml = 'Like what you see? Visit the ' +\n",
              "            '<a target=\"_blank\" href=https://colab.research.google.com/notebooks/data_table.ipynb>data table notebook</a>'\n",
              "            + ' to learn more about interactive tables.';\n",
              "          element.innerHTML = '';\n",
              "          dataTable['output_type'] = 'display_data';\n",
              "          await google.colab.output.renderOutput(dataTable, element);\n",
              "          const docLink = document.createElement('div');\n",
              "          docLink.innerHTML = docLinkHtml;\n",
              "          element.appendChild(docLink);\n",
              "        }\n",
              "      </script>\n",
              "    </div>\n",
              "  </div>\n",
              "  "
            ]
          },
          "metadata": {},
          "execution_count": 20
        }
      ]
    },
    {
      "cell_type": "code",
      "source": [
        "# удаляем все строки с пропусками (имя, фамилию и отчество невозможно восстановить)\n",
        "# можно, конечно, заполнить самыми распространенными, но поскольку процент пропусков небольшой, лучше удалить\n",
        "# искать дубликаты и заполнять оттуда тоже бессмысленно, мы их все равно потом удалим\n",
        "\n",
        "data.dropna(axis=0,inplace=True)\n",
        "\n",
        "#data.head(263)"
      ],
      "metadata": {
        "colab": {
          "base_uri": "https://localhost:8080/",
          "height": 424
        },
        "id": "EMiufv9MRl4m",
        "outputId": "ec31234f-e000-430b-8b32-99947d0388ff"
      },
      "execution_count": 90,
      "outputs": [
        {
          "output_type": "execute_result",
          "data": {
            "text/plain": [
              "          Id    surname    name    patronymic  target\n",
              "0    2636471    ЯКУШОВА   ЕЛЕНА     СЕРГЕЕВНА     0.0\n",
              "1     165386  ВАБИЩЕВИЧ   ФЕДОР      ПЕТРОВИЧ     1.0\n",
              "2     243807   ГОЛУБЕВА   ОЛЬГА     АНТОНОВНА     0.0\n",
              "3     232582    ГЛАЗКОВ  АНДРЕЙ  ВЛАДИМИРОВИЧ     1.0\n",
              "4    3970023   ГАВРИЩУК    МАРК     ВАДИМОВИЧ     1.0\n",
              "..       ...        ...     ...           ...     ...\n",
              "258  4803552   МАКСИМОВ    ОЛЕГ  ВЛАДИМИРОВИЧ     1.0\n",
              "259  4697267    ЗУЙКОВА  ЛЮБОВЬ     ИЛЬИНИЧНА     0.0\n",
              "261  4215560    ИВАНОВА   ОЛЬГА  ВЛАДИМИРОВНА     0.0\n",
              "262    43704   АНТИПОВА  ЛАРИСА    АЛЕКСЕЕВНА     0.0\n",
              "263  4730165   ЛЕБЕДЕВА  МАРИНА    НИКОЛАЕВНА     0.0\n",
              "\n",
              "[263 rows x 5 columns]"
            ],
            "text/html": [
              "\n",
              "  <div id=\"df-113f4c79-7bd8-40f2-aa1e-36c4bcb7015d\">\n",
              "    <div class=\"colab-df-container\">\n",
              "      <div>\n",
              "<style scoped>\n",
              "    .dataframe tbody tr th:only-of-type {\n",
              "        vertical-align: middle;\n",
              "    }\n",
              "\n",
              "    .dataframe tbody tr th {\n",
              "        vertical-align: top;\n",
              "    }\n",
              "\n",
              "    .dataframe thead th {\n",
              "        text-align: right;\n",
              "    }\n",
              "</style>\n",
              "<table border=\"1\" class=\"dataframe\">\n",
              "  <thead>\n",
              "    <tr style=\"text-align: right;\">\n",
              "      <th></th>\n",
              "      <th>Id</th>\n",
              "      <th>surname</th>\n",
              "      <th>name</th>\n",
              "      <th>patronymic</th>\n",
              "      <th>target</th>\n",
              "    </tr>\n",
              "  </thead>\n",
              "  <tbody>\n",
              "    <tr>\n",
              "      <th>0</th>\n",
              "      <td>2636471</td>\n",
              "      <td>ЯКУШОВА</td>\n",
              "      <td>ЕЛЕНА</td>\n",
              "      <td>СЕРГЕЕВНА</td>\n",
              "      <td>0.0</td>\n",
              "    </tr>\n",
              "    <tr>\n",
              "      <th>1</th>\n",
              "      <td>165386</td>\n",
              "      <td>ВАБИЩЕВИЧ</td>\n",
              "      <td>ФЕДОР</td>\n",
              "      <td>ПЕТРОВИЧ</td>\n",
              "      <td>1.0</td>\n",
              "    </tr>\n",
              "    <tr>\n",
              "      <th>2</th>\n",
              "      <td>243807</td>\n",
              "      <td>ГОЛУБЕВА</td>\n",
              "      <td>ОЛЬГА</td>\n",
              "      <td>АНТОНОВНА</td>\n",
              "      <td>0.0</td>\n",
              "    </tr>\n",
              "    <tr>\n",
              "      <th>3</th>\n",
              "      <td>232582</td>\n",
              "      <td>ГЛАЗКОВ</td>\n",
              "      <td>АНДРЕЙ</td>\n",
              "      <td>ВЛАДИМИРОВИЧ</td>\n",
              "      <td>1.0</td>\n",
              "    </tr>\n",
              "    <tr>\n",
              "      <th>4</th>\n",
              "      <td>3970023</td>\n",
              "      <td>ГАВРИЩУК</td>\n",
              "      <td>МАРК</td>\n",
              "      <td>ВАДИМОВИЧ</td>\n",
              "      <td>1.0</td>\n",
              "    </tr>\n",
              "    <tr>\n",
              "      <th>...</th>\n",
              "      <td>...</td>\n",
              "      <td>...</td>\n",
              "      <td>...</td>\n",
              "      <td>...</td>\n",
              "      <td>...</td>\n",
              "    </tr>\n",
              "    <tr>\n",
              "      <th>258</th>\n",
              "      <td>4803552</td>\n",
              "      <td>МАКСИМОВ</td>\n",
              "      <td>ОЛЕГ</td>\n",
              "      <td>ВЛАДИМИРОВИЧ</td>\n",
              "      <td>1.0</td>\n",
              "    </tr>\n",
              "    <tr>\n",
              "      <th>259</th>\n",
              "      <td>4697267</td>\n",
              "      <td>ЗУЙКОВА</td>\n",
              "      <td>ЛЮБОВЬ</td>\n",
              "      <td>ИЛЬИНИЧНА</td>\n",
              "      <td>0.0</td>\n",
              "    </tr>\n",
              "    <tr>\n",
              "      <th>261</th>\n",
              "      <td>4215560</td>\n",
              "      <td>ИВАНОВА</td>\n",
              "      <td>ОЛЬГА</td>\n",
              "      <td>ВЛАДИМИРОВНА</td>\n",
              "      <td>0.0</td>\n",
              "    </tr>\n",
              "    <tr>\n",
              "      <th>262</th>\n",
              "      <td>43704</td>\n",
              "      <td>АНТИПОВА</td>\n",
              "      <td>ЛАРИСА</td>\n",
              "      <td>АЛЕКСЕЕВНА</td>\n",
              "      <td>0.0</td>\n",
              "    </tr>\n",
              "    <tr>\n",
              "      <th>263</th>\n",
              "      <td>4730165</td>\n",
              "      <td>ЛЕБЕДЕВА</td>\n",
              "      <td>МАРИНА</td>\n",
              "      <td>НИКОЛАЕВНА</td>\n",
              "      <td>0.0</td>\n",
              "    </tr>\n",
              "  </tbody>\n",
              "</table>\n",
              "<p>263 rows × 5 columns</p>\n",
              "</div>\n",
              "      <button class=\"colab-df-convert\" onclick=\"convertToInteractive('df-113f4c79-7bd8-40f2-aa1e-36c4bcb7015d')\"\n",
              "              title=\"Convert this dataframe to an interactive table.\"\n",
              "              style=\"display:none;\">\n",
              "        \n",
              "  <svg xmlns=\"http://www.w3.org/2000/svg\" height=\"24px\"viewBox=\"0 0 24 24\"\n",
              "       width=\"24px\">\n",
              "    <path d=\"M0 0h24v24H0V0z\" fill=\"none\"/>\n",
              "    <path d=\"M18.56 5.44l.94 2.06.94-2.06 2.06-.94-2.06-.94-.94-2.06-.94 2.06-2.06.94zm-11 1L8.5 8.5l.94-2.06 2.06-.94-2.06-.94L8.5 2.5l-.94 2.06-2.06.94zm10 10l.94 2.06.94-2.06 2.06-.94-2.06-.94-.94-2.06-.94 2.06-2.06.94z\"/><path d=\"M17.41 7.96l-1.37-1.37c-.4-.4-.92-.59-1.43-.59-.52 0-1.04.2-1.43.59L10.3 9.45l-7.72 7.72c-.78.78-.78 2.05 0 2.83L4 21.41c.39.39.9.59 1.41.59.51 0 1.02-.2 1.41-.59l7.78-7.78 2.81-2.81c.8-.78.8-2.07 0-2.86zM5.41 20L4 18.59l7.72-7.72 1.47 1.35L5.41 20z\"/>\n",
              "  </svg>\n",
              "      </button>\n",
              "      \n",
              "  <style>\n",
              "    .colab-df-container {\n",
              "      display:flex;\n",
              "      flex-wrap:wrap;\n",
              "      gap: 12px;\n",
              "    }\n",
              "\n",
              "    .colab-df-convert {\n",
              "      background-color: #E8F0FE;\n",
              "      border: none;\n",
              "      border-radius: 50%;\n",
              "      cursor: pointer;\n",
              "      display: none;\n",
              "      fill: #1967D2;\n",
              "      height: 32px;\n",
              "      padding: 0 0 0 0;\n",
              "      width: 32px;\n",
              "    }\n",
              "\n",
              "    .colab-df-convert:hover {\n",
              "      background-color: #E2EBFA;\n",
              "      box-shadow: 0px 1px 2px rgba(60, 64, 67, 0.3), 0px 1px 3px 1px rgba(60, 64, 67, 0.15);\n",
              "      fill: #174EA6;\n",
              "    }\n",
              "\n",
              "    [theme=dark] .colab-df-convert {\n",
              "      background-color: #3B4455;\n",
              "      fill: #D2E3FC;\n",
              "    }\n",
              "\n",
              "    [theme=dark] .colab-df-convert:hover {\n",
              "      background-color: #434B5C;\n",
              "      box-shadow: 0px 1px 3px 1px rgba(0, 0, 0, 0.15);\n",
              "      filter: drop-shadow(0px 1px 2px rgba(0, 0, 0, 0.3));\n",
              "      fill: #FFFFFF;\n",
              "    }\n",
              "  </style>\n",
              "\n",
              "      <script>\n",
              "        const buttonEl =\n",
              "          document.querySelector('#df-113f4c79-7bd8-40f2-aa1e-36c4bcb7015d button.colab-df-convert');\n",
              "        buttonEl.style.display =\n",
              "          google.colab.kernel.accessAllowed ? 'block' : 'none';\n",
              "\n",
              "        async function convertToInteractive(key) {\n",
              "          const element = document.querySelector('#df-113f4c79-7bd8-40f2-aa1e-36c4bcb7015d');\n",
              "          const dataTable =\n",
              "            await google.colab.kernel.invokeFunction('convertToInteractive',\n",
              "                                                     [key], {});\n",
              "          if (!dataTable) return;\n",
              "\n",
              "          const docLinkHtml = 'Like what you see? Visit the ' +\n",
              "            '<a target=\"_blank\" href=https://colab.research.google.com/notebooks/data_table.ipynb>data table notebook</a>'\n",
              "            + ' to learn more about interactive tables.';\n",
              "          element.innerHTML = '';\n",
              "          dataTable['output_type'] = 'display_data';\n",
              "          await google.colab.output.renderOutput(dataTable, element);\n",
              "          const docLink = document.createElement('div');\n",
              "          docLink.innerHTML = docLinkHtml;\n",
              "          element.appendChild(docLink);\n",
              "        }\n",
              "      </script>\n",
              "    </div>\n",
              "  </div>\n",
              "  "
            ]
          },
          "metadata": {},
          "execution_count": 90
        }
      ]
    },
    {
      "cell_type": "code",
      "source": [
        "#data.shape"
      ],
      "metadata": {
        "colab": {
          "base_uri": "https://localhost:8080/"
        },
        "id": "OhfYY3yNa8wz",
        "outputId": "5ddb882b-e33b-4c8c-feaa-e88498e7f2db"
      },
      "execution_count": null,
      "outputs": [
        {
          "output_type": "execute_result",
          "data": {
            "text/plain": [
              "(5900207, 5)"
            ]
          },
          "metadata": {},
          "execution_count": 6
        }
      ]
    },
    {
      "cell_type": "code",
      "source": [
        "# Вывод: пропущенные фамилию, имя и отчество корректно заполнить невозможно\n",
        "# (заполнение самыми распространенными значениями даст погрешность не меньше, чем удаление)\n",
        "# самый частый пропуск - отчество, которого у человека может не быть\n",
        "# про пол см выше\n",
        "# можно, в принципе, заполнить пропуски в отчестве значением \"-1\" или\n",
        "# самым частым значением для этого пола, но поскольку процент небольшой\n",
        "# (17 тыс из 5,9 млн), то проще удалить"
      ],
      "metadata": {
        "id": "0Hjx1pxmbo2a"
      },
      "execution_count": null,
      "outputs": []
    },
    {
      "cell_type": "code",
      "source": [
        "# Задание 1.2"
      ],
      "metadata": {
        "id": "AQPZJex3dFBW"
      },
      "execution_count": null,
      "outputs": []
    },
    {
      "cell_type": "code",
      "source": [
        "# строки со вторым и более вхождением дубликата\n",
        "\n",
        "data[data.duplicated(subset=['surname', 'name', 'patronymic', 'target'], keep = 'first')]"
      ],
      "metadata": {
        "colab": {
          "base_uri": "https://localhost:8080/",
          "height": 424
        },
        "id": "cihUCyy4leo8",
        "outputId": "20042b8f-7bc2-4789-bfa7-eea00ee8d029"
      },
      "execution_count": null,
      "outputs": [
        {
          "output_type": "execute_result",
          "data": {
            "text/plain": [
              "              Id   surname       name     patronymic  target\n",
              "1117      925229  РЫБАКОВА       АННА     НИКОЛАЕВНА     0.0\n",
              "1567      380669    ЖУКОВА    ЛЮДМИЛА    АНАТОЛЬЕВНА     0.0\n",
              "1863      429116   ИВАНОВА      ЛИДИЯ     НИКОЛАЕВНА     0.0\n",
              "3036     5999348    ГАЛКИН     МИХАИЛ       ИВАНОВИЧ     1.0\n",
              "3147     2736561    ТИТОВА  ВАЛЕНТИНА     НИКОЛАЕВНА     0.0\n",
              "...          ...       ...        ...            ...     ...\n",
              "5917170  2955122    ЗОТОВА     ГАЛИНА   ВЛАДИМИРОВНА     0.0\n",
              "5917172  1428135    ОРЛОВА   СВЕТЛАНА  АЛЕКСАНДРОВНА     0.0\n",
              "5917174  3361959    ГРОШЕВ    ЕВГЕНИЙ        ЮРЬЕВИЧ     1.0\n",
              "5917175  2065244  МАКАРОВА       НИНА     АЛЕКСЕЕВНА     0.0\n",
              "5917176  1313943     ЛУГИН  АЛЕКСАНДР  АЛЕКСАНДРОВИЧ     1.0\n",
              "\n",
              "[1866247 rows x 5 columns]"
            ],
            "text/html": [
              "\n",
              "  <div id=\"df-f60b8ff6-f8c3-49d2-8b2b-fa3d368fdb52\">\n",
              "    <div class=\"colab-df-container\">\n",
              "      <div>\n",
              "<style scoped>\n",
              "    .dataframe tbody tr th:only-of-type {\n",
              "        vertical-align: middle;\n",
              "    }\n",
              "\n",
              "    .dataframe tbody tr th {\n",
              "        vertical-align: top;\n",
              "    }\n",
              "\n",
              "    .dataframe thead th {\n",
              "        text-align: right;\n",
              "    }\n",
              "</style>\n",
              "<table border=\"1\" class=\"dataframe\">\n",
              "  <thead>\n",
              "    <tr style=\"text-align: right;\">\n",
              "      <th></th>\n",
              "      <th>Id</th>\n",
              "      <th>surname</th>\n",
              "      <th>name</th>\n",
              "      <th>patronymic</th>\n",
              "      <th>target</th>\n",
              "    </tr>\n",
              "  </thead>\n",
              "  <tbody>\n",
              "    <tr>\n",
              "      <th>1117</th>\n",
              "      <td>925229</td>\n",
              "      <td>РЫБАКОВА</td>\n",
              "      <td>АННА</td>\n",
              "      <td>НИКОЛАЕВНА</td>\n",
              "      <td>0.0</td>\n",
              "    </tr>\n",
              "    <tr>\n",
              "      <th>1567</th>\n",
              "      <td>380669</td>\n",
              "      <td>ЖУКОВА</td>\n",
              "      <td>ЛЮДМИЛА</td>\n",
              "      <td>АНАТОЛЬЕВНА</td>\n",
              "      <td>0.0</td>\n",
              "    </tr>\n",
              "    <tr>\n",
              "      <th>1863</th>\n",
              "      <td>429116</td>\n",
              "      <td>ИВАНОВА</td>\n",
              "      <td>ЛИДИЯ</td>\n",
              "      <td>НИКОЛАЕВНА</td>\n",
              "      <td>0.0</td>\n",
              "    </tr>\n",
              "    <tr>\n",
              "      <th>3036</th>\n",
              "      <td>5999348</td>\n",
              "      <td>ГАЛКИН</td>\n",
              "      <td>МИХАИЛ</td>\n",
              "      <td>ИВАНОВИЧ</td>\n",
              "      <td>1.0</td>\n",
              "    </tr>\n",
              "    <tr>\n",
              "      <th>3147</th>\n",
              "      <td>2736561</td>\n",
              "      <td>ТИТОВА</td>\n",
              "      <td>ВАЛЕНТИНА</td>\n",
              "      <td>НИКОЛАЕВНА</td>\n",
              "      <td>0.0</td>\n",
              "    </tr>\n",
              "    <tr>\n",
              "      <th>...</th>\n",
              "      <td>...</td>\n",
              "      <td>...</td>\n",
              "      <td>...</td>\n",
              "      <td>...</td>\n",
              "      <td>...</td>\n",
              "    </tr>\n",
              "    <tr>\n",
              "      <th>5917170</th>\n",
              "      <td>2955122</td>\n",
              "      <td>ЗОТОВА</td>\n",
              "      <td>ГАЛИНА</td>\n",
              "      <td>ВЛАДИМИРОВНА</td>\n",
              "      <td>0.0</td>\n",
              "    </tr>\n",
              "    <tr>\n",
              "      <th>5917172</th>\n",
              "      <td>1428135</td>\n",
              "      <td>ОРЛОВА</td>\n",
              "      <td>СВЕТЛАНА</td>\n",
              "      <td>АЛЕКСАНДРОВНА</td>\n",
              "      <td>0.0</td>\n",
              "    </tr>\n",
              "    <tr>\n",
              "      <th>5917174</th>\n",
              "      <td>3361959</td>\n",
              "      <td>ГРОШЕВ</td>\n",
              "      <td>ЕВГЕНИЙ</td>\n",
              "      <td>ЮРЬЕВИЧ</td>\n",
              "      <td>1.0</td>\n",
              "    </tr>\n",
              "    <tr>\n",
              "      <th>5917175</th>\n",
              "      <td>2065244</td>\n",
              "      <td>МАКАРОВА</td>\n",
              "      <td>НИНА</td>\n",
              "      <td>АЛЕКСЕЕВНА</td>\n",
              "      <td>0.0</td>\n",
              "    </tr>\n",
              "    <tr>\n",
              "      <th>5917176</th>\n",
              "      <td>1313943</td>\n",
              "      <td>ЛУГИН</td>\n",
              "      <td>АЛЕКСАНДР</td>\n",
              "      <td>АЛЕКСАНДРОВИЧ</td>\n",
              "      <td>1.0</td>\n",
              "    </tr>\n",
              "  </tbody>\n",
              "</table>\n",
              "<p>1866247 rows × 5 columns</p>\n",
              "</div>\n",
              "      <button class=\"colab-df-convert\" onclick=\"convertToInteractive('df-f60b8ff6-f8c3-49d2-8b2b-fa3d368fdb52')\"\n",
              "              title=\"Convert this dataframe to an interactive table.\"\n",
              "              style=\"display:none;\">\n",
              "        \n",
              "  <svg xmlns=\"http://www.w3.org/2000/svg\" height=\"24px\"viewBox=\"0 0 24 24\"\n",
              "       width=\"24px\">\n",
              "    <path d=\"M0 0h24v24H0V0z\" fill=\"none\"/>\n",
              "    <path d=\"M18.56 5.44l.94 2.06.94-2.06 2.06-.94-2.06-.94-.94-2.06-.94 2.06-2.06.94zm-11 1L8.5 8.5l.94-2.06 2.06-.94-2.06-.94L8.5 2.5l-.94 2.06-2.06.94zm10 10l.94 2.06.94-2.06 2.06-.94-2.06-.94-.94-2.06-.94 2.06-2.06.94z\"/><path d=\"M17.41 7.96l-1.37-1.37c-.4-.4-.92-.59-1.43-.59-.52 0-1.04.2-1.43.59L10.3 9.45l-7.72 7.72c-.78.78-.78 2.05 0 2.83L4 21.41c.39.39.9.59 1.41.59.51 0 1.02-.2 1.41-.59l7.78-7.78 2.81-2.81c.8-.78.8-2.07 0-2.86zM5.41 20L4 18.59l7.72-7.72 1.47 1.35L5.41 20z\"/>\n",
              "  </svg>\n",
              "      </button>\n",
              "      \n",
              "  <style>\n",
              "    .colab-df-container {\n",
              "      display:flex;\n",
              "      flex-wrap:wrap;\n",
              "      gap: 12px;\n",
              "    }\n",
              "\n",
              "    .colab-df-convert {\n",
              "      background-color: #E8F0FE;\n",
              "      border: none;\n",
              "      border-radius: 50%;\n",
              "      cursor: pointer;\n",
              "      display: none;\n",
              "      fill: #1967D2;\n",
              "      height: 32px;\n",
              "      padding: 0 0 0 0;\n",
              "      width: 32px;\n",
              "    }\n",
              "\n",
              "    .colab-df-convert:hover {\n",
              "      background-color: #E2EBFA;\n",
              "      box-shadow: 0px 1px 2px rgba(60, 64, 67, 0.3), 0px 1px 3px 1px rgba(60, 64, 67, 0.15);\n",
              "      fill: #174EA6;\n",
              "    }\n",
              "\n",
              "    [theme=dark] .colab-df-convert {\n",
              "      background-color: #3B4455;\n",
              "      fill: #D2E3FC;\n",
              "    }\n",
              "\n",
              "    [theme=dark] .colab-df-convert:hover {\n",
              "      background-color: #434B5C;\n",
              "      box-shadow: 0px 1px 3px 1px rgba(0, 0, 0, 0.15);\n",
              "      filter: drop-shadow(0px 1px 2px rgba(0, 0, 0, 0.3));\n",
              "      fill: #FFFFFF;\n",
              "    }\n",
              "  </style>\n",
              "\n",
              "      <script>\n",
              "        const buttonEl =\n",
              "          document.querySelector('#df-f60b8ff6-f8c3-49d2-8b2b-fa3d368fdb52 button.colab-df-convert');\n",
              "        buttonEl.style.display =\n",
              "          google.colab.kernel.accessAllowed ? 'block' : 'none';\n",
              "\n",
              "        async function convertToInteractive(key) {\n",
              "          const element = document.querySelector('#df-f60b8ff6-f8c3-49d2-8b2b-fa3d368fdb52');\n",
              "          const dataTable =\n",
              "            await google.colab.kernel.invokeFunction('convertToInteractive',\n",
              "                                                     [key], {});\n",
              "          if (!dataTable) return;\n",
              "\n",
              "          const docLinkHtml = 'Like what you see? Visit the ' +\n",
              "            '<a target=\"_blank\" href=https://colab.research.google.com/notebooks/data_table.ipynb>data table notebook</a>'\n",
              "            + ' to learn more about interactive tables.';\n",
              "          element.innerHTML = '';\n",
              "          dataTable['output_type'] = 'display_data';\n",
              "          await google.colab.output.renderOutput(dataTable, element);\n",
              "          const docLink = document.createElement('div');\n",
              "          docLink.innerHTML = docLinkHtml;\n",
              "          element.appendChild(docLink);\n",
              "        }\n",
              "      </script>\n",
              "    </div>\n",
              "  </div>\n",
              "  "
            ]
          },
          "metadata": {},
          "execution_count": 24
        }
      ]
    },
    {
      "cell_type": "code",
      "source": [
        "# количество дубликатов\n",
        "\n",
        "data[data.duplicated(subset=['surname', 'name', 'patronymic', 'target'], keep = 'first')].shape"
      ],
      "metadata": {
        "colab": {
          "base_uri": "https://localhost:8080/"
        },
        "id": "AkKDnsDjmVHi",
        "outputId": "c50670d0-d2b9-4a87-98a9-134cd8e88fad"
      },
      "execution_count": null,
      "outputs": [
        {
          "output_type": "execute_result",
          "data": {
            "text/plain": [
              "(1866247, 5)"
            ]
          },
          "metadata": {},
          "execution_count": 25
        }
      ]
    },
    {
      "cell_type": "code",
      "source": [
        "# удаление дубликатов\n",
        "\n",
        "data.drop_duplicates(subset=['surname', 'name', 'patronymic', 'target'], keep = 'first', inplace = True)"
      ],
      "metadata": {
        "id": "gDvGwxDFkGfp"
      },
      "execution_count": 91,
      "outputs": []
    },
    {
      "cell_type": "code",
      "source": [
        "#data.shape"
      ],
      "metadata": {
        "colab": {
          "base_uri": "https://localhost:8080/"
        },
        "id": "6qBrO1dIni4u",
        "outputId": "f0a1b762-7e94-4e8e-e875-20e34c5c9bda"
      },
      "execution_count": null,
      "outputs": [
        {
          "output_type": "execute_result",
          "data": {
            "text/plain": [
              "(4033960, 5)"
            ]
          },
          "metadata": {},
          "execution_count": 15
        }
      ]
    },
    {
      "cell_type": "code",
      "source": [
        "# Дубликаты лучше удалять, поскольку при обучении на них компьютер не получает новой информации,\n",
        "# зато приходится обрабатывать больше данных, это дольше и энергозатратнее\n",
        "# Также это портит статистику с точки зрения разнообразия выборки"
      ],
      "metadata": {
        "id": "802zXLFVqKe9"
      },
      "execution_count": null,
      "outputs": []
    },
    {
      "cell_type": "code",
      "source": [
        "# Задание 1.3"
      ],
      "metadata": {
        "id": "RJsvMI8D4Xzt"
      },
      "execution_count": null,
      "outputs": []
    },
    {
      "cell_type": "code",
      "source": [
        "# количество женщин и мужчин \n",
        "\n",
        "data[['target', 'Id']].groupby('target').count().reset_index()"
      ],
      "metadata": {
        "colab": {
          "base_uri": "https://localhost:8080/",
          "height": 112
        },
        "id": "_7Q253Vt4bs9",
        "outputId": "84f8ff35-45da-4147-efdf-03d5798f6ff6"
      },
      "execution_count": null,
      "outputs": [
        {
          "output_type": "execute_result",
          "data": {
            "text/plain": [
              "   target       Id\n",
              "0     0.0  2251340\n",
              "1     1.0  1782621"
            ],
            "text/html": [
              "\n",
              "  <div id=\"df-c87b8fbf-c632-4806-9686-b28c09ffecd5\">\n",
              "    <div class=\"colab-df-container\">\n",
              "      <div>\n",
              "<style scoped>\n",
              "    .dataframe tbody tr th:only-of-type {\n",
              "        vertical-align: middle;\n",
              "    }\n",
              "\n",
              "    .dataframe tbody tr th {\n",
              "        vertical-align: top;\n",
              "    }\n",
              "\n",
              "    .dataframe thead th {\n",
              "        text-align: right;\n",
              "    }\n",
              "</style>\n",
              "<table border=\"1\" class=\"dataframe\">\n",
              "  <thead>\n",
              "    <tr style=\"text-align: right;\">\n",
              "      <th></th>\n",
              "      <th>target</th>\n",
              "      <th>Id</th>\n",
              "    </tr>\n",
              "  </thead>\n",
              "  <tbody>\n",
              "    <tr>\n",
              "      <th>0</th>\n",
              "      <td>0.0</td>\n",
              "      <td>2251340</td>\n",
              "    </tr>\n",
              "    <tr>\n",
              "      <th>1</th>\n",
              "      <td>1.0</td>\n",
              "      <td>1782621</td>\n",
              "    </tr>\n",
              "  </tbody>\n",
              "</table>\n",
              "</div>\n",
              "      <button class=\"colab-df-convert\" onclick=\"convertToInteractive('df-c87b8fbf-c632-4806-9686-b28c09ffecd5')\"\n",
              "              title=\"Convert this dataframe to an interactive table.\"\n",
              "              style=\"display:none;\">\n",
              "        \n",
              "  <svg xmlns=\"http://www.w3.org/2000/svg\" height=\"24px\"viewBox=\"0 0 24 24\"\n",
              "       width=\"24px\">\n",
              "    <path d=\"M0 0h24v24H0V0z\" fill=\"none\"/>\n",
              "    <path d=\"M18.56 5.44l.94 2.06.94-2.06 2.06-.94-2.06-.94-.94-2.06-.94 2.06-2.06.94zm-11 1L8.5 8.5l.94-2.06 2.06-.94-2.06-.94L8.5 2.5l-.94 2.06-2.06.94zm10 10l.94 2.06.94-2.06 2.06-.94-2.06-.94-.94-2.06-.94 2.06-2.06.94z\"/><path d=\"M17.41 7.96l-1.37-1.37c-.4-.4-.92-.59-1.43-.59-.52 0-1.04.2-1.43.59L10.3 9.45l-7.72 7.72c-.78.78-.78 2.05 0 2.83L4 21.41c.39.39.9.59 1.41.59.51 0 1.02-.2 1.41-.59l7.78-7.78 2.81-2.81c.8-.78.8-2.07 0-2.86zM5.41 20L4 18.59l7.72-7.72 1.47 1.35L5.41 20z\"/>\n",
              "  </svg>\n",
              "      </button>\n",
              "      \n",
              "  <style>\n",
              "    .colab-df-container {\n",
              "      display:flex;\n",
              "      flex-wrap:wrap;\n",
              "      gap: 12px;\n",
              "    }\n",
              "\n",
              "    .colab-df-convert {\n",
              "      background-color: #E8F0FE;\n",
              "      border: none;\n",
              "      border-radius: 50%;\n",
              "      cursor: pointer;\n",
              "      display: none;\n",
              "      fill: #1967D2;\n",
              "      height: 32px;\n",
              "      padding: 0 0 0 0;\n",
              "      width: 32px;\n",
              "    }\n",
              "\n",
              "    .colab-df-convert:hover {\n",
              "      background-color: #E2EBFA;\n",
              "      box-shadow: 0px 1px 2px rgba(60, 64, 67, 0.3), 0px 1px 3px 1px rgba(60, 64, 67, 0.15);\n",
              "      fill: #174EA6;\n",
              "    }\n",
              "\n",
              "    [theme=dark] .colab-df-convert {\n",
              "      background-color: #3B4455;\n",
              "      fill: #D2E3FC;\n",
              "    }\n",
              "\n",
              "    [theme=dark] .colab-df-convert:hover {\n",
              "      background-color: #434B5C;\n",
              "      box-shadow: 0px 1px 3px 1px rgba(0, 0, 0, 0.15);\n",
              "      filter: drop-shadow(0px 1px 2px rgba(0, 0, 0, 0.3));\n",
              "      fill: #FFFFFF;\n",
              "    }\n",
              "  </style>\n",
              "\n",
              "      <script>\n",
              "        const buttonEl =\n",
              "          document.querySelector('#df-c87b8fbf-c632-4806-9686-b28c09ffecd5 button.colab-df-convert');\n",
              "        buttonEl.style.display =\n",
              "          google.colab.kernel.accessAllowed ? 'block' : 'none';\n",
              "\n",
              "        async function convertToInteractive(key) {\n",
              "          const element = document.querySelector('#df-c87b8fbf-c632-4806-9686-b28c09ffecd5');\n",
              "          const dataTable =\n",
              "            await google.colab.kernel.invokeFunction('convertToInteractive',\n",
              "                                                     [key], {});\n",
              "          if (!dataTable) return;\n",
              "\n",
              "          const docLinkHtml = 'Like what you see? Visit the ' +\n",
              "            '<a target=\"_blank\" href=https://colab.research.google.com/notebooks/data_table.ipynb>data table notebook</a>'\n",
              "            + ' to learn more about interactive tables.';\n",
              "          element.innerHTML = '';\n",
              "          dataTable['output_type'] = 'display_data';\n",
              "          await google.colab.output.renderOutput(dataTable, element);\n",
              "          const docLink = document.createElement('div');\n",
              "          docLink.innerHTML = docLinkHtml;\n",
              "          element.appendChild(docLink);\n",
              "        }\n",
              "      </script>\n",
              "    </div>\n",
              "  </div>\n",
              "  "
            ]
          },
          "metadata": {},
          "execution_count": 25
        }
      ]
    },
    {
      "cell_type": "code",
      "source": [
        "# для удобства графиков временно создадим столбец sex\n",
        "\n",
        "gender = {0.0: \"female\", 1.0: \"male\"}\n",
        "data['sex'] = data['target'].map(gender)"
      ],
      "metadata": {
        "id": "t1sOqc6t9YRl"
      },
      "execution_count": null,
      "outputs": []
    },
    {
      "cell_type": "code",
      "source": [
        "#data.head()"
      ],
      "metadata": {
        "colab": {
          "base_uri": "https://localhost:8080/",
          "height": 206
        },
        "id": "x0Vq-vrIBuI8",
        "outputId": "bb083610-84fb-4ec5-c8ae-cd7b8903aea7"
      },
      "execution_count": null,
      "outputs": [
        {
          "output_type": "execute_result",
          "data": {
            "text/plain": [
              "        Id    surname    name    patronymic  target     sex\n",
              "0  2636471    ЯКУШОВА   ЕЛЕНА     СЕРГЕЕВНА     0.0  female\n",
              "1   165386  ВАБИЩЕВИЧ   ФЕДОР      ПЕТРОВИЧ     1.0    male\n",
              "2   243807   ГОЛУБЕВА   ОЛЬГА     АНТОНОВНА     0.0  female\n",
              "3   232582    ГЛАЗКОВ  АНДРЕЙ  ВЛАДИМИРОВИЧ     1.0    male\n",
              "4  3970023   ГАВРИЩУК    МАРК     ВАДИМОВИЧ     1.0    male"
            ],
            "text/html": [
              "\n",
              "  <div id=\"df-119cec43-a559-4610-828f-28ea68a04a61\">\n",
              "    <div class=\"colab-df-container\">\n",
              "      <div>\n",
              "<style scoped>\n",
              "    .dataframe tbody tr th:only-of-type {\n",
              "        vertical-align: middle;\n",
              "    }\n",
              "\n",
              "    .dataframe tbody tr th {\n",
              "        vertical-align: top;\n",
              "    }\n",
              "\n",
              "    .dataframe thead th {\n",
              "        text-align: right;\n",
              "    }\n",
              "</style>\n",
              "<table border=\"1\" class=\"dataframe\">\n",
              "  <thead>\n",
              "    <tr style=\"text-align: right;\">\n",
              "      <th></th>\n",
              "      <th>Id</th>\n",
              "      <th>surname</th>\n",
              "      <th>name</th>\n",
              "      <th>patronymic</th>\n",
              "      <th>target</th>\n",
              "      <th>sex</th>\n",
              "    </tr>\n",
              "  </thead>\n",
              "  <tbody>\n",
              "    <tr>\n",
              "      <th>0</th>\n",
              "      <td>2636471</td>\n",
              "      <td>ЯКУШОВА</td>\n",
              "      <td>ЕЛЕНА</td>\n",
              "      <td>СЕРГЕЕВНА</td>\n",
              "      <td>0.0</td>\n",
              "      <td>female</td>\n",
              "    </tr>\n",
              "    <tr>\n",
              "      <th>1</th>\n",
              "      <td>165386</td>\n",
              "      <td>ВАБИЩЕВИЧ</td>\n",
              "      <td>ФЕДОР</td>\n",
              "      <td>ПЕТРОВИЧ</td>\n",
              "      <td>1.0</td>\n",
              "      <td>male</td>\n",
              "    </tr>\n",
              "    <tr>\n",
              "      <th>2</th>\n",
              "      <td>243807</td>\n",
              "      <td>ГОЛУБЕВА</td>\n",
              "      <td>ОЛЬГА</td>\n",
              "      <td>АНТОНОВНА</td>\n",
              "      <td>0.0</td>\n",
              "      <td>female</td>\n",
              "    </tr>\n",
              "    <tr>\n",
              "      <th>3</th>\n",
              "      <td>232582</td>\n",
              "      <td>ГЛАЗКОВ</td>\n",
              "      <td>АНДРЕЙ</td>\n",
              "      <td>ВЛАДИМИРОВИЧ</td>\n",
              "      <td>1.0</td>\n",
              "      <td>male</td>\n",
              "    </tr>\n",
              "    <tr>\n",
              "      <th>4</th>\n",
              "      <td>3970023</td>\n",
              "      <td>ГАВРИЩУК</td>\n",
              "      <td>МАРК</td>\n",
              "      <td>ВАДИМОВИЧ</td>\n",
              "      <td>1.0</td>\n",
              "      <td>male</td>\n",
              "    </tr>\n",
              "  </tbody>\n",
              "</table>\n",
              "</div>\n",
              "      <button class=\"colab-df-convert\" onclick=\"convertToInteractive('df-119cec43-a559-4610-828f-28ea68a04a61')\"\n",
              "              title=\"Convert this dataframe to an interactive table.\"\n",
              "              style=\"display:none;\">\n",
              "        \n",
              "  <svg xmlns=\"http://www.w3.org/2000/svg\" height=\"24px\"viewBox=\"0 0 24 24\"\n",
              "       width=\"24px\">\n",
              "    <path d=\"M0 0h24v24H0V0z\" fill=\"none\"/>\n",
              "    <path d=\"M18.56 5.44l.94 2.06.94-2.06 2.06-.94-2.06-.94-.94-2.06-.94 2.06-2.06.94zm-11 1L8.5 8.5l.94-2.06 2.06-.94-2.06-.94L8.5 2.5l-.94 2.06-2.06.94zm10 10l.94 2.06.94-2.06 2.06-.94-2.06-.94-.94-2.06-.94 2.06-2.06.94z\"/><path d=\"M17.41 7.96l-1.37-1.37c-.4-.4-.92-.59-1.43-.59-.52 0-1.04.2-1.43.59L10.3 9.45l-7.72 7.72c-.78.78-.78 2.05 0 2.83L4 21.41c.39.39.9.59 1.41.59.51 0 1.02-.2 1.41-.59l7.78-7.78 2.81-2.81c.8-.78.8-2.07 0-2.86zM5.41 20L4 18.59l7.72-7.72 1.47 1.35L5.41 20z\"/>\n",
              "  </svg>\n",
              "      </button>\n",
              "      \n",
              "  <style>\n",
              "    .colab-df-container {\n",
              "      display:flex;\n",
              "      flex-wrap:wrap;\n",
              "      gap: 12px;\n",
              "    }\n",
              "\n",
              "    .colab-df-convert {\n",
              "      background-color: #E8F0FE;\n",
              "      border: none;\n",
              "      border-radius: 50%;\n",
              "      cursor: pointer;\n",
              "      display: none;\n",
              "      fill: #1967D2;\n",
              "      height: 32px;\n",
              "      padding: 0 0 0 0;\n",
              "      width: 32px;\n",
              "    }\n",
              "\n",
              "    .colab-df-convert:hover {\n",
              "      background-color: #E2EBFA;\n",
              "      box-shadow: 0px 1px 2px rgba(60, 64, 67, 0.3), 0px 1px 3px 1px rgba(60, 64, 67, 0.15);\n",
              "      fill: #174EA6;\n",
              "    }\n",
              "\n",
              "    [theme=dark] .colab-df-convert {\n",
              "      background-color: #3B4455;\n",
              "      fill: #D2E3FC;\n",
              "    }\n",
              "\n",
              "    [theme=dark] .colab-df-convert:hover {\n",
              "      background-color: #434B5C;\n",
              "      box-shadow: 0px 1px 3px 1px rgba(0, 0, 0, 0.15);\n",
              "      filter: drop-shadow(0px 1px 2px rgba(0, 0, 0, 0.3));\n",
              "      fill: #FFFFFF;\n",
              "    }\n",
              "  </style>\n",
              "\n",
              "      <script>\n",
              "        const buttonEl =\n",
              "          document.querySelector('#df-119cec43-a559-4610-828f-28ea68a04a61 button.colab-df-convert');\n",
              "        buttonEl.style.display =\n",
              "          google.colab.kernel.accessAllowed ? 'block' : 'none';\n",
              "\n",
              "        async function convertToInteractive(key) {\n",
              "          const element = document.querySelector('#df-119cec43-a559-4610-828f-28ea68a04a61');\n",
              "          const dataTable =\n",
              "            await google.colab.kernel.invokeFunction('convertToInteractive',\n",
              "                                                     [key], {});\n",
              "          if (!dataTable) return;\n",
              "\n",
              "          const docLinkHtml = 'Like what you see? Visit the ' +\n",
              "            '<a target=\"_blank\" href=https://colab.research.google.com/notebooks/data_table.ipynb>data table notebook</a>'\n",
              "            + ' to learn more about interactive tables.';\n",
              "          element.innerHTML = '';\n",
              "          dataTable['output_type'] = 'display_data';\n",
              "          await google.colab.output.renderOutput(dataTable, element);\n",
              "          const docLink = document.createElement('div');\n",
              "          docLink.innerHTML = docLinkHtml;\n",
              "          element.appendChild(docLink);\n",
              "        }\n",
              "      </script>\n",
              "    </div>\n",
              "  </div>\n",
              "  "
            ]
          },
          "metadata": {},
          "execution_count": 29
        }
      ]
    },
    {
      "cell_type": "code",
      "source": [
        "# дальше смотрим распределение по полу на разных графиках"
      ],
      "metadata": {
        "id": "EpVFsDP28332"
      },
      "execution_count": null,
      "outputs": []
    },
    {
      "cell_type": "code",
      "source": [
        "import seaborn as sns"
      ],
      "metadata": {
        "id": "9lqCND296LyW"
      },
      "execution_count": 48,
      "outputs": []
    },
    {
      "cell_type": "code",
      "source": [
        "sns.set_theme(style='darkgrid')\n",
        "sns.countplot(y='sex', data=data, hue='sex', palette = \"Set2\")"
      ],
      "metadata": {
        "colab": {
          "base_uri": "https://localhost:8080/",
          "height": 302
        },
        "id": "QjjRFDJ96TUJ",
        "outputId": "9640593e-1e94-49c6-b61e-dc96fe78b53e"
      },
      "execution_count": null,
      "outputs": [
        {
          "output_type": "execute_result",
          "data": {
            "text/plain": [
              "<matplotlib.axes._subplots.AxesSubplot at 0x7f8f638a9bd0>"
            ]
          },
          "metadata": {},
          "execution_count": 31
        },
        {
          "output_type": "display_data",
          "data": {
            "text/plain": [
              "<Figure size 432x288 with 1 Axes>"
            ],
            "image/png": "[encoded data removed]"
          },
          "metadata": {}
        }
      ]
    },
    {
      "cell_type": "code",
      "source": [
        "import matplotlib.pyplot as plt"
      ],
      "metadata": {
        "id": "xZPMqsiZ-tzd"
      },
      "execution_count": 47,
      "outputs": []
    },
    {
      "cell_type": "code",
      "source": [
        "f, ax = plt.subplots(1, 2, figsize=(18, 8))\n",
        "data['sex'].value_counts().plot.pie(explode=[0, 0.1], \n",
        "                                          autopct='%1.1f%%',\n",
        "                                          ax=ax[0],\n",
        "                                          shadow=True)\n",
        "\n",
        "ax[0].set_title('sex')\n",
        "ax[0].set_ylabel('')\n",
        "\n",
        "sns.countplot('sex', data=data, ax=ax[1])\n",
        "ax[1].set_title('sex')\n",
        "plt.show()"
      ],
      "metadata": {
        "colab": {
          "base_uri": "https://localhost:8080/",
          "height": 491
        },
        "id": "Cwig5kqK-0T9",
        "outputId": "aa033bde-d945-4420-d72d-535e67847543"
      },
      "execution_count": null,
      "outputs": [
        {
          "output_type": "stream",
          "name": "stderr",
          "text": [
            "/usr/local/lib/python3.7/dist-packages/seaborn/_decorators.py:43: FutureWarning: Pass the following variable as a keyword arg: x. From version 0.12, the only valid positional argument will be `data`, and passing other arguments without an explicit keyword will result in an error or misinterpretation.\n",
            "  FutureWarning\n"
          ]
        },
        {
          "output_type": "display_data",
          "data": {
            "text/plain": [
              "<Figure size 1296x576 with 2 Axes>"
            ],
            "image/png": "[encoded data removed]"
          },
          "metadata": {}
        }
      ]
    },
    {
      "cell_type": "code",
      "source": [
        "staff = [data[['target', 'Id']].groupby('target').count()]\n",
        "keys = ['female', 'male']\n",
        "\n",
        "palette_color = sns.color_palette('dark')\n",
        "\n",
        "plt.pie(staff, labels=keys, colors=palette_color, autopct='%.0f%%')\n",
        "  \n",
        "plt.show()"
      ],
      "metadata": {
        "colab": {
          "base_uri": "https://localhost:8080/",
          "height": 303
        },
        "id": "12xcC8puCZtR",
        "outputId": "b7ea4074-10ff-42b7-f575-6bfd3428b19e"
      },
      "execution_count": null,
      "outputs": [
        {
          "output_type": "stream",
          "name": "stderr",
          "text": [
            "/usr/local/lib/python3.7/dist-packages/ipykernel_launcher.py:6: MatplotlibDeprecationWarning: Non-1D inputs to pie() are currently squeeze()d, but this behavior is deprecated since 3.1 and will be removed in 3.3; pass a 1D array instead.\n",
            "  \n"
          ]
        },
        {
          "output_type": "display_data",
          "data": {
            "text/plain": [
              "<Figure size 432x288 with 1 Axes>"
            ],
            "image/png": "[encoded data removed]"
          },
          "metadata": {}
        }
      ]
    },
    {
      "cell_type": "code",
      "source": [
        "data.sex.hist(bins=8)"
      ],
      "metadata": {
        "colab": {
          "base_uri": "https://localhost:8080/",
          "height": 296
        },
        "id": "-v55L0XoHo09",
        "outputId": "3f8da329-21d2-4bbb-a68c-6400dcc146ae"
      },
      "execution_count": null,
      "outputs": [
        {
          "output_type": "execute_result",
          "data": {
            "text/plain": [
              "<matplotlib.axes._subplots.AxesSubplot at 0x7f8f63813e10>"
            ]
          },
          "metadata": {},
          "execution_count": 35
        },
        {
          "output_type": "display_data",
          "data": {
            "text/plain": [
              "<Figure size 432x288 with 1 Axes>"
            ],
            "image/png": "[encoded data removed]"
          },
          "metadata": {}
        }
      ]
    },
    {
      "cell_type": "code",
      "source": [
        "# удаляем столбец sex\n",
        "\n",
        "data = data.drop(['sex'], axis = 1)"
      ],
      "metadata": {
        "id": "2z3kVLLTH70g"
      },
      "execution_count": null,
      "outputs": []
    },
    {
      "cell_type": "code",
      "source": [
        "# Задание 1.4"
      ],
      "metadata": {
        "id": "-AwjGRVhF6UD"
      },
      "execution_count": null,
      "outputs": []
    },
    {
      "cell_type": "code",
      "source": [
        "from pandas.core.algorithms import value_counts"
      ],
      "metadata": {
        "id": "FeyKOKyV8F5N"
      },
      "execution_count": 92,
      "outputs": []
    },
    {
      "cell_type": "code",
      "source": [
        "males = data.loc[data['target'] == 1.0]\n",
        "females = data.loc[data['target'] == 0.0]"
      ],
      "metadata": {
        "id": "n4sXCQDA7Dxm"
      },
      "execution_count": 72,
      "outputs": []
    },
    {
      "cell_type": "code",
      "source": [
        "# топ 10 самых популярных имен у женщин\n",
        "\n",
        "females.groupby('target')['name'].value_counts(ascending=False)[:10]"
      ],
      "metadata": {
        "colab": {
          "base_uri": "https://localhost:8080/"
        },
        "id": "e7a9lvv-Gg57",
        "outputId": "d65b525f-8a7d-4f7f-908e-fa36758954e6"
      },
      "execution_count": null,
      "outputs": [
        {
          "output_type": "execute_result",
          "data": {
            "text/plain": [
              "target  name     \n",
              "0.0     ТАТЬЯНА      118054\n",
              "        ЕЛЕНА        114055\n",
              "        НАТАЛЬЯ       96135\n",
              "        ОЛЬГА         95122\n",
              "        АННА          86240\n",
              "        МАРИЯ         83632\n",
              "        ИРИНА         80385\n",
              "        ВАЛЕНТИНА     80175\n",
              "        СВЕТЛАНА      75540\n",
              "        ГАЛИНА        73078\n",
              "Name: name, dtype: int64"
            ]
          },
          "metadata": {},
          "execution_count": 73
        }
      ]
    },
    {
      "cell_type": "code",
      "source": [
        "# топ 10 самых популярных имен у мужчин\n",
        "\n",
        "males.groupby('target')['name'].value_counts(ascending=False)[:10]"
      ],
      "metadata": {
        "colab": {
          "base_uri": "https://localhost:8080/"
        },
        "id": "vg8gjqFe7Xek",
        "outputId": "aabe0a62-d63b-459b-a9e9-283f99ae38b3"
      },
      "execution_count": null,
      "outputs": [
        {
          "output_type": "execute_result",
          "data": {
            "text/plain": [
              "target  name     \n",
              "1.0     АЛЕКСАНДР    138894\n",
              "        СЕРГЕЙ       112067\n",
              "        ВЛАДИМИР      99132\n",
              "        АЛЕКСЕЙ       84260\n",
              "        НИКОЛАЙ       76910\n",
              "        АНДРЕЙ        67447\n",
              "        ДМИТРИЙ       66052\n",
              "        ВИКТОР        59914\n",
              "        МИХАИЛ        58914\n",
              "        ЮРИЙ          52675\n",
              "Name: name, dtype: int64"
            ]
          },
          "metadata": {},
          "execution_count": 75
        }
      ]
    },
    {
      "cell_type": "code",
      "source": [
        "# топ 10 самых популярных фамилий у женщин\n",
        "\n",
        "females.groupby('target')['surname'].value_counts(ascending=False)[:10]"
      ],
      "metadata": {
        "colab": {
          "base_uri": "https://localhost:8080/"
        },
        "id": "HPGurL3N7N9W",
        "outputId": "c1d64682-1878-4a88-f9e8-6777d294638b"
      },
      "execution_count": null,
      "outputs": [
        {
          "output_type": "execute_result",
          "data": {
            "text/plain": [
              "target  surname  \n",
              "0.0     ИВАНОВА      3820\n",
              "        КУЗНЕЦОВА    3375\n",
              "        СМИРНОВА     3060\n",
              "        ПОПОВА       2594\n",
              "        ВОЛКОВА      2548\n",
              "        НОВИКОВА     2468\n",
              "        КОЗЛОВА      2405\n",
              "        ВАСИЛЬЕВА    2365\n",
              "        ПЕТРОВА      2350\n",
              "        МОРОЗОВА     2281\n",
              "Name: surname, dtype: int64"
            ]
          },
          "metadata": {},
          "execution_count": 74
        }
      ]
    },
    {
      "cell_type": "code",
      "source": [
        "# топ 10 самых популярных фамилий у мужчин\n",
        "\n",
        "males.groupby('target')['surname'].value_counts(ascending=False)[:10]"
      ],
      "metadata": {
        "colab": {
          "base_uri": "https://localhost:8080/"
        },
        "id": "OmwGCDZl7hpy",
        "outputId": "1212c2b1-976f-4a79-9979-2e394e8296f4"
      },
      "execution_count": null,
      "outputs": [
        {
          "output_type": "execute_result",
          "data": {
            "text/plain": [
              "target  surname \n",
              "1.0     ИВАНОВ      2655\n",
              "        КУЗНЕЦОВ    2281\n",
              "        СМИРНОВ     2037\n",
              "        ВОЛКОВ      1825\n",
              "        ПОПОВ       1814\n",
              "        ВАСИЛЬЕВ    1731\n",
              "        НОВИКОВ     1725\n",
              "        ПЕТРОВ      1694\n",
              "        КОЗЛОВ      1676\n",
              "        МОРОЗОВ     1562\n",
              "Name: surname, dtype: int64"
            ]
          },
          "metadata": {},
          "execution_count": 76
        }
      ]
    },
    {
      "cell_type": "code",
      "source": [
        "# топ 10 самых популярных отчеств у женщин\n",
        "\n",
        "females.groupby('target')['patronymic'].value_counts(ascending=False)[:10]"
      ],
      "metadata": {
        "colab": {
          "base_uri": "https://localhost:8080/"
        },
        "id": "BmmfEhOf7t9Z",
        "outputId": "351122ef-e768-41c0-b9ca-9f236d0f00da"
      },
      "execution_count": null,
      "outputs": [
        {
          "output_type": "execute_result",
          "data": {
            "text/plain": [
              "target  patronymic   \n",
              "0.0     АЛЕКСАНДРОВНА    164888\n",
              "        НИКОЛАЕВНА       142377\n",
              "        ВЛАДИМИРОВНА     129946\n",
              "        ИВАНОВНА         127553\n",
              "        СЕРГЕЕВНА        117570\n",
              "        ВАСИЛЬЕВНА        96233\n",
              "        МИХАЙЛОВНА        95991\n",
              "        АЛЕКСЕЕВНА        93712\n",
              "        ВИКТОРОВНА        85407\n",
              "        АНАТОЛЬЕВНА       66302\n",
              "Name: patronymic, dtype: int64"
            ]
          },
          "metadata": {},
          "execution_count": 77
        }
      ]
    },
    {
      "cell_type": "code",
      "source": [
        "# топ 10 самых популярных отчеств у мужчин\n",
        "\n",
        "males.groupby('target')['patronymic'].value_counts(ascending=False)[:10]"
      ],
      "metadata": {
        "colab": {
          "base_uri": "https://localhost:8080/"
        },
        "id": "vfUFphYN73A6",
        "outputId": "b2b19db6-0c0d-43c2-bb5a-06f7372600ee"
      },
      "execution_count": null,
      "outputs": [
        {
          "output_type": "execute_result",
          "data": {
            "text/plain": [
              "target  patronymic   \n",
              "1.0     АЛЕКСАНДРОВИЧ    132406\n",
              "        НИКОЛАЕВИЧ       109740\n",
              "        ВЛАДИМИРОВИЧ     109329\n",
              "        СЕРГЕЕВИЧ         95760\n",
              "        ИВАНОВИЧ          85391\n",
              "        АЛЕКСЕЕВИЧ        73970\n",
              "        ВИКТОРОВИЧ        71669\n",
              "        МИХАЙЛОВИЧ        71612\n",
              "        ВАСИЛЬЕВИЧ        65709\n",
              "        АНАТОЛЬЕВИЧ       56044\n",
              "Name: patronymic, dtype: int64"
            ]
          },
          "metadata": {},
          "execution_count": 78
        }
      ]
    },
    {
      "cell_type": "code",
      "source": [
        "# топ 10 самых непопулярных имен у женщин (примеры тех, что встречаются по 1 разу)\n",
        "# выводим 30, потому что видим, что данные еще нужно дополнительно обрабатывать (сделаем это позже)\n",
        "# аналогично дальше\n",
        "\n",
        "females.groupby('target')['name'].value_counts(ascending=True)[:30]"
      ],
      "metadata": {
        "colab": {
          "base_uri": "https://localhost:8080/"
        },
        "id": "rFvuM6nw8MnF",
        "outputId": "d7dad2c5-d444-481d-8655-07b7b126abc6"
      },
      "execution_count": null,
      "outputs": [
        {
          "output_type": "execute_result",
          "data": {
            "text/plain": [
              "target  name         \n",
              "0.0     (НАЗАРОВА)       1\n",
              "        (ФОКИНА)         1\n",
              "        (ЧУХНО)          1\n",
              "        -ВАРСАН          1\n",
              "        -ГЕЛЬДЫ          1\n",
              "        -ЗЕЙДИ           1\n",
              "        -КУТУЗОВА        1\n",
              "        -МЕТЛИ           1\n",
              "        -МОШНИК          1\n",
              "        -ТАРАСОВ         1\n",
              "        -ТОВТ            1\n",
              "        CВЕТЛАНА         1\n",
              "        HАТАЛИЯ          1\n",
              "        ЁКУТХОН          1\n",
              "        ЁТАТЬЯНА         1\n",
              "        АЁРА             1\n",
              "        АААААААААААА     1\n",
              "        ААААААААААААА    1\n",
              "        ААЛЕКСАНДРА      1\n",
              "        ААРАБИ           1\n",
              "        ААСТАСИЯ         1\n",
              "        ААШАТ            1\n",
              "        АБАБИЛ           1\n",
              "        АБАДИЯ           1\n",
              "        АББАС            1\n",
              "        АБДЕЛЬИЛА        1\n",
              "        АБДРЯШИТ         1\n",
              "        АБДУЖАЛИЛ        1\n",
              "        АБДУКАРИМ        1\n",
              "        АБДУКАХХАР       1\n",
              "Name: name, dtype: int64"
            ]
          },
          "metadata": {},
          "execution_count": 38
        }
      ]
    },
    {
      "cell_type": "code",
      "source": [
        "# топ 10 самых непопулярных имен у мужчин\n",
        "\n",
        "males.groupby('target')['name'].value_counts(ascending=True)[:30]"
      ],
      "metadata": {
        "colab": {
          "base_uri": "https://localhost:8080/"
        },
        "id": "z-5LHSTM9PEx",
        "outputId": "8caeb20a-3ebb-4e24-fc1a-733877254e51"
      },
      "execution_count": null,
      "outputs": [
        {
          "output_type": "execute_result",
          "data": {
            "text/plain": [
              "target  name          \n",
              "1.0     -АКШЕНЦЕВ         1\n",
              "        -КУЛАК            1\n",
              "        -ОГЛЫ             1\n",
              "        -РЕШЕТНИКОВ       1\n",
              "        -РОДРИГЕС         1\n",
              "        -СТЕПНОЙ          1\n",
              "        .ЛЕКСАНДР         1\n",
              "        CЕРГЕЙ            1\n",
              "        ЁАЛЕКСЕЙ          1\n",
              "        ЁГИБЕК            1\n",
              "        ЁДГОР             1\n",
              "        ЁДГОРАЛИ          1\n",
              "        ЁКУБЖАН           1\n",
              "        ЁРКИНБЕК          1\n",
              "        ЁРКИНЖОН          1\n",
              "        ЁХАНЕС            1\n",
              "        А.К.М.            1\n",
              "        А.К.М.САНАУЛАХ    1\n",
              "        А.Т.М.            1\n",
              "        АЁМИДДИН          1\n",
              "        ААА               1\n",
              "        ААААААААААА       1\n",
              "        ААЗАТ             1\n",
              "        ААЛЕКСАНДР        1\n",
              "        ААЛЕКСАНДРНД      1\n",
              "        ААМИР             1\n",
              "        ААНТОЛИЙ          1\n",
              "        ААРНЕ             1\n",
              "        АБААСАЛИ          1\n",
              "        АБАБАКИР          1\n",
              "Name: name, dtype: int64"
            ]
          },
          "metadata": {},
          "execution_count": 39
        }
      ]
    },
    {
      "cell_type": "code",
      "source": [
        "# топ 10 самых непопулярных фамилий у женщин\n",
        "\n",
        "females.groupby('target')['surname'].value_counts(ascending=True)[:30]"
      ],
      "metadata": {
        "colab": {
          "base_uri": "https://localhost:8080/"
        },
        "id": "hN7kl5N_9qFV",
        "outputId": "aa308f55-0868-4e2a-ab28-5ad34693574f"
      },
      "execution_count": null,
      "outputs": [
        {
          "output_type": "execute_result",
          "data": {
            "text/plain": [
              "target  surname       \n",
              "0.0     ****              1\n",
              "        *-                1\n",
              "        -БАЛАКИНА         1\n",
              "        .ИЛЮШКИНА         1\n",
              "        0                 1\n",
              "        00                1\n",
              "        02                1\n",
              "        04                1\n",
              "        070297*           1\n",
              "        14032000          1\n",
              "        21102003ТЯЛИНА    1\n",
              "        3ЗАХАРЧЕНКО       1\n",
              "        99                1\n",
              "        ;ЕЖОВА            1\n",
              "        ;ЖИГАЧ            1\n",
              "        ЁАВРЕНТЬЕВА       1\n",
              "        ЁЛОХОВА           1\n",
              "        ЁЛХИНА            1\n",
              "        ЁЛЧЕВА            1\n",
              "        ЁЛЧЯН             1\n",
              "        ЁМИНА             1\n",
              "        ЁРМАТОВА          1\n",
              "        ЁРХОВА            1\n",
              "        ЁХИНА             1\n",
              "        ЁЧ                1\n",
              "        ЁШИНА             1\n",
              "        АЁШИНА            1\n",
              "        ААААААААААА       1\n",
              "        ААБ               1\n",
              "        ААДЛООПР          1\n",
              "Name: surname, dtype: int64"
            ]
          },
          "metadata": {},
          "execution_count": 85
        }
      ]
    },
    {
      "cell_type": "code",
      "source": [
        "# топ 10 самых непопулярных фамилий у мужчин\n",
        "\n",
        "males.groupby('target')['surname'].value_counts(ascending=True)[:30]"
      ],
      "metadata": {
        "colab": {
          "base_uri": "https://localhost:8080/"
        },
        "id": "A497k76k982c",
        "outputId": "5f7dc2fd-c4a4-41ee-8ca8-8860f47aab22"
      },
      "execution_count": null,
      "outputs": [
        {
          "output_type": "execute_result",
          "data": {
            "text/plain": [
              "target  surname               \n",
              "1.0     -СОКОЛОВ                  1\n",
              "        .ВАНЮШКИН                 1\n",
              "        .КРЮЧКОВ                  1\n",
              "        ;РЫЖКИН                   1\n",
              "        \\ККККККККККККККККК4445    1\n",
              "        ЁГИБЕРТ                   1\n",
              "        ЁКУБОВ                    1\n",
              "        ЁЛГИН                     1\n",
              "        ЁЛОЧКИН                   1\n",
              "        ЁЛХИН                     1\n",
              "        ЁЛШИН                     1\n",
              "        ЁХИН                      1\n",
              "        ЁШИН                      1\n",
              "        ААБ                       1\n",
              "        ААВАКУМОВ                 1\n",
              "        ААЕТОВ                    1\n",
              "        ААКРЕ                     1\n",
              "        ААМАН                     1\n",
              "        ААФНАСЬЕВ                 1\n",
              "        АБАБАКИРОВ                1\n",
              "        АБАБАКРИЕВ                1\n",
              "        АБАБУЛОВ                  1\n",
              "        АБАДЕЙ                    1\n",
              "        АБАДЖАН                   1\n",
              "        АБАДЖЕВ                   1\n",
              "        АБАДЖЕРОВ                 1\n",
              "        АБАДОНОВ                  1\n",
              "        АБАДУЛИН                  1\n",
              "        АБАЕЕВ                    1\n",
              "        АБАЕНИХИН                 1\n",
              "Name: surname, dtype: int64"
            ]
          },
          "metadata": {},
          "execution_count": 86
        }
      ]
    },
    {
      "cell_type": "code",
      "source": [
        "# топ 10 самых непопулярных отчеств у женщин\n",
        "\n",
        "females.groupby('target')['patronymic'].value_counts(ascending=True)[:30]"
      ],
      "metadata": {
        "colab": {
          "base_uri": "https://localhost:8080/"
        },
        "id": "BnqgULq5-D1D",
        "outputId": "823c0325-8390-44a1-9462-6437aa9a63c9"
      },
      "execution_count": null,
      "outputs": [
        {
          "output_type": "execute_result",
          "data": {
            "text/plain": [
              "target  patronymic             \n",
              "0.0     (ОЛЬГА) *                  1\n",
              "        * *                        1\n",
              "        *******                    1\n",
              "        **********                 1\n",
              "        - АВГУСТИНА ТИХОНОВНА      1\n",
              "        - АНАТ -                   1\n",
              "        - АНГЕЛИНА ИОНАСОВНА       1\n",
              "        - БАНУ БУРГАНТИНОВНА       1\n",
              "        - ВЕРА МИХАЙЛОВНА          1\n",
              "        - ЖЕНЬ ЕЛЕНА ВАЛЕРЬЕВНА    1\n",
              "        - ЛАЙМЕ АДОМО              1\n",
              "        - МАРИЯ ВАНДА - МАРИЯ      1\n",
              "        - ФЮРЯ АЛЕКСАНДРОВНА       1\n",
              "        ------                     1\n",
              "        --------                   1\n",
              "        ----------                 1\n",
              "        -----------                1\n",
              "        -----------------          1\n",
              "        -------------------        1\n",
              "        --------------------       1\n",
              "        -ВАЛЕРИЯ ИОЗАПО            1\n",
              "        -ЕЛИЗАВЕТА СЕРГЕЕВНА       1\n",
              "        -ЭМИЕВНА                   1\n",
              "        1СЕМЕНОВНА                 1\n",
              "        HИКАHДРОВHА                1\n",
              "        ЁРОВНА                     1\n",
              "        А АНАТОЛЬЕВН А             1\n",
              "        А ЛЕКСЕЕВНА                1\n",
              "        А НДРЕЕВНА                 1\n",
              "        А НИКОЛАЕВНА               1\n",
              "Name: patronymic, dtype: int64"
            ]
          },
          "metadata": {},
          "execution_count": 87
        }
      ]
    },
    {
      "cell_type": "code",
      "source": [
        "# топ 10 самых непопулярных отчеств у мужчин\n",
        "\n",
        "males.groupby('target')['patronymic'].value_counts(ascending=True)[:30]"
      ],
      "metadata": {
        "colab": {
          "base_uri": "https://localhost:8080/"
        },
        "id": "lc25REzA-TqY",
        "outputId": "e74f2937-654e-4256-83e5-f986748b0605"
      },
      "execution_count": null,
      "outputs": [
        {
          "output_type": "execute_result",
          "data": {
            "text/plain": [
              "target  patronymic            \n",
              "1.0      А АНАТОЛЬЕВИЧ            1\n",
              "         ЗАФАР *                  1\n",
              "         РАЗИК *                  1\n",
              "        **********                1\n",
              "        ************              1\n",
              "        - АГА АХИ ОГЛЫ            1\n",
              "        - АЛИ ДАНИЯРХОДЖАЕВИЧ     1\n",
              "        - КАДЫР АБДУЛНАСИРОВИЧ    1\n",
              "        - ПЕТР ПЕТРОВИЧ           1\n",
              "        - ХУН -                   1\n",
              "        - ЦЫРЕН БАДМАЕВИЧ         1\n",
              "        - ЭРНЕСТО *               1\n",
              "        ------                    1\n",
              "        -------                   1\n",
              "        -----------------         1\n",
              "        --------------------      1\n",
              "        -РИЧАРД -                 1\n",
              "        -РОМАН ТЕОДОРОВИЧ         1\n",
              "        -ФУАД ИСМАИЛОВИЧ          1\n",
              "        ...ЕРИЕВИЧ                1\n",
              "        BАЛЕРЬЕВИЧ                1\n",
              "        ЁВАСИЛЬЕВИЧ               1\n",
              "        ЁДГАРОВИЧ                 1\n",
              "        ЁДГОРОВИЧ                 1\n",
              "        ЁКУББАЕВИЧ                1\n",
              "        ЁЛОВИЧ                    1\n",
              "        ЁРИКУЛОВИЧ                1\n",
              "        ЁРКУЛОВИЧ                 1\n",
              "        ЁРМАТОВИЧ                 1\n",
              "        А АНАТОЛЬЕВИЧ             1\n",
              "Name: patronymic, dtype: int64"
            ]
          },
          "metadata": {},
          "execution_count": 89
        }
      ]
    },
    {
      "cell_type": "code",
      "source": [
        "# дальше диаграммы распределения имен, фамилий и отчеств по полу"
      ],
      "metadata": {
        "id": "2D-bEYhwAP0r"
      },
      "execution_count": null,
      "outputs": []
    },
    {
      "cell_type": "code",
      "source": [
        "males_names = males['name'].apply(lambda x: str(x))\n",
        "males_names.value_counts().plot.pie( autopct='%1.1f%%', shadow=False)\n",
        "\n",
        "plt.show()"
      ],
      "metadata": {
        "colab": {
          "base_uri": "https://localhost:8080/",
          "height": 248
        },
        "id": "0d1TeWcn-hOw",
        "outputId": "f0a89da8-383d-40b5-bda1-3da469664773"
      },
      "execution_count": null,
      "outputs": [
        {
          "output_type": "display_data",
          "data": {
            "text/plain": [
              "<Figure size 432x288 with 1 Axes>"
            ],
            "image/png": "[encoded data removed]"
          },
          "metadata": {}
        }
      ]
    },
    {
      "cell_type": "code",
      "source": [
        "females_names = females['name'].apply(lambda x: str(x))\n",
        "females_names.value_counts().plot.pie( autopct='%1.1f%%', shadow=False)\n",
        "\n",
        "plt.show()"
      ],
      "metadata": {
        "colab": {
          "base_uri": "https://localhost:8080/",
          "height": 248
        },
        "id": "vBIKGaTPAfg2",
        "outputId": "f197c3ab-47d9-4905-ff10-e9eb1fbf4d58"
      },
      "execution_count": null,
      "outputs": [
        {
          "output_type": "display_data",
          "data": {
            "text/plain": [
              "<Figure size 432x288 with 1 Axes>"
            ],
            "image/png": "[encoded data removed]"
          },
          "metadata": {}
        }
      ]
    },
    {
      "cell_type": "code",
      "source": [
        "males_surnames = males['surname'].apply(lambda x: str(x))\n",
        "males_surnames.value_counts().plot.pie( autopct='%1.1f%%', shadow=False)\n",
        "\n",
        "plt.show()"
      ],
      "metadata": {
        "id": "JilDL0cqCkCa"
      },
      "execution_count": null,
      "outputs": []
    },
    {
      "cell_type": "code",
      "source": [
        "females_surnames = females['surname'].apply(lambda x: str(x))\n",
        "females_surnames.value_counts().plot.pie( autopct='%1.1f%%', shadow=False)\n",
        "\n",
        "plt.show()"
      ],
      "metadata": {
        "id": "fSf4ZNbiAuH6"
      },
      "execution_count": null,
      "outputs": []
    },
    {
      "cell_type": "code",
      "source": [
        "males_patronymics = males['patronymic'].apply(lambda x: str(x))\n",
        "males_patronymics.value_counts().plot.pie( autopct='%1.1f%%', shadow=False)\n",
        "\n",
        "plt.show()"
      ],
      "metadata": {
        "id": "26e4O0JuAwRI"
      },
      "execution_count": null,
      "outputs": []
    },
    {
      "cell_type": "code",
      "source": [
        "females_patronymics = females['patronymic'].apply(lambda x: str(x))\n",
        "females_patronymics.value_counts().plot.pie( autopct='%1.1f%%', shadow=False)\n",
        "\n",
        "plt.show()"
      ],
      "metadata": {
        "id": "PmXciOaiAxCj"
      },
      "execution_count": null,
      "outputs": []
    },
    {
      "cell_type": "code",
      "source": [
        "# топы значений в целом соотносятся с ожиданиями\n",
        "# большинство имен, фамилий и отчеств имеют характерные окончания\n",
        "# стоит отдельно рассматривать каждый пол, поскольку мужчин и женщин разное количество,\n",
        "# чтобы потом работать с этими данными отдельно, выделяя признаки, отличающие один пол от другого"
      ],
      "metadata": {
        "id": "-dwmAFALDLIz"
      },
      "execution_count": null,
      "outputs": []
    },
    {
      "cell_type": "code",
      "source": [
        "# 2. Построение признаков"
      ],
      "metadata": {
        "id": "2k5L75kDCc2I"
      },
      "execution_count": null,
      "outputs": []
    },
    {
      "cell_type": "code",
      "source": [
        "# Задание 2.1"
      ],
      "metadata": {
        "id": "cCw-c6cACqXz"
      },
      "execution_count": null,
      "outputs": []
    },
    {
      "cell_type": "code",
      "source": [
        "males_name_len = males['name'].apply(lambda x: len(x))\n",
        "females_name_len = females['name'].apply(lambda x: len(x))"
      ],
      "metadata": {
        "id": "DI_x39DjXeUG"
      },
      "execution_count": null,
      "outputs": []
    },
    {
      "cell_type": "code",
      "source": [
        "# длина мужских имен\n",
        "\n",
        "males_name_len.hist(bins=16)"
      ],
      "metadata": {
        "colab": {
          "base_uri": "https://localhost:8080/",
          "height": 285
        },
        "id": "wW9fdA5vX9LI",
        "outputId": "78cb6d5f-93e7-4d8c-b9af-673cdaefa57c"
      },
      "execution_count": null,
      "outputs": [
        {
          "output_type": "execute_result",
          "data": {
            "text/plain": [
              "<matplotlib.axes._subplots.AxesSubplot at 0x7f8f610964d0>"
            ]
          },
          "metadata": {},
          "execution_count": 51
        },
        {
          "output_type": "display_data",
          "data": {
            "text/plain": [
              "<Figure size 432x288 with 1 Axes>"
            ],
            "image/png": "[encoded data removed]"
          },
          "metadata": {}
        }
      ]
    },
    {
      "cell_type": "code",
      "source": [
        "# длина женских имен\n",
        "\n",
        "females_name_len.hist(bins=16)"
      ],
      "metadata": {
        "colab": {
          "base_uri": "https://localhost:8080/",
          "height": 285
        },
        "id": "9TKcN1tdYoWM",
        "outputId": "5c16e3d4-0d9c-45f7-f3e5-df2f643c97cb"
      },
      "execution_count": null,
      "outputs": [
        {
          "output_type": "execute_result",
          "data": {
            "text/plain": [
              "<matplotlib.axes._subplots.AxesSubplot at 0x7f8f60faf690>"
            ]
          },
          "metadata": {},
          "execution_count": 53
        },
        {
          "output_type": "display_data",
          "data": {
            "text/plain": [
              "<Figure size 432x288 with 1 Axes>"
            ],
            "image/png": "[encoded data removed]"
          },
          "metadata": {}
        }
      ]
    },
    {
      "cell_type": "code",
      "source": [
        "# аналогично с фамилиями и отчествами\n",
        "\n",
        "males_surname_len = males['surname'].apply(lambda x: len(x))\n",
        "females_surname_len = females['surname'].apply(lambda x: len(x))\n",
        "\n",
        "males_patronymic_len = males['patronymic'].apply(lambda x: len(x))\n",
        "females_patronymic_len = females['patronymic'].apply(lambda x: len(x))"
      ],
      "metadata": {
        "id": "6omdvjcNZfKM"
      },
      "execution_count": null,
      "outputs": []
    },
    {
      "cell_type": "code",
      "source": [
        "males_surname_len.hist(bins = 16)"
      ],
      "metadata": {
        "colab": {
          "base_uri": "https://localhost:8080/",
          "height": 285
        },
        "id": "p2fZLFVMZ30I",
        "outputId": "dbdf6650-f669-4348-c3fd-987e1af9ca98"
      },
      "execution_count": null,
      "outputs": [
        {
          "output_type": "execute_result",
          "data": {
            "text/plain": [
              "<matplotlib.axes._subplots.AxesSubplot at 0x7f8f60ba6890>"
            ]
          },
          "metadata": {},
          "execution_count": 62
        },
        {
          "output_type": "display_data",
          "data": {
            "text/plain": [
              "<Figure size 432x288 with 1 Axes>"
            ],
            "image/png": "[encoded data removed]"
          },
          "metadata": {}
        }
      ]
    },
    {
      "cell_type": "code",
      "source": [
        "females_surname_len.hist(bins = 16)"
      ],
      "metadata": {
        "colab": {
          "base_uri": "https://localhost:8080/",
          "height": 296
        },
        "id": "hV5a1N5CaIyw",
        "outputId": "4a89a854-1669-4650-c87f-4bdb0290e263"
      },
      "execution_count": null,
      "outputs": [
        {
          "output_type": "execute_result",
          "data": {
            "text/plain": [
              "<matplotlib.axes._subplots.AxesSubplot at 0x7f8f60de6e90>"
            ]
          },
          "metadata": {},
          "execution_count": 58
        },
        {
          "output_type": "display_data",
          "data": {
            "text/plain": [
              "<Figure size 432x288 with 1 Axes>"
            ],
            "image/png": "[encoded data removed]"
          },
          "metadata": {}
        }
      ]
    },
    {
      "cell_type": "code",
      "source": [
        "males_patronymic_len.hist(bins = 16)"
      ],
      "metadata": {
        "colab": {
          "base_uri": "https://localhost:8080/",
          "height": 285
        },
        "id": "xCtb28hjaRxa",
        "outputId": "51eaabac-59a7-415e-d64b-ea4486c0368d"
      },
      "execution_count": null,
      "outputs": [
        {
          "output_type": "execute_result",
          "data": {
            "text/plain": [
              "<matplotlib.axes._subplots.AxesSubplot at 0x7f8f60cb5b10>"
            ]
          },
          "metadata": {},
          "execution_count": 61
        },
        {
          "output_type": "display_data",
          "data": {
            "text/plain": [
              "<Figure size 432x288 with 1 Axes>"
            ],
            "image/png": "[encoded data removed]"
          },
          "metadata": {}
        }
      ]
    },
    {
      "cell_type": "code",
      "source": [
        "females_patronymic_len.hist(bins = 16)"
      ],
      "metadata": {
        "colab": {
          "base_uri": "https://localhost:8080/",
          "height": 296
        },
        "id": "VvVCG3qDaXu0",
        "outputId": "2aef9694-e04a-4a3b-b79f-d4175fec6a88"
      },
      "execution_count": null,
      "outputs": [
        {
          "output_type": "execute_result",
          "data": {
            "text/plain": [
              "<matplotlib.axes._subplots.AxesSubplot at 0x7f8f60d00590>"
            ]
          },
          "metadata": {},
          "execution_count": 60
        },
        {
          "output_type": "display_data",
          "data": {
            "text/plain": [
              "<Figure size 432x288 with 1 Axes>"
            ],
            "image/png": "[encoded data removed]"
          },
          "metadata": {}
        }
      ]
    },
    {
      "cell_type": "code",
      "source": [
        "# разница в длине имен заметна: большинство мужских имеют длину примерно 6-7, \n",
        "# а женские в большинстве 5-7, в целом женские на 1-2 символа короче\n",
        "# фамилии длинее женские: большинство женских имеют длину 8-9,\n",
        "# а мужских - от 5 до 8, разница примерно 2-3 символа\n",
        "# отчества распределены примерно одинаково"
      ],
      "metadata": {
        "id": "iSkDBMcga-Ui"
      },
      "execution_count": null,
      "outputs": []
    },
    {
      "cell_type": "code",
      "source": [
        "# Задание 2.2"
      ],
      "metadata": {
        "id": "aCh6g4zDdC2N"
      },
      "execution_count": null,
      "outputs": []
    },
    {
      "cell_type": "code",
      "source": [
        "males_name_ending = males['name'].apply(lambda x: str(x)[-2:])\n",
        "females_name_ending = females['name'].apply(lambda x: str(x)[-2:])"
      ],
      "metadata": {
        "id": "RGUdNyDLdFtp"
      },
      "execution_count": null,
      "outputs": []
    },
    {
      "cell_type": "code",
      "source": [
        "males_name_ending"
      ],
      "metadata": {
        "colab": {
          "base_uri": "https://localhost:8080/"
        },
        "id": "gHzlMDbXeUyR",
        "outputId": "71b4393c-3759-4654-dbee-25845ef30be9"
      },
      "execution_count": null,
      "outputs": [
        {
          "output_type": "execute_result",
          "data": {
            "text/plain": [
              "1          ОР\n",
              "3          ЕЙ\n",
              "4          РК\n",
              "6          ЬЯ\n",
              "9          ДР\n",
              "           ..\n",
              "5917163    ИС\n",
              "5917164    ИЙ\n",
              "5917166    ИЙ\n",
              "5917168    ЕБ\n",
              "5917173    ИЙ\n",
              "Name: name, Length: 1782621, dtype: object"
            ]
          },
          "metadata": {},
          "execution_count": 71
        }
      ]
    },
    {
      "cell_type": "code",
      "source": [
        "females_name_ending"
      ],
      "metadata": {
        "colab": {
          "base_uri": "https://localhost:8080/"
        },
        "id": "TubMTQoMe7d1",
        "outputId": "a1961f8f-c4dd-4a01-8c6c-d98cba509a53"
      },
      "execution_count": null,
      "outputs": [
        {
          "output_type": "execute_result",
          "data": {
            "text/plain": [
              "0          НА\n",
              "2          ГА\n",
              "5          НА\n",
              "7          ИЯ\n",
              "8          КА\n",
              "           ..\n",
              "5917149    ИЯ\n",
              "5917153    ВА\n",
              "5917155    ИЯ\n",
              "5917169    НА\n",
              "5917171    ИЯ\n",
              "Name: name, Length: 2251339, dtype: object"
            ]
          },
          "metadata": {},
          "execution_count": 73
        }
      ]
    },
    {
      "cell_type": "code",
      "source": [
        "males_name_ending.value_counts().plot.pie( autopct='%1.1f%%', shadow=False)\n",
        "\n",
        "plt.show()"
      ],
      "metadata": {
        "colab": {
          "base_uri": "https://localhost:8080/",
          "height": 248
        },
        "id": "xOyShfEnfmd7",
        "outputId": "ac9479f3-a3d9-4bcb-cf2d-6f8a0cf397eb"
      },
      "execution_count": null,
      "outputs": [
        {
          "output_type": "display_data",
          "data": {
            "text/plain": [
              "<Figure size 432x288 with 1 Axes>"
            ],
            "image/png": "[encoded data removed]"
          },
          "metadata": {}
        }
      ]
    },
    {
      "cell_type": "code",
      "source": [
        "females_name_ending.value_counts().plot.pie( autopct='%1.1f%%', shadow=False)\n",
        "\n",
        "plt.show()"
      ],
      "metadata": {
        "colab": {
          "base_uri": "https://localhost:8080/",
          "height": 248
        },
        "id": "-naoLHi-lj7D",
        "outputId": "499ea22b-2d39-4f0e-ff1a-76987eaf15e1"
      },
      "execution_count": null,
      "outputs": [
        {
          "output_type": "display_data",
          "data": {
            "text/plain": [
              "<Figure size 432x288 with 1 Axes>"
            ],
            "image/png": "[encoded data removed]"
          },
          "metadata": {}
        }
      ]
    },
    {
      "cell_type": "code",
      "source": [
        "males_surname_ending = males['surname'].apply(lambda x: str(x)[-2:])\n",
        "females_surname_ending = females['surname'].apply(lambda x: str(x)[-2:])"
      ],
      "metadata": {
        "id": "bEKpsnxSlu4Y"
      },
      "execution_count": null,
      "outputs": []
    },
    {
      "cell_type": "code",
      "source": [
        "males_surname_ending.value_counts().plot.pie( autopct='%1.1f%%', shadow=False)\n",
        "\n",
        "plt.show()"
      ],
      "metadata": {
        "colab": {
          "base_uri": "https://localhost:8080/",
          "height": 248
        },
        "id": "Fb_XsUoNl-FX",
        "outputId": "3e45a6c2-9060-4b45-85bf-e10aea41ce79"
      },
      "execution_count": null,
      "outputs": [
        {
          "output_type": "display_data",
          "data": {
            "text/plain": [
              "<Figure size 432x288 with 1 Axes>"
            ],
            "image/png": "[encoded data removed]"
          },
          "metadata": {}
        }
      ]
    },
    {
      "cell_type": "code",
      "source": [
        "females_surname_ending.value_counts().plot.pie( autopct='%1.1f%%', shadow=False)\n",
        "\n",
        "plt.show()"
      ],
      "metadata": {
        "colab": {
          "base_uri": "https://localhost:8080/",
          "height": 248
        },
        "id": "Ek-jyG07mECl",
        "outputId": "eeae5ac5-df4b-48f5-bf4a-b1880601a416"
      },
      "execution_count": null,
      "outputs": [
        {
          "output_type": "display_data",
          "data": {
            "text/plain": [
              "<Figure size 432x288 with 1 Axes>"
            ],
            "image/png": "[encoded data removed]"
          },
          "metadata": {}
        }
      ]
    },
    {
      "cell_type": "code",
      "source": [
        "males_patronymic_ending = males['patronymic'].apply(lambda x: str(x)[-2:])\n",
        "females_patronymic_ending = females['patronymic'].apply(lambda x: str(x)[-2:])"
      ],
      "metadata": {
        "id": "30pMAPiZmKoT"
      },
      "execution_count": null,
      "outputs": []
    },
    {
      "cell_type": "code",
      "source": [
        "males_patronymic_ending.value_counts().plot.pie( autopct='%1.1f%%', shadow=False)\n",
        "\n",
        "plt.show()"
      ],
      "metadata": {
        "colab": {
          "base_uri": "https://localhost:8080/",
          "height": 248
        },
        "id": "LVsXhkramXNE",
        "outputId": "7022180d-0025-4587-d816-4b54a845af52"
      },
      "execution_count": null,
      "outputs": [
        {
          "output_type": "display_data",
          "data": {
            "text/plain": [
              "<Figure size 432x288 with 1 Axes>"
            ],
            "image/png": "[encoded data removed]"
          },
          "metadata": {}
        }
      ]
    },
    {
      "cell_type": "code",
      "source": [
        "females_patronymic_ending.value_counts().plot.pie( autopct='%1.1f%%', shadow=False)\n",
        "\n",
        "plt.show()"
      ],
      "metadata": {
        "colab": {
          "base_uri": "https://localhost:8080/",
          "height": 248
        },
        "id": "mBoCG6hQmeJk",
        "outputId": "2edf7c13-4845-4908-8d27-31404f796517"
      },
      "execution_count": null,
      "outputs": [
        {
          "output_type": "display_data",
          "data": {
            "text/plain": [
              "<Figure size 432x288 with 1 Axes>"
            ],
            "image/png": "[encoded data removed]"
          },
          "metadata": {}
        }
      ]
    },
    {
      "cell_type": "code",
      "source": [
        "# мужские и женские имена, фамилии и отчества имеют сильные различия\n",
        "# мужские имена оканчиваются на ий, ей, др, ир, ан и др., а женские на на, ия, ра, ья, да и др.\n",
        "# мужские фамилии оканчиваются на ов, ин, ен, ко и др., а женские на ва, на, ко, ая и др.\n",
        "# мужские отчества оканчиваются на ич, женские на на."
      ],
      "metadata": {
        "id": "YVUUVEq5mjWJ"
      },
      "execution_count": null,
      "outputs": []
    },
    {
      "cell_type": "code",
      "source": [
        "# Задание 2.3 -> см. задание 5) (все задание отдельно, к тестовым данным не применяю)"
      ],
      "metadata": {
        "id": "ThGgE5ftnpy9"
      },
      "execution_count": null,
      "outputs": []
    },
    {
      "cell_type": "code",
      "source": [
        "# 3. Предобработка и построение моделей"
      ],
      "metadata": {
        "id": "iOaxCamxnvhv"
      },
      "execution_count": null,
      "outputs": []
    },
    {
      "cell_type": "code",
      "source": [
        "# Задание 3.1"
      ],
      "metadata": {
        "id": "Voh2beHgn4YM"
      },
      "execution_count": null,
      "outputs": []
    },
    {
      "cell_type": "code",
      "source": [
        "data1 = data"
      ],
      "metadata": {
        "id": "VgKdjZ6Qn85e"
      },
      "execution_count": 93,
      "outputs": []
    },
    {
      "cell_type": "code",
      "source": [
        "! pip3 install nltk"
      ],
      "metadata": {
        "colab": {
          "base_uri": "https://localhost:8080/"
        },
        "id": "Az-aQ-0-vUlo",
        "outputId": "934767a0-500a-43f2-b93f-9eedce363d71"
      },
      "execution_count": 74,
      "outputs": [
        {
          "output_type": "stream",
          "name": "stdout",
          "text": [
            "Requirement already satisfied: nltk in /usr/local/lib/python3.7/dist-packages (3.2.5)\n",
            "Requirement already satisfied: six in /usr/local/lib/python3.7/dist-packages (from nltk) (1.15.0)\n"
          ]
        }
      ]
    },
    {
      "cell_type": "code",
      "source": [
        "!pip install texthero\n",
        "import texthero as hero"
      ],
      "metadata": {
        "colab": {
          "base_uri": "https://localhost:8080/"
        },
        "id": "K2ZOiUW3w0fZ",
        "outputId": "bcaaa1a0-3b5b-4cac-e8cf-9fda98474743"
      },
      "execution_count": 75,
      "outputs": [
        {
          "output_type": "stream",
          "name": "stdout",
          "text": [
            "Collecting texthero\n",
            "  Downloading texthero-1.1.0-py3-none-any.whl (24 kB)\n",
            "Requirement already satisfied: pandas>=1.0.2 in /usr/local/lib/python3.7/dist-packages (from texthero) (1.3.5)\n",
            "Requirement already satisfied: wordcloud>=1.5.0 in /usr/local/lib/python3.7/dist-packages (from texthero) (1.5.0)\n",
            "Requirement already satisfied: spacy<3.0.0 in /usr/local/lib/python3.7/dist-packages (from texthero) (2.2.4)\n",
            "Requirement already satisfied: plotly>=4.2.0 in /usr/local/lib/python3.7/dist-packages (from texthero) (5.5.0)\n",
            "Collecting nltk>=3.3\n",
            "  Downloading nltk-3.7-py3-none-any.whl (1.5 MB)\n",
            "\u001b[K     |████████████████████████████████| 1.5 MB 5.0 MB/s \n",
            "\u001b[?25hCollecting unidecode>=1.1.1\n",
            "  Downloading Unidecode-1.3.4-py3-none-any.whl (235 kB)\n",
            "\u001b[K     |████████████████████████████████| 235 kB 36.0 MB/s \n",
            "\u001b[?25hRequirement already satisfied: numpy>=1.17 in /usr/local/lib/python3.7/dist-packages (from texthero) (1.21.6)\n",
            "Requirement already satisfied: tqdm>=4.3 in /usr/local/lib/python3.7/dist-packages (from texthero) (4.64.0)\n",
            "Requirement already satisfied: scikit-learn>=0.22 in /usr/local/lib/python3.7/dist-packages (from texthero) (1.0.2)\n",
            "Requirement already satisfied: matplotlib>=3.1.0 in /usr/local/lib/python3.7/dist-packages (from texthero) (3.2.2)\n",
            "Requirement already satisfied: gensim<4.0,>=3.6.0 in /usr/local/lib/python3.7/dist-packages (from texthero) (3.6.0)\n",
            "Requirement already satisfied: scipy>=0.18.1 in /usr/local/lib/python3.7/dist-packages (from gensim<4.0,>=3.6.0->texthero) (1.4.1)\n",
            "Requirement already satisfied: smart-open>=1.2.1 in /usr/local/lib/python3.7/dist-packages (from gensim<4.0,>=3.6.0->texthero) (6.0.0)\n",
            "Requirement already satisfied: six>=1.5.0 in /usr/local/lib/python3.7/dist-packages (from gensim<4.0,>=3.6.0->texthero) (1.15.0)\n",
            "Requirement already satisfied: cycler>=0.10 in /usr/local/lib/python3.7/dist-packages (from matplotlib>=3.1.0->texthero) (0.11.0)\n",
            "Requirement already satisfied: python-dateutil>=2.1 in /usr/local/lib/python3.7/dist-packages (from matplotlib>=3.1.0->texthero) (2.8.2)\n",
            "Requirement already satisfied: pyparsing!=2.0.4,!=2.1.2,!=2.1.6,>=2.0.1 in /usr/local/lib/python3.7/dist-packages (from matplotlib>=3.1.0->texthero) (3.0.8)\n",
            "Requirement already satisfied: kiwisolver>=1.0.1 in /usr/local/lib/python3.7/dist-packages (from matplotlib>=3.1.0->texthero) (1.4.2)\n",
            "Requirement already satisfied: typing-extensions in /usr/local/lib/python3.7/dist-packages (from kiwisolver>=1.0.1->matplotlib>=3.1.0->texthero) (4.2.0)\n",
            "Collecting regex>=2021.8.3\n",
            "  Downloading regex-2022.4.24-cp37-cp37m-manylinux_2_17_x86_64.manylinux2014_x86_64.whl (749 kB)\n",
            "\u001b[K     |████████████████████████████████| 749 kB 34.1 MB/s \n",
            "\u001b[?25hRequirement already satisfied: click in /usr/local/lib/python3.7/dist-packages (from nltk>=3.3->texthero) (7.1.2)\n",
            "Requirement already satisfied: joblib in /usr/local/lib/python3.7/dist-packages (from nltk>=3.3->texthero) (1.1.0)\n",
            "Requirement already satisfied: pytz>=2017.3 in /usr/local/lib/python3.7/dist-packages (from pandas>=1.0.2->texthero) (2022.1)\n",
            "Requirement already satisfied: tenacity>=6.2.0 in /usr/local/lib/python3.7/dist-packages (from plotly>=4.2.0->texthero) (8.0.1)\n",
            "Requirement already satisfied: threadpoolctl>=2.0.0 in /usr/local/lib/python3.7/dist-packages (from scikit-learn>=0.22->texthero) (3.1.0)\n",
            "Requirement already satisfied: cymem<2.1.0,>=2.0.2 in /usr/local/lib/python3.7/dist-packages (from spacy<3.0.0->texthero) (2.0.6)\n",
            "Requirement already satisfied: murmurhash<1.1.0,>=0.28.0 in /usr/local/lib/python3.7/dist-packages (from spacy<3.0.0->texthero) (1.0.7)\n",
            "Requirement already satisfied: wasabi<1.1.0,>=0.4.0 in /usr/local/lib/python3.7/dist-packages (from spacy<3.0.0->texthero) (0.9.1)\n",
            "Requirement already satisfied: setuptools in /usr/local/lib/python3.7/dist-packages (from spacy<3.0.0->texthero) (57.4.0)\n",
            "Requirement already satisfied: srsly<1.1.0,>=1.0.2 in /usr/local/lib/python3.7/dist-packages (from spacy<3.0.0->texthero) (1.0.5)\n",
            "Requirement already satisfied: blis<0.5.0,>=0.4.0 in /usr/local/lib/python3.7/dist-packages (from spacy<3.0.0->texthero) (0.4.1)\n",
            "Requirement already satisfied: preshed<3.1.0,>=3.0.2 in /usr/local/lib/python3.7/dist-packages (from spacy<3.0.0->texthero) (3.0.6)\n",
            "Requirement already satisfied: thinc==7.4.0 in /usr/local/lib/python3.7/dist-packages (from spacy<3.0.0->texthero) (7.4.0)\n",
            "Requirement already satisfied: catalogue<1.1.0,>=0.0.7 in /usr/local/lib/python3.7/dist-packages (from spacy<3.0.0->texthero) (1.0.0)\n",
            "Requirement already satisfied: plac<1.2.0,>=0.9.6 in /usr/local/lib/python3.7/dist-packages (from spacy<3.0.0->texthero) (1.1.3)\n",
            "Requirement already satisfied: requests<3.0.0,>=2.13.0 in /usr/local/lib/python3.7/dist-packages (from spacy<3.0.0->texthero) (2.23.0)\n",
            "Requirement already satisfied: importlib-metadata>=0.20 in /usr/local/lib/python3.7/dist-packages (from catalogue<1.1.0,>=0.0.7->spacy<3.0.0->texthero) (4.11.3)\n",
            "Requirement already satisfied: zipp>=0.5 in /usr/local/lib/python3.7/dist-packages (from importlib-metadata>=0.20->catalogue<1.1.0,>=0.0.7->spacy<3.0.0->texthero) (3.8.0)\n",
            "Requirement already satisfied: certifi>=2017.4.17 in /usr/local/lib/python3.7/dist-packages (from requests<3.0.0,>=2.13.0->spacy<3.0.0->texthero) (2021.10.8)\n",
            "Requirement already satisfied: idna<3,>=2.5 in /usr/local/lib/python3.7/dist-packages (from requests<3.0.0,>=2.13.0->spacy<3.0.0->texthero) (2.10)\n",
            "Requirement already satisfied: urllib3!=1.25.0,!=1.25.1,<1.26,>=1.21.1 in /usr/local/lib/python3.7/dist-packages (from requests<3.0.0,>=2.13.0->spacy<3.0.0->texthero) (1.24.3)\n",
            "Requirement already satisfied: chardet<4,>=3.0.2 in /usr/local/lib/python3.7/dist-packages (from requests<3.0.0,>=2.13.0->spacy<3.0.0->texthero) (3.0.4)\n",
            "Requirement already satisfied: pillow in /usr/local/lib/python3.7/dist-packages (from wordcloud>=1.5.0->texthero) (7.1.2)\n",
            "Installing collected packages: regex, unidecode, nltk, texthero\n",
            "  Attempting uninstall: regex\n",
            "    Found existing installation: regex 2019.12.20\n",
            "    Uninstalling regex-2019.12.20:\n",
            "      Successfully uninstalled regex-2019.12.20\n",
            "  Attempting uninstall: nltk\n",
            "    Found existing installation: nltk 3.2.5\n",
            "    Uninstalling nltk-3.2.5:\n",
            "      Successfully uninstalled nltk-3.2.5\n",
            "Successfully installed nltk-3.7 regex-2022.4.24 texthero-1.1.0 unidecode-1.3.4\n"
          ]
        },
        {
          "output_type": "stream",
          "name": "stderr",
          "text": [
            "[nltk_data] Downloading package stopwords to /root/nltk_data...\n",
            "[nltk_data]   Unzipping corpora/stopwords.zip.\n"
          ]
        }
      ]
    },
    {
      "cell_type": "code",
      "source": [
        "from texthero import preprocessing"
      ],
      "metadata": {
        "id": "iLaKmvvTx1Da"
      },
      "execution_count": 76,
      "outputs": []
    },
    {
      "cell_type": "code",
      "source": [
        "custom_pipeline = [preprocessing.lowercase,\n",
        "                   preprocessing.remove_punctuation,\n",
        "                   preprocessing.remove_whitespace,\n",
        "                   preprocessing.stem]\n",
        "\n",
        "data1['patronymic'] = hero.clean(data1['patronymic'], pipeline = custom_pipeline)\n",
        "data1['name'] = hero.clean(data1['name'], pipeline = custom_pipeline)\n",
        "data1['surname'] = hero.clean(data1['surname'], pipeline = custom_pipeline)"
      ],
      "metadata": {
        "id": "3Ju4f5eYyGAO"
      },
      "execution_count": 94,
      "outputs": []
    },
    {
      "cell_type": "code",
      "source": [
        "#data1.head()"
      ],
      "metadata": {
        "colab": {
          "base_uri": "https://localhost:8080/",
          "height": 206
        },
        "id": "vdyfWgsri0MK",
        "outputId": "3fbc9036-99be-44dd-8542-b834b8f015b2"
      },
      "execution_count": 95,
      "outputs": [
        {
          "output_type": "execute_result",
          "data": {
            "text/plain": [
              "        Id    surname    name    patronymic  target\n",
              "0  2636471    якушова   елена     сергеевна     0.0\n",
              "1   165386  вабищевич   федор      петрович     1.0\n",
              "2   243807   голубева   ольга     антоновна     0.0\n",
              "3   232582    глазков  андрей  владимирович     1.0\n",
              "4  3970023   гаврищук    марк     вадимович     1.0"
            ],
            "text/html": [
              "\n",
              "  <div id=\"df-1aeec1c4-885d-43c1-a2c3-285da88c0ce2\">\n",
              "    <div class=\"colab-df-container\">\n",
              "      <div>\n",
              "<style scoped>\n",
              "    .dataframe tbody tr th:only-of-type {\n",
              "        vertical-align: middle;\n",
              "    }\n",
              "\n",
              "    .dataframe tbody tr th {\n",
              "        vertical-align: top;\n",
              "    }\n",
              "\n",
              "    .dataframe thead th {\n",
              "        text-align: right;\n",
              "    }\n",
              "</style>\n",
              "<table border=\"1\" class=\"dataframe\">\n",
              "  <thead>\n",
              "    <tr style=\"text-align: right;\">\n",
              "      <th></th>\n",
              "      <th>Id</th>\n",
              "      <th>surname</th>\n",
              "      <th>name</th>\n",
              "      <th>patronymic</th>\n",
              "      <th>target</th>\n",
              "    </tr>\n",
              "  </thead>\n",
              "  <tbody>\n",
              "    <tr>\n",
              "      <th>0</th>\n",
              "      <td>2636471</td>\n",
              "      <td>якушова</td>\n",
              "      <td>елена</td>\n",
              "      <td>сергеевна</td>\n",
              "      <td>0.0</td>\n",
              "    </tr>\n",
              "    <tr>\n",
              "      <th>1</th>\n",
              "      <td>165386</td>\n",
              "      <td>вабищевич</td>\n",
              "      <td>федор</td>\n",
              "      <td>петрович</td>\n",
              "      <td>1.0</td>\n",
              "    </tr>\n",
              "    <tr>\n",
              "      <th>2</th>\n",
              "      <td>243807</td>\n",
              "      <td>голубева</td>\n",
              "      <td>ольга</td>\n",
              "      <td>антоновна</td>\n",
              "      <td>0.0</td>\n",
              "    </tr>\n",
              "    <tr>\n",
              "      <th>3</th>\n",
              "      <td>232582</td>\n",
              "      <td>глазков</td>\n",
              "      <td>андрей</td>\n",
              "      <td>владимирович</td>\n",
              "      <td>1.0</td>\n",
              "    </tr>\n",
              "    <tr>\n",
              "      <th>4</th>\n",
              "      <td>3970023</td>\n",
              "      <td>гаврищук</td>\n",
              "      <td>марк</td>\n",
              "      <td>вадимович</td>\n",
              "      <td>1.0</td>\n",
              "    </tr>\n",
              "  </tbody>\n",
              "</table>\n",
              "</div>\n",
              "      <button class=\"colab-df-convert\" onclick=\"convertToInteractive('df-1aeec1c4-885d-43c1-a2c3-285da88c0ce2')\"\n",
              "              title=\"Convert this dataframe to an interactive table.\"\n",
              "              style=\"display:none;\">\n",
              "        \n",
              "  <svg xmlns=\"http://www.w3.org/2000/svg\" height=\"24px\"viewBox=\"0 0 24 24\"\n",
              "       width=\"24px\">\n",
              "    <path d=\"M0 0h24v24H0V0z\" fill=\"none\"/>\n",
              "    <path d=\"M18.56 5.44l.94 2.06.94-2.06 2.06-.94-2.06-.94-.94-2.06-.94 2.06-2.06.94zm-11 1L8.5 8.5l.94-2.06 2.06-.94-2.06-.94L8.5 2.5l-.94 2.06-2.06.94zm10 10l.94 2.06.94-2.06 2.06-.94-2.06-.94-.94-2.06-.94 2.06-2.06.94z\"/><path d=\"M17.41 7.96l-1.37-1.37c-.4-.4-.92-.59-1.43-.59-.52 0-1.04.2-1.43.59L10.3 9.45l-7.72 7.72c-.78.78-.78 2.05 0 2.83L4 21.41c.39.39.9.59 1.41.59.51 0 1.02-.2 1.41-.59l7.78-7.78 2.81-2.81c.8-.78.8-2.07 0-2.86zM5.41 20L4 18.59l7.72-7.72 1.47 1.35L5.41 20z\"/>\n",
              "  </svg>\n",
              "      </button>\n",
              "      \n",
              "  <style>\n",
              "    .colab-df-container {\n",
              "      display:flex;\n",
              "      flex-wrap:wrap;\n",
              "      gap: 12px;\n",
              "    }\n",
              "\n",
              "    .colab-df-convert {\n",
              "      background-color: #E8F0FE;\n",
              "      border: none;\n",
              "      border-radius: 50%;\n",
              "      cursor: pointer;\n",
              "      display: none;\n",
              "      fill: #1967D2;\n",
              "      height: 32px;\n",
              "      padding: 0 0 0 0;\n",
              "      width: 32px;\n",
              "    }\n",
              "\n",
              "    .colab-df-convert:hover {\n",
              "      background-color: #E2EBFA;\n",
              "      box-shadow: 0px 1px 2px rgba(60, 64, 67, 0.3), 0px 1px 3px 1px rgba(60, 64, 67, 0.15);\n",
              "      fill: #174EA6;\n",
              "    }\n",
              "\n",
              "    [theme=dark] .colab-df-convert {\n",
              "      background-color: #3B4455;\n",
              "      fill: #D2E3FC;\n",
              "    }\n",
              "\n",
              "    [theme=dark] .colab-df-convert:hover {\n",
              "      background-color: #434B5C;\n",
              "      box-shadow: 0px 1px 3px 1px rgba(0, 0, 0, 0.15);\n",
              "      filter: drop-shadow(0px 1px 2px rgba(0, 0, 0, 0.3));\n",
              "      fill: #FFFFFF;\n",
              "    }\n",
              "  </style>\n",
              "\n",
              "      <script>\n",
              "        const buttonEl =\n",
              "          document.querySelector('#df-1aeec1c4-885d-43c1-a2c3-285da88c0ce2 button.colab-df-convert');\n",
              "        buttonEl.style.display =\n",
              "          google.colab.kernel.accessAllowed ? 'block' : 'none';\n",
              "\n",
              "        async function convertToInteractive(key) {\n",
              "          const element = document.querySelector('#df-1aeec1c4-885d-43c1-a2c3-285da88c0ce2');\n",
              "          const dataTable =\n",
              "            await google.colab.kernel.invokeFunction('convertToInteractive',\n",
              "                                                     [key], {});\n",
              "          if (!dataTable) return;\n",
              "\n",
              "          const docLinkHtml = 'Like what you see? Visit the ' +\n",
              "            '<a target=\"_blank\" href=https://colab.research.google.com/notebooks/data_table.ipynb>data table notebook</a>'\n",
              "            + ' to learn more about interactive tables.';\n",
              "          element.innerHTML = '';\n",
              "          dataTable['output_type'] = 'display_data';\n",
              "          await google.colab.output.renderOutput(dataTable, element);\n",
              "          const docLink = document.createElement('div');\n",
              "          docLink.innerHTML = docLinkHtml;\n",
              "          element.appendChild(docLink);\n",
              "        }\n",
              "      </script>\n",
              "    </div>\n",
              "  </div>\n",
              "  "
            ]
          },
          "metadata": {},
          "execution_count": 95
        }
      ]
    },
    {
      "cell_type": "code",
      "source": [
        "data1['patronymic'] = data1['patronymic'].str.replace('ё','е')\n",
        "data1['name'] = data1['name'].str.replace('ё','е')\n",
        "data1['surname'] = data1['surname'].str.replace('ё','е')"
      ],
      "metadata": {
        "id": "mlkJrO0p0ncF"
      },
      "execution_count": 97,
      "outputs": []
    },
    {
      "cell_type": "code",
      "source": [
        "data1 = data1[\n",
        "data1['name'].apply(lambda x: '[a-z]' not in x) &\n",
        "data1['surname'].apply(lambda x: '[a-z]' not in x) &\n",
        "data1['patronymic'].apply(lambda x: '[a-z]' not in x) &\n",
        "data1['name'].apply(lambda x: '[0-9]' not in x) &\n",
        "data1['surname'].apply(lambda x: '[0-9]' not in x) &\n",
        "data1['patronymic'].apply(lambda x: '[0-9]' not in x)\n",
        "  ]"
      ],
      "metadata": {
        "id": "npUvAPoc_T6d"
      },
      "execution_count": 98,
      "outputs": []
    },
    {
      "cell_type": "code",
      "source": [
        "males1 = data1.loc[data1['target']== 1.0]\n",
        "females1 = data1.loc[data1['target']== 0.0]"
      ],
      "metadata": {
        "id": "dZBRLs1bru6J"
      },
      "execution_count": 116,
      "outputs": []
    },
    {
      "cell_type": "code",
      "source": [
        "# с дубликатами и таргетом разобрались раньше\n",
        "# записи с буквами не из кириллицы не имеют смысловой нагрузки (не настоящие имена)\n",
        "# и будут мешать обучению моделей"
      ],
      "metadata": {
        "id": "qlVGyDKCEGmE"
      },
      "execution_count": null,
      "outputs": []
    },
    {
      "cell_type": "code",
      "source": [
        "# Задание 3.2"
      ],
      "metadata": {
        "id": "y6t-4MD5Exs3"
      },
      "execution_count": null,
      "outputs": []
    },
    {
      "cell_type": "code",
      "source": [
        "# датафрейм с фичами\n",
        "\n",
        "feature_df = data1"
      ],
      "metadata": {
        "id": "Iwz9kgvpE2h7"
      },
      "execution_count": 99,
      "outputs": []
    },
    {
      "cell_type": "code",
      "source": [
        "# на всякий случай еще раз удалим строки с пустыми значениями\n",
        "\n",
        "feature_df.dropna(inplace = True)"
      ],
      "metadata": {
        "id": "mRgKfHUzwokw"
      },
      "execution_count": null,
      "outputs": []
    },
    {
      "cell_type": "code",
      "source": [
        "nm_lst_ltts = lambda x: str(x)[-2:]\n",
        "feature_df['name_last_letters'] = feature_df['name'].map(nm_lst_ltts)\n",
        "feature_df['surname_last_letters'] = feature_df['surname'].map(nm_lst_ltts)\n",
        "feature_df['patronymic_last_letters'] = feature_df['patronymic'].map(nm_lst_ltts)\n",
        "\n",
        "nm_ln = lambda x: len(x)\n",
        "feature_df['name_length'] = feature_df['name'].map(nm_ln)\n",
        "feature_df['surname_length'] = feature_df['surname'].map(nm_ln)\n",
        "feature_df['patronymic_length'] = feature_df['patronymic'].map(nm_ln)\n"
      ],
      "metadata": {
        "id": "UoFmsmmJQhej"
      },
      "execution_count": 82,
      "outputs": []
    },
    {
      "cell_type": "code",
      "source": [
        "# удаление ненужных столбцов\n",
        "\n",
        "feature_df = feature_df.drop(feature_df.columns[[1,2,3]], axis = 1)"
      ],
      "metadata": {
        "id": "pVuuyVzRklxu"
      },
      "execution_count": null,
      "outputs": []
    },
    {
      "cell_type": "code",
      "source": [
        "# нужный порядок столбцов\n",
        "\n",
        "feature_df = feature_df[['Id', 'name_last_letters', 'surname_last_letters',\n",
        "                         'patronymic_last_letters', 'name_length', 'surname_length',\n",
        "                         'patronymic_length', 'target']]"
      ],
      "metadata": {
        "id": "1bCQS_qbpvDe"
      },
      "execution_count": null,
      "outputs": []
    },
    {
      "cell_type": "code",
      "source": [
        "#feature_df.head()"
      ],
      "metadata": {
        "colab": {
          "base_uri": "https://localhost:8080/",
          "height": 270
        },
        "id": "VsJQgA4_HkwC",
        "outputId": "0258c2e8-7a1c-46a5-c8dd-acf3540ca331"
      },
      "execution_count": null,
      "outputs": [
        {
          "output_type": "execute_result",
          "data": {
            "text/plain": [
              "        Id name_last_letters surname_last_letters patronymic_last_letters  \\\n",
              "0  2636471                на                   ва                      на   \n",
              "1   165386                ор                   ич                      ич   \n",
              "2   243807                га                   ва                      на   \n",
              "3   232582                ей                   ов                      ич   \n",
              "4  3970023                рк                   ук                      ич   \n",
              "\n",
              "   name_length  surname_length  patronymic_length  target  \n",
              "0            5               7                  9     0.0  \n",
              "1            5               9                  8     1.0  \n",
              "2            5               8                  9     0.0  \n",
              "3            6               7                 12     1.0  \n",
              "4            4               8                  9     1.0  "
            ],
            "text/html": [
              "\n",
              "  <div id=\"df-03fb39c0-67da-47a5-89a7-b4cf4c40e1bb\">\n",
              "    <div class=\"colab-df-container\">\n",
              "      <div>\n",
              "<style scoped>\n",
              "    .dataframe tbody tr th:only-of-type {\n",
              "        vertical-align: middle;\n",
              "    }\n",
              "\n",
              "    .dataframe tbody tr th {\n",
              "        vertical-align: top;\n",
              "    }\n",
              "\n",
              "    .dataframe thead th {\n",
              "        text-align: right;\n",
              "    }\n",
              "</style>\n",
              "<table border=\"1\" class=\"dataframe\">\n",
              "  <thead>\n",
              "    <tr style=\"text-align: right;\">\n",
              "      <th></th>\n",
              "      <th>Id</th>\n",
              "      <th>name_last_letters</th>\n",
              "      <th>surname_last_letters</th>\n",
              "      <th>patronymic_last_letters</th>\n",
              "      <th>name_length</th>\n",
              "      <th>surname_length</th>\n",
              "      <th>patronymic_length</th>\n",
              "      <th>target</th>\n",
              "    </tr>\n",
              "  </thead>\n",
              "  <tbody>\n",
              "    <tr>\n",
              "      <th>0</th>\n",
              "      <td>2636471</td>\n",
              "      <td>на</td>\n",
              "      <td>ва</td>\n",
              "      <td>на</td>\n",
              "      <td>5</td>\n",
              "      <td>7</td>\n",
              "      <td>9</td>\n",
              "      <td>0.0</td>\n",
              "    </tr>\n",
              "    <tr>\n",
              "      <th>1</th>\n",
              "      <td>165386</td>\n",
              "      <td>ор</td>\n",
              "      <td>ич</td>\n",
              "      <td>ич</td>\n",
              "      <td>5</td>\n",
              "      <td>9</td>\n",
              "      <td>8</td>\n",
              "      <td>1.0</td>\n",
              "    </tr>\n",
              "    <tr>\n",
              "      <th>2</th>\n",
              "      <td>243807</td>\n",
              "      <td>га</td>\n",
              "      <td>ва</td>\n",
              "      <td>на</td>\n",
              "      <td>5</td>\n",
              "      <td>8</td>\n",
              "      <td>9</td>\n",
              "      <td>0.0</td>\n",
              "    </tr>\n",
              "    <tr>\n",
              "      <th>3</th>\n",
              "      <td>232582</td>\n",
              "      <td>ей</td>\n",
              "      <td>ов</td>\n",
              "      <td>ич</td>\n",
              "      <td>6</td>\n",
              "      <td>7</td>\n",
              "      <td>12</td>\n",
              "      <td>1.0</td>\n",
              "    </tr>\n",
              "    <tr>\n",
              "      <th>4</th>\n",
              "      <td>3970023</td>\n",
              "      <td>рк</td>\n",
              "      <td>ук</td>\n",
              "      <td>ич</td>\n",
              "      <td>4</td>\n",
              "      <td>8</td>\n",
              "      <td>9</td>\n",
              "      <td>1.0</td>\n",
              "    </tr>\n",
              "  </tbody>\n",
              "</table>\n",
              "</div>\n",
              "      <button class=\"colab-df-convert\" onclick=\"convertToInteractive('df-03fb39c0-67da-47a5-89a7-b4cf4c40e1bb')\"\n",
              "              title=\"Convert this dataframe to an interactive table.\"\n",
              "              style=\"display:none;\">\n",
              "        \n",
              "  <svg xmlns=\"http://www.w3.org/2000/svg\" height=\"24px\"viewBox=\"0 0 24 24\"\n",
              "       width=\"24px\">\n",
              "    <path d=\"M0 0h24v24H0V0z\" fill=\"none\"/>\n",
              "    <path d=\"M18.56 5.44l.94 2.06.94-2.06 2.06-.94-2.06-.94-.94-2.06-.94 2.06-2.06.94zm-11 1L8.5 8.5l.94-2.06 2.06-.94-2.06-.94L8.5 2.5l-.94 2.06-2.06.94zm10 10l.94 2.06.94-2.06 2.06-.94-2.06-.94-.94-2.06-.94 2.06-2.06.94z\"/><path d=\"M17.41 7.96l-1.37-1.37c-.4-.4-.92-.59-1.43-.59-.52 0-1.04.2-1.43.59L10.3 9.45l-7.72 7.72c-.78.78-.78 2.05 0 2.83L4 21.41c.39.39.9.59 1.41.59.51 0 1.02-.2 1.41-.59l7.78-7.78 2.81-2.81c.8-.78.8-2.07 0-2.86zM5.41 20L4 18.59l7.72-7.72 1.47 1.35L5.41 20z\"/>\n",
              "  </svg>\n",
              "      </button>\n",
              "      \n",
              "  <style>\n",
              "    .colab-df-container {\n",
              "      display:flex;\n",
              "      flex-wrap:wrap;\n",
              "      gap: 12px;\n",
              "    }\n",
              "\n",
              "    .colab-df-convert {\n",
              "      background-color: #E8F0FE;\n",
              "      border: none;\n",
              "      border-radius: 50%;\n",
              "      cursor: pointer;\n",
              "      display: none;\n",
              "      fill: #1967D2;\n",
              "      height: 32px;\n",
              "      padding: 0 0 0 0;\n",
              "      width: 32px;\n",
              "    }\n",
              "\n",
              "    .colab-df-convert:hover {\n",
              "      background-color: #E2EBFA;\n",
              "      box-shadow: 0px 1px 2px rgba(60, 64, 67, 0.3), 0px 1px 3px 1px rgba(60, 64, 67, 0.15);\n",
              "      fill: #174EA6;\n",
              "    }\n",
              "\n",
              "    [theme=dark] .colab-df-convert {\n",
              "      background-color: #3B4455;\n",
              "      fill: #D2E3FC;\n",
              "    }\n",
              "\n",
              "    [theme=dark] .colab-df-convert:hover {\n",
              "      background-color: #434B5C;\n",
              "      box-shadow: 0px 1px 3px 1px rgba(0, 0, 0, 0.15);\n",
              "      filter: drop-shadow(0px 1px 2px rgba(0, 0, 0, 0.3));\n",
              "      fill: #FFFFFF;\n",
              "    }\n",
              "  </style>\n",
              "\n",
              "      <script>\n",
              "        const buttonEl =\n",
              "          document.querySelector('#df-03fb39c0-67da-47a5-89a7-b4cf4c40e1bb button.colab-df-convert');\n",
              "        buttonEl.style.display =\n",
              "          google.colab.kernel.accessAllowed ? 'block' : 'none';\n",
              "\n",
              "        async function convertToInteractive(key) {\n",
              "          const element = document.querySelector('#df-03fb39c0-67da-47a5-89a7-b4cf4c40e1bb');\n",
              "          const dataTable =\n",
              "            await google.colab.kernel.invokeFunction('convertToInteractive',\n",
              "                                                     [key], {});\n",
              "          if (!dataTable) return;\n",
              "\n",
              "          const docLinkHtml = 'Like what you see? Visit the ' +\n",
              "            '<a target=\"_blank\" href=https://colab.research.google.com/notebooks/data_table.ipynb>data table notebook</a>'\n",
              "            + ' to learn more about interactive tables.';\n",
              "          element.innerHTML = '';\n",
              "          dataTable['output_type'] = 'display_data';\n",
              "          await google.colab.output.renderOutput(dataTable, element);\n",
              "          const docLink = document.createElement('div');\n",
              "          docLink.innerHTML = docLinkHtml;\n",
              "          element.appendChild(docLink);\n",
              "        }\n",
              "      </script>\n",
              "    </div>\n",
              "  </div>\n",
              "  "
            ]
          },
          "metadata": {},
          "execution_count": 30
        }
      ]
    },
    {
      "cell_type": "code",
      "source": [
        "from sklearn.model_selection import train_test_split"
      ],
      "metadata": {
        "id": "2SgSvqFQlqXx"
      },
      "execution_count": 130,
      "outputs": []
    },
    {
      "cell_type": "code",
      "source": [
        "train = feature_df[['Id', 'name_last_letters',\t'surname_last_letters',\t'patronymic_last_letters',\t'name_length',\t'surname_length',\t'patronymic_length']]\n",
        "target = feature_df['target']"
      ],
      "metadata": {
        "id": "ILp0Pr5Srl0O"
      },
      "execution_count": null,
      "outputs": []
    },
    {
      "cell_type": "code",
      "source": [
        "X_train, X_valid, y_train, y_valid = train_test_split(train, target, test_size=0.2, random_state=1337)"
      ],
      "metadata": {
        "id": "77X4Mk49qdWz"
      },
      "execution_count": null,
      "outputs": []
    },
    {
      "cell_type": "code",
      "source": [
        "# Задание 3.3"
      ],
      "metadata": {
        "id": "ZuoY0BHss7Oe"
      },
      "execution_count": null,
      "outputs": []
    },
    {
      "cell_type": "code",
      "source": [
        "from sklearn.pipeline import Pipeline\n",
        "from sklearn.preprocessing import OneHotEncoder, StandardScaler\n",
        "\n",
        "from sklearn.compose import ColumnTransformer\n",
        "from sklearn.datasets import fetch_openml #?\n",
        "from sklearn.impute import SimpleImputer"
      ],
      "metadata": {
        "id": "ClXCzaLHtJei"
      },
      "execution_count": 133,
      "outputs": []
    },
    {
      "cell_type": "code",
      "source": [
        "# основа пайплайна\n",
        "\n",
        "numeric_features = [\"name_length\", \"surname_length\", \"patronymic_length\"]\n",
        "numeric_transformer = Pipeline(\n",
        "    steps=[(\"imputer\", SimpleImputer(strategy=\"median\")), (\"scaler\", StandardScaler())]\n",
        ")\n",
        "\n",
        "categorical_features = [\"name_last_letters\", \"surname_last_letters\", \"patronymic_last_letters\"]\n",
        "categorical_transformer = OneHotEncoder(handle_unknown=\"ignore\")\n",
        "\n",
        "preprocessor = ColumnTransformer(\n",
        "    transformers=[\n",
        "        (\"num\", numeric_transformer, numeric_features),\n",
        "        (\"cat\", categorical_transformer, categorical_features),\n",
        "    ]\n",
        ")\n",
        "\n",
        "\n",
        "#clf = Pipeline(\n",
        "#    steps=[(\"preprocessor\", preprocessor), (\"classifier\", LogisticRegression())]\n",
        "#)"
      ],
      "metadata": {
        "id": "Q3RQSiiMHtjh"
      },
      "execution_count": null,
      "outputs": []
    },
    {
      "cell_type": "code",
      "source": [
        "# отделение валидационной выборки до предобработки признаков позволяет поставить\n",
        "# данные для валидации в то же положение, в котором будут тестовые данные\n",
        "# (они будут обрабатываться отдельно, а не вместе с данными трейна), таким образом значение accuracy более честное\n",
        "# модель обрабатывает массив данных, никак не пересекающийся с тем, на котором будут предсказания\n",
        "# (например, медиана будет только на данных трейна, и т.д.)\n",
        "# это означает независимость обучения на данных трена от тестовых"
      ],
      "metadata": {
        "id": "r1jfsqCOLYBt"
      },
      "execution_count": null,
      "outputs": []
    },
    {
      "cell_type": "code",
      "source": [
        "# Задание 3.4"
      ],
      "metadata": {
        "id": "9SjKK2pdLCBe"
      },
      "execution_count": null,
      "outputs": []
    },
    {
      "cell_type": "code",
      "source": [
        "from sklearn.linear_model import LinearRegression\n",
        "from sklearn.linear_model import LogisticRegression\n",
        "from sklearn.tree import DecisionTreeClassifier\n",
        "from sklearn.ensemble import RandomForestClassifier\n",
        "from xgboost import XGBClassifier\n",
        "import lightgbm as lgb\n",
        "\n",
        "from sklearn.metrics import roc_auc_score"
      ],
      "metadata": {
        "id": "Z7-qf75WLFP2"
      },
      "execution_count": 134,
      "outputs": []
    },
    {
      "cell_type": "code",
      "source": [
        "# LinearRegression"
      ],
      "metadata": {
        "id": "Wl3Kt3ueMHQb"
      },
      "execution_count": null,
      "outputs": []
    },
    {
      "cell_type": "code",
      "source": [
        "# линейная регрессия не поддерживает roc_auc_score, \n",
        "# поэтому для нее просто посчитаем model score\n",
        "# уже по второму знаку после запятой там видно, что это самая неточная модель"
      ],
      "metadata": {
        "id": "kHceXAhEuB6p"
      },
      "execution_count": null,
      "outputs": []
    },
    {
      "cell_type": "code",
      "source": [
        "clf = Pipeline(\n",
        "    steps=[(\"preprocessor\", preprocessor), (\"classifier\", LinearRegression())]\n",
        ")\n",
        "\n",
        "clf.fit(X_train, y_train)\n",
        "print(\"model score: %.3f\" % clf.score(X_valid, y_valid))"
      ],
      "metadata": {
        "colab": {
          "base_uri": "https://localhost:8080/"
        },
        "id": "12tJHr-ufsLr",
        "outputId": "dad402ba-4b66-40a7-a402-fc69f2141f9f"
      },
      "execution_count": null,
      "outputs": [
        {
          "output_type": "stream",
          "name": "stdout",
          "text": [
            "model score: 0.989\n"
          ]
        }
      ]
    },
    {
      "cell_type": "code",
      "source": [
        "# LogisticRegression"
      ],
      "metadata": {
        "id": "2hwbAH4k2ekK"
      },
      "execution_count": null,
      "outputs": []
    },
    {
      "cell_type": "code",
      "source": [
        "clf = Pipeline(\n",
        "    steps=[(\"preprocessor\", preprocessor), (\"classifier\", LogisticRegression(max_iter = 1000))]\n",
        ")\n",
        "\n",
        "clf.fit(X_train, y_train)\n",
        "print(\"model score: %.3f\" % clf.score(X_valid, y_valid))\n",
        "\n",
        "y_pred = clf.predict(X_valid)\n",
        "\n",
        "# качество модели\n",
        "accuracy = roc_auc_score(y_pred, y_valid)\n",
        "print(\"accuracy =\", accuracy)"
      ],
      "metadata": {
        "colab": {
          "base_uri": "https://localhost:8080/"
        },
        "id": "GjbGl-UqD0wz",
        "outputId": "81bdf50e-4a93-4cd8-de88-0b4bba6534d3"
      },
      "execution_count": null,
      "outputs": [
        {
          "output_type": "stream",
          "name": "stdout",
          "text": [
            "model score: 0.998\n",
            "accuracy = 0.997484116457743\n"
          ]
        }
      ]
    },
    {
      "cell_type": "code",
      "source": [
        "# DecisionTree"
      ],
      "metadata": {
        "id": "NJv63U9Q2jOz"
      },
      "execution_count": null,
      "outputs": []
    },
    {
      "cell_type": "code",
      "source": [
        "clf = Pipeline(\n",
        "    steps=[(\"preprocessor\", preprocessor), (\"classifier\", DecisionTreeClassifier(max_depth=4))]\n",
        ")\n",
        "\n",
        "clf.fit(X_train, y_train)\n",
        "print(\"model score: %.3f\" % clf.score(X_valid, y_valid))\n",
        "\n",
        "y_pred = clf.predict(X_valid)\n",
        "\n",
        "# качество модели\n",
        "accuracy = roc_auc_score(y_pred, y_valid)\n",
        "print(\"accuracy =\", accuracy)"
      ],
      "metadata": {
        "colab": {
          "base_uri": "https://localhost:8080/"
        },
        "id": "kyq6QOyelXTz",
        "outputId": "e1fe73e1-2ad7-4801-9781-95227d03560c"
      },
      "execution_count": null,
      "outputs": [
        {
          "output_type": "stream",
          "name": "stdout",
          "text": [
            "model score: 0.997\n",
            "accuracy = 0.997043426657728\n"
          ]
        }
      ]
    },
    {
      "cell_type": "code",
      "source": [
        "# RandomForest"
      ],
      "metadata": {
        "id": "17EUxL2e2qlT"
      },
      "execution_count": null,
      "outputs": []
    },
    {
      "cell_type": "code",
      "source": [
        "clf = Pipeline(\n",
        "    steps=[(\"preprocessor\", preprocessor), (\"classifier\", RandomForestClassifier(n_estimators = 100,verbose=3,n_jobs=-1, max_depth = 4))]\n",
        ")\n",
        "\n",
        "clf.fit(X_train, y_train)\n",
        "print(\"model score: %.3f\" % clf.score(X_valid, y_valid))\n",
        "\n",
        "y_pred = clf.predict(X_valid)\n",
        "\n",
        "# качество модели\n",
        "accuracy = roc_auc_score(y_pred, y_valid)\n",
        "print(\"accuracy =\", accuracy)"
      ],
      "metadata": {
        "id": "aOeu11Uanb4y",
        "colab": {
          "base_uri": "https://localhost:8080/"
        },
        "outputId": "9574193d-8d7d-49fd-dcb1-9228cd62ca2a"
      },
      "execution_count": null,
      "outputs": [
        {
          "output_type": "stream",
          "name": "stderr",
          "text": [
            "[Parallel(n_jobs=-1)]: Using backend ThreadingBackend with 2 concurrent workers.\n"
          ]
        },
        {
          "output_type": "stream",
          "name": "stdout",
          "text": [
            "building tree 1 of 100\n",
            "building tree 2 of 100\n",
            "building tree 3 of 100\n",
            "building tree 4 of 100\n",
            "building tree 5 of 100\n",
            "building tree 6 of 100\n",
            "building tree 7 of 100\n",
            "building tree 8 of 100\n",
            "building tree 9 of 100\n",
            "building tree 10 of 100\n",
            "building tree 11 of 100\n",
            "building tree 12 of 100\n",
            "building tree 13 of 100\n",
            "building tree 14 of 100\n",
            "building tree 15 of 100\n",
            "building tree 16 of 100\n",
            "building tree 17 of 100\n",
            "building tree 18 of 100\n",
            "building tree 19 of 100\n",
            "building tree 20 of 100\n",
            "building tree 21 of 100\n",
            "building tree 22 of 100\n",
            "building tree 23 of 100\n",
            "building tree 24 of 100\n",
            "building tree 25 of 100\n",
            "building tree 26 of 100\n",
            "building tree 27 of 100\n",
            "building tree 28 of 100\n",
            "building tree 29 of 100\n"
          ]
        },
        {
          "output_type": "stream",
          "name": "stderr",
          "text": [
            "[Parallel(n_jobs=-1)]: Done  28 tasks      | elapsed:   15.3s\n"
          ]
        },
        {
          "output_type": "stream",
          "name": "stdout",
          "text": [
            "building tree 30 of 100\n",
            "building tree 31 of 100\n",
            "building tree 32 of 100\n",
            "building tree 33 of 100\n",
            "building tree 34 of 100\n",
            "building tree 35 of 100\n",
            "building tree 36 of 100\n",
            "building tree 37 of 100\n",
            "building tree 38 of 100\n",
            "building tree 39 of 100\n",
            "building tree 40 of 100\n",
            "building tree 41 of 100\n",
            "building tree 42 of 100\n",
            "building tree 43 of 100\n",
            "building tree 44 of 100\n",
            "building tree 45 of 100\n",
            "building tree 46 of 100\n",
            "building tree 47 of 100\n",
            "building tree 48 of 100\n",
            "building tree 49 of 100\n",
            "building tree 50 of 100\n",
            "building tree 51 of 100\n",
            "building tree 52 of 100\n",
            "building tree 53 of 100\n",
            "building tree 54 of 100\n",
            "building tree 55 of 100\n",
            "building tree 56 of 100\n",
            "building tree 57 of 100\n",
            "building tree 58 of 100\n",
            "building tree 59 of 100\n",
            "building tree 60 of 100\n",
            "building tree 61 of 100\n",
            "building tree 62 of 100\n",
            "building tree 63 of 100\n",
            "building tree 64 of 100\n",
            "building tree 65 of 100\n",
            "building tree 66 of 100\n",
            "building tree 67 of 100\n",
            "building tree 68 of 100\n",
            "building tree 69 of 100\n",
            "building tree 70 of 100\n",
            "building tree 71 of 100\n",
            "building tree 72 of 100\n",
            "building tree 73 of 100\n",
            "building tree 74 of 100\n",
            "building tree 75 of 100\n",
            "building tree 76 of 100\n",
            "building tree 77 of 100\n",
            "building tree 78 of 100\n",
            "building tree 79 of 100\n",
            "building tree 80 of 100\n",
            "building tree 81 of 100\n",
            "building tree 82 of 100\n",
            "building tree 83 of 100\n",
            "building tree 84 of 100\n",
            "building tree 85 of 100\n",
            "building tree 86 of 100\n",
            "building tree 87 of 100\n",
            "building tree 88 of 100\n",
            "building tree 89 of 100\n",
            "building tree 90 of 100\n",
            "building tree 91 of 100\n",
            "building tree 92 of 100\n",
            "building tree 93 of 100\n",
            "building tree 94 of 100\n",
            "building tree 95 of 100\n",
            "building tree 96 of 100\n",
            "building tree 97 of 100\n",
            "building tree 98 of 100\n",
            "building tree 99 of 100\n",
            "building tree 100 of 100\n"
          ]
        },
        {
          "output_type": "stream",
          "name": "stderr",
          "text": [
            "[Parallel(n_jobs=-1)]: Done 100 out of 100 | elapsed:   53.7s finished\n",
            "[Parallel(n_jobs=2)]: Using backend ThreadingBackend with 2 concurrent workers.\n",
            "[Parallel(n_jobs=2)]: Done  28 tasks      | elapsed:    0.9s\n",
            "[Parallel(n_jobs=2)]: Done 100 out of 100 | elapsed:    3.3s finished\n"
          ]
        },
        {
          "output_type": "stream",
          "name": "stdout",
          "text": [
            "model score: 0.994\n"
          ]
        },
        {
          "output_type": "stream",
          "name": "stderr",
          "text": [
            "[Parallel(n_jobs=2)]: Using backend ThreadingBackend with 2 concurrent workers.\n",
            "[Parallel(n_jobs=2)]: Done  28 tasks      | elapsed:    0.9s\n",
            "[Parallel(n_jobs=2)]: Done 100 out of 100 | elapsed:    3.3s finished\n"
          ]
        },
        {
          "output_type": "stream",
          "name": "stdout",
          "text": [
            "accuracy = 0.9944354470030365\n"
          ]
        }
      ]
    },
    {
      "cell_type": "code",
      "source": [
        "# модели DecisionTree и RandomForest работают очень долго и занимают много места в памяти, если не сменить\n",
        "# дефолтные параметры, например, ограничить max_depth или установить n_estimators\n",
        "# (параметры для них были взяты из интернета и с семинаров)"
      ],
      "metadata": {
        "id": "STUtGR6Yh-l0"
      },
      "execution_count": null,
      "outputs": []
    },
    {
      "cell_type": "code",
      "source": [
        "# XGBoost"
      ],
      "metadata": {
        "id": "jDa0QmbL2xi4"
      },
      "execution_count": null,
      "outputs": []
    },
    {
      "cell_type": "code",
      "source": [
        "clf = Pipeline(\n",
        "    steps=[(\"preprocessor\", preprocessor), (\"classifier\", XGBClassifier())]\n",
        ")\n",
        "\n",
        "clf.fit(X_train, y_train)\n",
        "print(\"model score: %.3f\" % clf.score(X_valid, y_valid))\n",
        "\n",
        "y_pred = clf.predict(X_valid)\n",
        "\n",
        "# качество модели\n",
        "accuracy = roc_auc_score(y_pred, y_valid)\n",
        "print(\"accuracy =\", accuracy)"
      ],
      "metadata": {
        "colab": {
          "base_uri": "https://localhost:8080/"
        },
        "id": "uxpAIYO8vxX_",
        "outputId": "14889d90-11ae-4913-9791-80574864db74"
      },
      "execution_count": null,
      "outputs": [
        {
          "output_type": "stream",
          "name": "stdout",
          "text": [
            "model score: 0.998\n",
            "accuracy = 0.997456278263883\n"
          ]
        }
      ]
    },
    {
      "cell_type": "code",
      "source": [
        "# LightGBM"
      ],
      "metadata": {
        "id": "NL-tcYYy22Ad"
      },
      "execution_count": null,
      "outputs": []
    },
    {
      "cell_type": "code",
      "source": [
        "clf = Pipeline(\n",
        "    steps=[(\"preprocessor\", preprocessor), (\"classifier\", lgb.LGBMClassifier())]\n",
        ")\n",
        "\n",
        "clf.fit(X_train, y_train)\n",
        "print(\"model score: %.3f\" % clf.score(X_valid, y_valid))\n",
        "\n",
        "y_pred = clf.predict(X_valid)\n",
        "\n",
        "# качество модели\n",
        "accuracy = roc_auc_score(y_pred, y_valid)\n",
        "print(\"accuracy =\", accuracy)"
      ],
      "metadata": {
        "colab": {
          "base_uri": "https://localhost:8080/"
        },
        "id": "IWAyoObzwgxr",
        "outputId": "ebca1756-a6b7-47af-aa89-57f341eb28c6"
      },
      "execution_count": null,
      "outputs": [
        {
          "output_type": "stream",
          "name": "stdout",
          "text": [
            "model score: 0.998\n",
            "accuracy = 0.9975541700491739\n"
          ]
        }
      ]
    },
    {
      "cell_type": "code",
      "source": [
        "# Резюме: посчитали для всех моделей model score и accuracy (кроме линейной регрессии)\n",
        "# самая неэффективная модель - LinearRegression (model score: 0.989),\n",
        "# самая эффективная - LGBM (accuracy = 0.9975541700491739), ее и выбираем для разметки теста\n",
        "# для DecisionTree и RandomForest пришлось изменить дефолтные параметры,\n",
        "# поскольку они были самыми долгими по времени работы (>50 минут)\n",
        "# линейная регрессия дает общее линейное представление о взаимосвязи (и не очень долгое время работы), но не очень высокую точность\n",
        "# логистическая регрессия - большее время работы, выше точность, но тоже не самую высокую\n",
        "# DecisionTree и RandomForest - наглядное представление (дерево решений), но очень долгое время работы\n",
        "# (точность может зависеть от глубины дерева)\n",
        "# самые точные модели - XGBoost и LGBM (время работы среднее)"
      ],
      "metadata": {
        "id": "A9ZqjNfTdwxp"
      },
      "execution_count": null,
      "outputs": []
    },
    {
      "cell_type": "code",
      "source": [
        "# 4. В погоне за кагглом"
      ],
      "metadata": {
        "id": "tey0_wULAWKt"
      },
      "execution_count": null,
      "outputs": []
    },
    {
      "cell_type": "code",
      "source": [
        "test_data = pd.read_csv(\"test.csv\", encoding=\"utf-8\", on_bad_lines='skip', \n",
        "                   na_values = {\n",
        "                                \"target\": [\"NaN\"],\n",
        "                                \"surname\": [\"NaN\", \"-\", \"*\", \"---\", \".\"],\n",
        "                                \"name\": [\"NaN\", \"-\", \"*\", \"---\", \".\"],\n",
        "                                \"patronymic\": [\"NaN\", \"-\", \"*\", \"---\", \".\"]})\n",
        "#test_data.head()"
      ],
      "metadata": {
        "colab": {
          "base_uri": "https://localhost:8080/",
          "height": 206
        },
        "id": "ETv47azcAgcf",
        "outputId": "6d55f3cc-6dc0-4cfa-d676-b84910d68c1d"
      },
      "execution_count": null,
      "outputs": [
        {
          "output_type": "execute_result",
          "data": {
            "text/plain": [
              "        Id      surname     name   patronymic\n",
              "0  1189900      ШВАЛЕВА    ОЛЬГА     ИВАНОВНА\n",
              "1  4860318   БОНДАРЕНКО     АЛСУ    РИШАТОВНА\n",
              "2  4244510  ОВЧИННИКОВА  ТАТЬЯНА    СЕРГЕЕВНА\n",
              "3  2125017       ОРЛОВА     НЕЛИ     ИВАНОВНА\n",
              "4  5814532      АНОХИНА     НИНА  ДМИТРИЕВНАХ"
            ],
            "text/html": [
              "\n",
              "  <div id=\"df-bc861e9b-d2fa-4b46-853e-0519de72fb34\">\n",
              "    <div class=\"colab-df-container\">\n",
              "      <div>\n",
              "<style scoped>\n",
              "    .dataframe tbody tr th:only-of-type {\n",
              "        vertical-align: middle;\n",
              "    }\n",
              "\n",
              "    .dataframe tbody tr th {\n",
              "        vertical-align: top;\n",
              "    }\n",
              "\n",
              "    .dataframe thead th {\n",
              "        text-align: right;\n",
              "    }\n",
              "</style>\n",
              "<table border=\"1\" class=\"dataframe\">\n",
              "  <thead>\n",
              "    <tr style=\"text-align: right;\">\n",
              "      <th></th>\n",
              "      <th>Id</th>\n",
              "      <th>surname</th>\n",
              "      <th>name</th>\n",
              "      <th>patronymic</th>\n",
              "    </tr>\n",
              "  </thead>\n",
              "  <tbody>\n",
              "    <tr>\n",
              "      <th>0</th>\n",
              "      <td>1189900</td>\n",
              "      <td>ШВАЛЕВА</td>\n",
              "      <td>ОЛЬГА</td>\n",
              "      <td>ИВАНОВНА</td>\n",
              "    </tr>\n",
              "    <tr>\n",
              "      <th>1</th>\n",
              "      <td>4860318</td>\n",
              "      <td>БОНДАРЕНКО</td>\n",
              "      <td>АЛСУ</td>\n",
              "      <td>РИШАТОВНА</td>\n",
              "    </tr>\n",
              "    <tr>\n",
              "      <th>2</th>\n",
              "      <td>4244510</td>\n",
              "      <td>ОВЧИННИКОВА</td>\n",
              "      <td>ТАТЬЯНА</td>\n",
              "      <td>СЕРГЕЕВНА</td>\n",
              "    </tr>\n",
              "    <tr>\n",
              "      <th>3</th>\n",
              "      <td>2125017</td>\n",
              "      <td>ОРЛОВА</td>\n",
              "      <td>НЕЛИ</td>\n",
              "      <td>ИВАНОВНА</td>\n",
              "    </tr>\n",
              "    <tr>\n",
              "      <th>4</th>\n",
              "      <td>5814532</td>\n",
              "      <td>АНОХИНА</td>\n",
              "      <td>НИНА</td>\n",
              "      <td>ДМИТРИЕВНАХ</td>\n",
              "    </tr>\n",
              "  </tbody>\n",
              "</table>\n",
              "</div>\n",
              "      <button class=\"colab-df-convert\" onclick=\"convertToInteractive('df-bc861e9b-d2fa-4b46-853e-0519de72fb34')\"\n",
              "              title=\"Convert this dataframe to an interactive table.\"\n",
              "              style=\"display:none;\">\n",
              "        \n",
              "  <svg xmlns=\"http://www.w3.org/2000/svg\" height=\"24px\"viewBox=\"0 0 24 24\"\n",
              "       width=\"24px\">\n",
              "    <path d=\"M0 0h24v24H0V0z\" fill=\"none\"/>\n",
              "    <path d=\"M18.56 5.44l.94 2.06.94-2.06 2.06-.94-2.06-.94-.94-2.06-.94 2.06-2.06.94zm-11 1L8.5 8.5l.94-2.06 2.06-.94-2.06-.94L8.5 2.5l-.94 2.06-2.06.94zm10 10l.94 2.06.94-2.06 2.06-.94-2.06-.94-.94-2.06-.94 2.06-2.06.94z\"/><path d=\"M17.41 7.96l-1.37-1.37c-.4-.4-.92-.59-1.43-.59-.52 0-1.04.2-1.43.59L10.3 9.45l-7.72 7.72c-.78.78-.78 2.05 0 2.83L4 21.41c.39.39.9.59 1.41.59.51 0 1.02-.2 1.41-.59l7.78-7.78 2.81-2.81c.8-.78.8-2.07 0-2.86zM5.41 20L4 18.59l7.72-7.72 1.47 1.35L5.41 20z\"/>\n",
              "  </svg>\n",
              "      </button>\n",
              "      \n",
              "  <style>\n",
              "    .colab-df-container {\n",
              "      display:flex;\n",
              "      flex-wrap:wrap;\n",
              "      gap: 12px;\n",
              "    }\n",
              "\n",
              "    .colab-df-convert {\n",
              "      background-color: #E8F0FE;\n",
              "      border: none;\n",
              "      border-radius: 50%;\n",
              "      cursor: pointer;\n",
              "      display: none;\n",
              "      fill: #1967D2;\n",
              "      height: 32px;\n",
              "      padding: 0 0 0 0;\n",
              "      width: 32px;\n",
              "    }\n",
              "\n",
              "    .colab-df-convert:hover {\n",
              "      background-color: #E2EBFA;\n",
              "      box-shadow: 0px 1px 2px rgba(60, 64, 67, 0.3), 0px 1px 3px 1px rgba(60, 64, 67, 0.15);\n",
              "      fill: #174EA6;\n",
              "    }\n",
              "\n",
              "    [theme=dark] .colab-df-convert {\n",
              "      background-color: #3B4455;\n",
              "      fill: #D2E3FC;\n",
              "    }\n",
              "\n",
              "    [theme=dark] .colab-df-convert:hover {\n",
              "      background-color: #434B5C;\n",
              "      box-shadow: 0px 1px 3px 1px rgba(0, 0, 0, 0.15);\n",
              "      filter: drop-shadow(0px 1px 2px rgba(0, 0, 0, 0.3));\n",
              "      fill: #FFFFFF;\n",
              "    }\n",
              "  </style>\n",
              "\n",
              "      <script>\n",
              "        const buttonEl =\n",
              "          document.querySelector('#df-bc861e9b-d2fa-4b46-853e-0519de72fb34 button.colab-df-convert');\n",
              "        buttonEl.style.display =\n",
              "          google.colab.kernel.accessAllowed ? 'block' : 'none';\n",
              "\n",
              "        async function convertToInteractive(key) {\n",
              "          const element = document.querySelector('#df-bc861e9b-d2fa-4b46-853e-0519de72fb34');\n",
              "          const dataTable =\n",
              "            await google.colab.kernel.invokeFunction('convertToInteractive',\n",
              "                                                     [key], {});\n",
              "          if (!dataTable) return;\n",
              "\n",
              "          const docLinkHtml = 'Like what you see? Visit the ' +\n",
              "            '<a target=\"_blank\" href=https://colab.research.google.com/notebooks/data_table.ipynb>data table notebook</a>'\n",
              "            + ' to learn more about interactive tables.';\n",
              "          element.innerHTML = '';\n",
              "          dataTable['output_type'] = 'display_data';\n",
              "          await google.colab.output.renderOutput(dataTable, element);\n",
              "          const docLink = document.createElement('div');\n",
              "          docLink.innerHTML = docLinkHtml;\n",
              "          element.appendChild(docLink);\n",
              "        }\n",
              "      </script>\n",
              "    </div>\n",
              "  </div>\n",
              "  "
            ]
          },
          "metadata": {},
          "execution_count": 65
        }
      ]
    },
    {
      "cell_type": "code",
      "source": [
        "#test_data.shape"
      ],
      "metadata": {
        "colab": {
          "base_uri": "https://localhost:8080/"
        },
        "id": "tW-8YtT9BRIa",
        "outputId": "a079a930-ef0c-4758-efe7-72bd1cbaf891"
      },
      "execution_count": null,
      "outputs": [
        {
          "output_type": "execute_result",
          "data": {
            "text/plain": [
              "(311431, 4)"
            ]
          },
          "metadata": {},
          "execution_count": 66
        }
      ]
    },
    {
      "cell_type": "code",
      "source": [
        "# статистика пропусков\n",
        "\n",
        "print(pd.isnull(test_data).sum())"
      ],
      "metadata": {
        "colab": {
          "base_uri": "https://localhost:8080/"
        },
        "id": "4ioel0i-BrR3",
        "outputId": "6a7aca9a-dcfe-4de8-eac9-833792caaf48"
      },
      "execution_count": null,
      "outputs": [
        {
          "output_type": "stream",
          "name": "stdout",
          "text": [
            "Id              0\n",
            "surname         4\n",
            "name            9\n",
            "patronymic    885\n",
            "dtype: int64\n"
          ]
        }
      ]
    },
    {
      "cell_type": "code",
      "source": [
        "# все пропущенные данные заменяем на \"-1\"\n",
        "\n",
        "# возможные улучшения (гипотетически):\n",
        "# можно было бы заменить пропущенные данные (как минимум отчества)\n",
        "# самыми популярными или двумя последними буквами в зависимости от пола,\n",
        "# поскольку нам важно окончание, а более 95% женских отчеств\n",
        "# оканчиваются на \"на\", а более 95% мужских - \"ич\"\n",
        "# для этого можно было бы составить мини-модель анализа пола для оставшихся данных\n",
        "# в строке с пропусками"
      ],
      "metadata": {
        "id": "sGsFr52QCJMe"
      },
      "execution_count": null,
      "outputs": []
    },
    {
      "cell_type": "code",
      "source": [
        "test_data.fillna('-1', inplace = True)"
      ],
      "metadata": {
        "id": "Leqj9Tmrj81Q"
      },
      "execution_count": null,
      "outputs": []
    },
    {
      "cell_type": "code",
      "source": [
        "#test_data.head(297)"
      ],
      "metadata": {
        "colab": {
          "base_uri": "https://localhost:8080/",
          "height": 424
        },
        "id": "LU7uj4J6C3LP",
        "outputId": "d9be09e4-8120-4cb6-9823-f041827b5696"
      },
      "execution_count": null,
      "outputs": [
        {
          "output_type": "execute_result",
          "data": {
            "text/plain": [
              "          Id      surname       name   patronymic\n",
              "0    1189900      ШВАЛЕВА      ОЛЬГА     ИВАНОВНА\n",
              "1    4860318   БОНДАРЕНКО       АЛСУ    РИШАТОВНА\n",
              "2    4244510  ОВЧИННИКОВА    ТАТЬЯНА    СЕРГЕЕВНА\n",
              "3    2125017       ОРЛОВА       НЕЛИ     ИВАНОВНА\n",
              "4    5814532      АНОХИНА       НИНА  ДМИТРИЕВНАХ\n",
              "..       ...          ...        ...          ...\n",
              "292   706379        МАСЮК  МАРГАРИТА   ВАСИЛЬЕВНА\n",
              "293  1882277    МИСАИЛОВА  ЕКАТЕРИНА   ДМИТРИЕВНА\n",
              "294  4414862      ЧАБАНОВ     ВИКТОР           -1\n",
              "295  4769020     ЛУКЬЯНОВ      РОМАН   АЛЕКСЕЕВИЧ\n",
              "296  4070873    НЕСТЕРОВА     ГАЛИНА    СЕРГЕЕВНА\n",
              "\n",
              "[297 rows x 4 columns]"
            ],
            "text/html": [
              "\n",
              "  <div id=\"df-ed1979b2-98e0-4eaf-9eb7-f14e84b071b1\">\n",
              "    <div class=\"colab-df-container\">\n",
              "      <div>\n",
              "<style scoped>\n",
              "    .dataframe tbody tr th:only-of-type {\n",
              "        vertical-align: middle;\n",
              "    }\n",
              "\n",
              "    .dataframe tbody tr th {\n",
              "        vertical-align: top;\n",
              "    }\n",
              "\n",
              "    .dataframe thead th {\n",
              "        text-align: right;\n",
              "    }\n",
              "</style>\n",
              "<table border=\"1\" class=\"dataframe\">\n",
              "  <thead>\n",
              "    <tr style=\"text-align: right;\">\n",
              "      <th></th>\n",
              "      <th>Id</th>\n",
              "      <th>surname</th>\n",
              "      <th>name</th>\n",
              "      <th>patronymic</th>\n",
              "    </tr>\n",
              "  </thead>\n",
              "  <tbody>\n",
              "    <tr>\n",
              "      <th>0</th>\n",
              "      <td>1189900</td>\n",
              "      <td>ШВАЛЕВА</td>\n",
              "      <td>ОЛЬГА</td>\n",
              "      <td>ИВАНОВНА</td>\n",
              "    </tr>\n",
              "    <tr>\n",
              "      <th>1</th>\n",
              "      <td>4860318</td>\n",
              "      <td>БОНДАРЕНКО</td>\n",
              "      <td>АЛСУ</td>\n",
              "      <td>РИШАТОВНА</td>\n",
              "    </tr>\n",
              "    <tr>\n",
              "      <th>2</th>\n",
              "      <td>4244510</td>\n",
              "      <td>ОВЧИННИКОВА</td>\n",
              "      <td>ТАТЬЯНА</td>\n",
              "      <td>СЕРГЕЕВНА</td>\n",
              "    </tr>\n",
              "    <tr>\n",
              "      <th>3</th>\n",
              "      <td>2125017</td>\n",
              "      <td>ОРЛОВА</td>\n",
              "      <td>НЕЛИ</td>\n",
              "      <td>ИВАНОВНА</td>\n",
              "    </tr>\n",
              "    <tr>\n",
              "      <th>4</th>\n",
              "      <td>5814532</td>\n",
              "      <td>АНОХИНА</td>\n",
              "      <td>НИНА</td>\n",
              "      <td>ДМИТРИЕВНАХ</td>\n",
              "    </tr>\n",
              "    <tr>\n",
              "      <th>...</th>\n",
              "      <td>...</td>\n",
              "      <td>...</td>\n",
              "      <td>...</td>\n",
              "      <td>...</td>\n",
              "    </tr>\n",
              "    <tr>\n",
              "      <th>292</th>\n",
              "      <td>706379</td>\n",
              "      <td>МАСЮК</td>\n",
              "      <td>МАРГАРИТА</td>\n",
              "      <td>ВАСИЛЬЕВНА</td>\n",
              "    </tr>\n",
              "    <tr>\n",
              "      <th>293</th>\n",
              "      <td>1882277</td>\n",
              "      <td>МИСАИЛОВА</td>\n",
              "      <td>ЕКАТЕРИНА</td>\n",
              "      <td>ДМИТРИЕВНА</td>\n",
              "    </tr>\n",
              "    <tr>\n",
              "      <th>294</th>\n",
              "      <td>4414862</td>\n",
              "      <td>ЧАБАНОВ</td>\n",
              "      <td>ВИКТОР</td>\n",
              "      <td>-1</td>\n",
              "    </tr>\n",
              "    <tr>\n",
              "      <th>295</th>\n",
              "      <td>4769020</td>\n",
              "      <td>ЛУКЬЯНОВ</td>\n",
              "      <td>РОМАН</td>\n",
              "      <td>АЛЕКСЕЕВИЧ</td>\n",
              "    </tr>\n",
              "    <tr>\n",
              "      <th>296</th>\n",
              "      <td>4070873</td>\n",
              "      <td>НЕСТЕРОВА</td>\n",
              "      <td>ГАЛИНА</td>\n",
              "      <td>СЕРГЕЕВНА</td>\n",
              "    </tr>\n",
              "  </tbody>\n",
              "</table>\n",
              "<p>297 rows × 4 columns</p>\n",
              "</div>\n",
              "      <button class=\"colab-df-convert\" onclick=\"convertToInteractive('df-ed1979b2-98e0-4eaf-9eb7-f14e84b071b1')\"\n",
              "              title=\"Convert this dataframe to an interactive table.\"\n",
              "              style=\"display:none;\">\n",
              "        \n",
              "  <svg xmlns=\"http://www.w3.org/2000/svg\" height=\"24px\"viewBox=\"0 0 24 24\"\n",
              "       width=\"24px\">\n",
              "    <path d=\"M0 0h24v24H0V0z\" fill=\"none\"/>\n",
              "    <path d=\"M18.56 5.44l.94 2.06.94-2.06 2.06-.94-2.06-.94-.94-2.06-.94 2.06-2.06.94zm-11 1L8.5 8.5l.94-2.06 2.06-.94-2.06-.94L8.5 2.5l-.94 2.06-2.06.94zm10 10l.94 2.06.94-2.06 2.06-.94-2.06-.94-.94-2.06-.94 2.06-2.06.94z\"/><path d=\"M17.41 7.96l-1.37-1.37c-.4-.4-.92-.59-1.43-.59-.52 0-1.04.2-1.43.59L10.3 9.45l-7.72 7.72c-.78.78-.78 2.05 0 2.83L4 21.41c.39.39.9.59 1.41.59.51 0 1.02-.2 1.41-.59l7.78-7.78 2.81-2.81c.8-.78.8-2.07 0-2.86zM5.41 20L4 18.59l7.72-7.72 1.47 1.35L5.41 20z\"/>\n",
              "  </svg>\n",
              "      </button>\n",
              "      \n",
              "  <style>\n",
              "    .colab-df-container {\n",
              "      display:flex;\n",
              "      flex-wrap:wrap;\n",
              "      gap: 12px;\n",
              "    }\n",
              "\n",
              "    .colab-df-convert {\n",
              "      background-color: #E8F0FE;\n",
              "      border: none;\n",
              "      border-radius: 50%;\n",
              "      cursor: pointer;\n",
              "      display: none;\n",
              "      fill: #1967D2;\n",
              "      height: 32px;\n",
              "      padding: 0 0 0 0;\n",
              "      width: 32px;\n",
              "    }\n",
              "\n",
              "    .colab-df-convert:hover {\n",
              "      background-color: #E2EBFA;\n",
              "      box-shadow: 0px 1px 2px rgba(60, 64, 67, 0.3), 0px 1px 3px 1px rgba(60, 64, 67, 0.15);\n",
              "      fill: #174EA6;\n",
              "    }\n",
              "\n",
              "    [theme=dark] .colab-df-convert {\n",
              "      background-color: #3B4455;\n",
              "      fill: #D2E3FC;\n",
              "    }\n",
              "\n",
              "    [theme=dark] .colab-df-convert:hover {\n",
              "      background-color: #434B5C;\n",
              "      box-shadow: 0px 1px 3px 1px rgba(0, 0, 0, 0.15);\n",
              "      filter: drop-shadow(0px 1px 2px rgba(0, 0, 0, 0.3));\n",
              "      fill: #FFFFFF;\n",
              "    }\n",
              "  </style>\n",
              "\n",
              "      <script>\n",
              "        const buttonEl =\n",
              "          document.querySelector('#df-ed1979b2-98e0-4eaf-9eb7-f14e84b071b1 button.colab-df-convert');\n",
              "        buttonEl.style.display =\n",
              "          google.colab.kernel.accessAllowed ? 'block' : 'none';\n",
              "\n",
              "        async function convertToInteractive(key) {\n",
              "          const element = document.querySelector('#df-ed1979b2-98e0-4eaf-9eb7-f14e84b071b1');\n",
              "          const dataTable =\n",
              "            await google.colab.kernel.invokeFunction('convertToInteractive',\n",
              "                                                     [key], {});\n",
              "          if (!dataTable) return;\n",
              "\n",
              "          const docLinkHtml = 'Like what you see? Visit the ' +\n",
              "            '<a target=\"_blank\" href=https://colab.research.google.com/notebooks/data_table.ipynb>data table notebook</a>'\n",
              "            + ' to learn more about interactive tables.';\n",
              "          element.innerHTML = '';\n",
              "          dataTable['output_type'] = 'display_data';\n",
              "          await google.colab.output.renderOutput(dataTable, element);\n",
              "          const docLink = document.createElement('div');\n",
              "          docLink.innerHTML = docLinkHtml;\n",
              "          element.appendChild(docLink);\n",
              "        }\n",
              "      </script>\n",
              "    </div>\n",
              "  </div>\n",
              "  "
            ]
          },
          "metadata": {},
          "execution_count": 68
        }
      ]
    },
    {
      "cell_type": "code",
      "source": [
        "custom_pipeline = [preprocessing.lowercase,\n",
        "                   preprocessing.remove_punctuation,\n",
        "                   #preprocessing.remove_whitespace,\n",
        "                   preprocessing.stem]\n",
        "\n",
        "test_data['patronymic'] = hero.clean(test_data['patronymic'], pipeline = custom_pipeline)\n",
        "test_data['name'] = hero.clean(test_data['name'], pipeline = custom_pipeline)\n",
        "test_data['surname'] = hero.clean(test_data['surname'], pipeline = custom_pipeline)\n",
        "#test_data.head()"
      ],
      "metadata": {
        "colab": {
          "base_uri": "https://localhost:8080/",
          "height": 206
        },
        "id": "Zy6wRjfBFvFf",
        "outputId": "68406149-9363-4229-e3c6-604cdac021c6"
      },
      "execution_count": null,
      "outputs": [
        {
          "output_type": "execute_result",
          "data": {
            "text/plain": [
              "        Id      surname     name   patronymic\n",
              "0  1189900      швалева    ольга     ивановна\n",
              "1  4860318   бондаренко     алсу    ришатовна\n",
              "2  4244510  овчинникова  татьяна    сергеевна\n",
              "3  2125017       орлова     нели     ивановна\n",
              "4  5814532      анохина     нина  дмитриевнах"
            ],
            "text/html": [
              "\n",
              "  <div id=\"df-334384c5-6c06-4f70-bc65-e9cbc30d8305\">\n",
              "    <div class=\"colab-df-container\">\n",
              "      <div>\n",
              "<style scoped>\n",
              "    .dataframe tbody tr th:only-of-type {\n",
              "        vertical-align: middle;\n",
              "    }\n",
              "\n",
              "    .dataframe tbody tr th {\n",
              "        vertical-align: top;\n",
              "    }\n",
              "\n",
              "    .dataframe thead th {\n",
              "        text-align: right;\n",
              "    }\n",
              "</style>\n",
              "<table border=\"1\" class=\"dataframe\">\n",
              "  <thead>\n",
              "    <tr style=\"text-align: right;\">\n",
              "      <th></th>\n",
              "      <th>Id</th>\n",
              "      <th>surname</th>\n",
              "      <th>name</th>\n",
              "      <th>patronymic</th>\n",
              "    </tr>\n",
              "  </thead>\n",
              "  <tbody>\n",
              "    <tr>\n",
              "      <th>0</th>\n",
              "      <td>1189900</td>\n",
              "      <td>швалева</td>\n",
              "      <td>ольга</td>\n",
              "      <td>ивановна</td>\n",
              "    </tr>\n",
              "    <tr>\n",
              "      <th>1</th>\n",
              "      <td>4860318</td>\n",
              "      <td>бондаренко</td>\n",
              "      <td>алсу</td>\n",
              "      <td>ришатовна</td>\n",
              "    </tr>\n",
              "    <tr>\n",
              "      <th>2</th>\n",
              "      <td>4244510</td>\n",
              "      <td>овчинникова</td>\n",
              "      <td>татьяна</td>\n",
              "      <td>сергеевна</td>\n",
              "    </tr>\n",
              "    <tr>\n",
              "      <th>3</th>\n",
              "      <td>2125017</td>\n",
              "      <td>орлова</td>\n",
              "      <td>нели</td>\n",
              "      <td>ивановна</td>\n",
              "    </tr>\n",
              "    <tr>\n",
              "      <th>4</th>\n",
              "      <td>5814532</td>\n",
              "      <td>анохина</td>\n",
              "      <td>нина</td>\n",
              "      <td>дмитриевнах</td>\n",
              "    </tr>\n",
              "  </tbody>\n",
              "</table>\n",
              "</div>\n",
              "      <button class=\"colab-df-convert\" onclick=\"convertToInteractive('df-334384c5-6c06-4f70-bc65-e9cbc30d8305')\"\n",
              "              title=\"Convert this dataframe to an interactive table.\"\n",
              "              style=\"display:none;\">\n",
              "        \n",
              "  <svg xmlns=\"http://www.w3.org/2000/svg\" height=\"24px\"viewBox=\"0 0 24 24\"\n",
              "       width=\"24px\">\n",
              "    <path d=\"M0 0h24v24H0V0z\" fill=\"none\"/>\n",
              "    <path d=\"M18.56 5.44l.94 2.06.94-2.06 2.06-.94-2.06-.94-.94-2.06-.94 2.06-2.06.94zm-11 1L8.5 8.5l.94-2.06 2.06-.94-2.06-.94L8.5 2.5l-.94 2.06-2.06.94zm10 10l.94 2.06.94-2.06 2.06-.94-2.06-.94-.94-2.06-.94 2.06-2.06.94z\"/><path d=\"M17.41 7.96l-1.37-1.37c-.4-.4-.92-.59-1.43-.59-.52 0-1.04.2-1.43.59L10.3 9.45l-7.72 7.72c-.78.78-.78 2.05 0 2.83L4 21.41c.39.39.9.59 1.41.59.51 0 1.02-.2 1.41-.59l7.78-7.78 2.81-2.81c.8-.78.8-2.07 0-2.86zM5.41 20L4 18.59l7.72-7.72 1.47 1.35L5.41 20z\"/>\n",
              "  </svg>\n",
              "      </button>\n",
              "      \n",
              "  <style>\n",
              "    .colab-df-container {\n",
              "      display:flex;\n",
              "      flex-wrap:wrap;\n",
              "      gap: 12px;\n",
              "    }\n",
              "\n",
              "    .colab-df-convert {\n",
              "      background-color: #E8F0FE;\n",
              "      border: none;\n",
              "      border-radius: 50%;\n",
              "      cursor: pointer;\n",
              "      display: none;\n",
              "      fill: #1967D2;\n",
              "      height: 32px;\n",
              "      padding: 0 0 0 0;\n",
              "      width: 32px;\n",
              "    }\n",
              "\n",
              "    .colab-df-convert:hover {\n",
              "      background-color: #E2EBFA;\n",
              "      box-shadow: 0px 1px 2px rgba(60, 64, 67, 0.3), 0px 1px 3px 1px rgba(60, 64, 67, 0.15);\n",
              "      fill: #174EA6;\n",
              "    }\n",
              "\n",
              "    [theme=dark] .colab-df-convert {\n",
              "      background-color: #3B4455;\n",
              "      fill: #D2E3FC;\n",
              "    }\n",
              "\n",
              "    [theme=dark] .colab-df-convert:hover {\n",
              "      background-color: #434B5C;\n",
              "      box-shadow: 0px 1px 3px 1px rgba(0, 0, 0, 0.15);\n",
              "      filter: drop-shadow(0px 1px 2px rgba(0, 0, 0, 0.3));\n",
              "      fill: #FFFFFF;\n",
              "    }\n",
              "  </style>\n",
              "\n",
              "      <script>\n",
              "        const buttonEl =\n",
              "          document.querySelector('#df-334384c5-6c06-4f70-bc65-e9cbc30d8305 button.colab-df-convert');\n",
              "        buttonEl.style.display =\n",
              "          google.colab.kernel.accessAllowed ? 'block' : 'none';\n",
              "\n",
              "        async function convertToInteractive(key) {\n",
              "          const element = document.querySelector('#df-334384c5-6c06-4f70-bc65-e9cbc30d8305');\n",
              "          const dataTable =\n",
              "            await google.colab.kernel.invokeFunction('convertToInteractive',\n",
              "                                                     [key], {});\n",
              "          if (!dataTable) return;\n",
              "\n",
              "          const docLinkHtml = 'Like what you see? Visit the ' +\n",
              "            '<a target=\"_blank\" href=https://colab.research.google.com/notebooks/data_table.ipynb>data table notebook</a>'\n",
              "            + ' to learn more about interactive tables.';\n",
              "          element.innerHTML = '';\n",
              "          dataTable['output_type'] = 'display_data';\n",
              "          await google.colab.output.renderOutput(dataTable, element);\n",
              "          const docLink = document.createElement('div');\n",
              "          docLink.innerHTML = docLinkHtml;\n",
              "          element.appendChild(docLink);\n",
              "        }\n",
              "      </script>\n",
              "    </div>\n",
              "  </div>\n",
              "  "
            ]
          },
          "metadata": {},
          "execution_count": 69
        }
      ]
    },
    {
      "cell_type": "code",
      "source": [
        "test_data['patronymic'] = test_data['patronymic'].str.replace('ё','е')\n",
        "test_data['name'] = test_data['name'].str.replace('ё','е')\n",
        "test_data['surname'] = test_data['surname'].str.replace('ё','е')"
      ],
      "metadata": {
        "id": "1YO0-RQ6arO1"
      },
      "execution_count": null,
      "outputs": []
    },
    {
      "cell_type": "code",
      "source": [
        "# поскольку строк с не кириллическими символами (в осн. цифры и латиница) нет, то \n",
        "# опустим обработку, связанную с ними"
      ],
      "metadata": {
        "id": "bgcVcvECp_Mn"
      },
      "execution_count": null,
      "outputs": []
    },
    {
      "cell_type": "code",
      "source": [
        "# готовим датафрейм с фичами\n",
        "\n",
        "fea = test_data"
      ],
      "metadata": {
        "id": "9ydxXkSha18v"
      },
      "execution_count": null,
      "outputs": []
    },
    {
      "cell_type": "code",
      "source": [
        "nm_lst_ltts1 = lambda x: str(x)[-2:]\n",
        "fea['name_last_letters'] = fea['name'].map(nm_lst_ltts1)\n",
        "fea['surname_last_letters'] = fea['surname'].map(nm_lst_ltts1)\n",
        "fea['patronymic_last_letters'] = fea['patronymic'].map(nm_lst_ltts1)\n",
        "\n",
        "nm_ln1 = lambda x: len(x)\n",
        "fea['name_length'] = fea['name'].map(nm_ln1)\n",
        "fea['surname_length'] = fea['surname'].map(nm_ln1)\n",
        "fea['patronymic_length'] = fea['patronymic'].map(nm_ln1)\n"
      ],
      "metadata": {
        "id": "l0NKhP8Vbf1P"
      },
      "execution_count": null,
      "outputs": []
    },
    {
      "cell_type": "code",
      "source": [
        "fea = fea.drop(fea.columns[[1,2,3]], axis = 1)"
      ],
      "metadata": {
        "id": "THjFjdqlcGNI"
      },
      "execution_count": null,
      "outputs": []
    },
    {
      "cell_type": "code",
      "source": [
        "fea = fea[['Id', 'name_last_letters', 'surname_last_letters',\n",
        "                         'patronymic_last_letters', 'name_length', 'surname_length',\n",
        "                         'patronymic_length']]"
      ],
      "metadata": {
        "id": "_XN1Kvauca5V"
      },
      "execution_count": null,
      "outputs": []
    },
    {
      "cell_type": "code",
      "source": [
        "test_train = fea[['Id', 'name_last_letters',\t'surname_last_letters',\t'patronymic_last_letters',\t'name_length',\t'surname_length',\t'patronymic_length']]"
      ],
      "metadata": {
        "id": "pdHxIDUZc15a"
      },
      "execution_count": null,
      "outputs": []
    },
    {
      "cell_type": "code",
      "source": [
        "# LGBM"
      ],
      "metadata": {
        "id": "9DSQyqvdYTTl"
      },
      "execution_count": null,
      "outputs": []
    },
    {
      "cell_type": "code",
      "source": [
        "clf = Pipeline(\n",
        "    steps=[(\"preprocessor\", preprocessor), (\"classifier\", lgb.LGBMClassifier())]\n",
        ")\n",
        "\n",
        "clf.fit(X_train, y_train)\n",
        "print(\"model score: %.3f\" % clf.score(X_valid, y_valid))\n",
        "\n",
        "target_pred = clf.predict(test_train)\n",
        "print(target_pred)"
      ],
      "metadata": {
        "colab": {
          "base_uri": "https://localhost:8080/"
        },
        "id": "i5PCpKQ9YNj7",
        "outputId": "ef0553e4-db53-4c36-8371-90bd3f4a10b8"
      },
      "execution_count": null,
      "outputs": [
        {
          "output_type": "stream",
          "name": "stdout",
          "text": [
            "model score: 0.998\n",
            "[0. 0. 0. ... 0. 0. 1.]\n"
          ]
        }
      ]
    },
    {
      "cell_type": "code",
      "source": [
        "# создаем submission"
      ],
      "metadata": {
        "id": "bJiiTGL3ZLhd"
      },
      "execution_count": null,
      "outputs": []
    },
    {
      "cell_type": "code",
      "source": [
        "fea['target'] = target_pred\n",
        "fea1 = fea.drop(fea.columns[[1,2,3,4,5,6]], axis = 1)\n",
        "fea1.to_csv('submission.csv', index=False)"
      ],
      "metadata": {
        "colab": {
          "base_uri": "https://localhost:8080/",
          "height": 424
        },
        "id": "RV5aF5HUYUiV",
        "outputId": "b51cac1f-0ca1-4534-b4b0-56acd0ae1441"
      },
      "execution_count": null,
      "outputs": [
        {
          "output_type": "execute_result",
          "data": {
            "text/plain": [
              "             Id  target\n",
              "0       1189900     0.0\n",
              "1       4860318     0.0\n",
              "2       4244510     0.0\n",
              "3       2125017     0.0\n",
              "4       5814532     0.0\n",
              "...         ...     ...\n",
              "311426  3458528     0.0\n",
              "311427  1700965     0.0\n",
              "311428  5022755     0.0\n",
              "311429  1127718     0.0\n",
              "311430  5285840     1.0\n",
              "\n",
              "[311431 rows x 2 columns]"
            ],
            "text/html": [
              "\n",
              "  <div id=\"df-a38028bd-640d-4ee1-a577-1d4b2bd5fae4\">\n",
              "    <div class=\"colab-df-container\">\n",
              "      <div>\n",
              "<style scoped>\n",
              "    .dataframe tbody tr th:only-of-type {\n",
              "        vertical-align: middle;\n",
              "    }\n",
              "\n",
              "    .dataframe tbody tr th {\n",
              "        vertical-align: top;\n",
              "    }\n",
              "\n",
              "    .dataframe thead th {\n",
              "        text-align: right;\n",
              "    }\n",
              "</style>\n",
              "<table border=\"1\" class=\"dataframe\">\n",
              "  <thead>\n",
              "    <tr style=\"text-align: right;\">\n",
              "      <th></th>\n",
              "      <th>Id</th>\n",
              "      <th>target</th>\n",
              "    </tr>\n",
              "  </thead>\n",
              "  <tbody>\n",
              "    <tr>\n",
              "      <th>0</th>\n",
              "      <td>1189900</td>\n",
              "      <td>0.0</td>\n",
              "    </tr>\n",
              "    <tr>\n",
              "      <th>1</th>\n",
              "      <td>4860318</td>\n",
              "      <td>0.0</td>\n",
              "    </tr>\n",
              "    <tr>\n",
              "      <th>2</th>\n",
              "      <td>4244510</td>\n",
              "      <td>0.0</td>\n",
              "    </tr>\n",
              "    <tr>\n",
              "      <th>3</th>\n",
              "      <td>2125017</td>\n",
              "      <td>0.0</td>\n",
              "    </tr>\n",
              "    <tr>\n",
              "      <th>4</th>\n",
              "      <td>5814532</td>\n",
              "      <td>0.0</td>\n",
              "    </tr>\n",
              "    <tr>\n",
              "      <th>...</th>\n",
              "      <td>...</td>\n",
              "      <td>...</td>\n",
              "    </tr>\n",
              "    <tr>\n",
              "      <th>311426</th>\n",
              "      <td>3458528</td>\n",
              "      <td>0.0</td>\n",
              "    </tr>\n",
              "    <tr>\n",
              "      <th>311427</th>\n",
              "      <td>1700965</td>\n",
              "      <td>0.0</td>\n",
              "    </tr>\n",
              "    <tr>\n",
              "      <th>311428</th>\n",
              "      <td>5022755</td>\n",
              "      <td>0.0</td>\n",
              "    </tr>\n",
              "    <tr>\n",
              "      <th>311429</th>\n",
              "      <td>1127718</td>\n",
              "      <td>0.0</td>\n",
              "    </tr>\n",
              "    <tr>\n",
              "      <th>311430</th>\n",
              "      <td>5285840</td>\n",
              "      <td>1.0</td>\n",
              "    </tr>\n",
              "  </tbody>\n",
              "</table>\n",
              "<p>311431 rows × 2 columns</p>\n",
              "</div>\n",
              "      <button class=\"colab-df-convert\" onclick=\"convertToInteractive('df-a38028bd-640d-4ee1-a577-1d4b2bd5fae4')\"\n",
              "              title=\"Convert this dataframe to an interactive table.\"\n",
              "              style=\"display:none;\">\n",
              "        \n",
              "  <svg xmlns=\"http://www.w3.org/2000/svg\" height=\"24px\"viewBox=\"0 0 24 24\"\n",
              "       width=\"24px\">\n",
              "    <path d=\"M0 0h24v24H0V0z\" fill=\"none\"/>\n",
              "    <path d=\"M18.56 5.44l.94 2.06.94-2.06 2.06-.94-2.06-.94-.94-2.06-.94 2.06-2.06.94zm-11 1L8.5 8.5l.94-2.06 2.06-.94-2.06-.94L8.5 2.5l-.94 2.06-2.06.94zm10 10l.94 2.06.94-2.06 2.06-.94-2.06-.94-.94-2.06-.94 2.06-2.06.94z\"/><path d=\"M17.41 7.96l-1.37-1.37c-.4-.4-.92-.59-1.43-.59-.52 0-1.04.2-1.43.59L10.3 9.45l-7.72 7.72c-.78.78-.78 2.05 0 2.83L4 21.41c.39.39.9.59 1.41.59.51 0 1.02-.2 1.41-.59l7.78-7.78 2.81-2.81c.8-.78.8-2.07 0-2.86zM5.41 20L4 18.59l7.72-7.72 1.47 1.35L5.41 20z\"/>\n",
              "  </svg>\n",
              "      </button>\n",
              "      \n",
              "  <style>\n",
              "    .colab-df-container {\n",
              "      display:flex;\n",
              "      flex-wrap:wrap;\n",
              "      gap: 12px;\n",
              "    }\n",
              "\n",
              "    .colab-df-convert {\n",
              "      background-color: #E8F0FE;\n",
              "      border: none;\n",
              "      border-radius: 50%;\n",
              "      cursor: pointer;\n",
              "      display: none;\n",
              "      fill: #1967D2;\n",
              "      height: 32px;\n",
              "      padding: 0 0 0 0;\n",
              "      width: 32px;\n",
              "    }\n",
              "\n",
              "    .colab-df-convert:hover {\n",
              "      background-color: #E2EBFA;\n",
              "      box-shadow: 0px 1px 2px rgba(60, 64, 67, 0.3), 0px 1px 3px 1px rgba(60, 64, 67, 0.15);\n",
              "      fill: #174EA6;\n",
              "    }\n",
              "\n",
              "    [theme=dark] .colab-df-convert {\n",
              "      background-color: #3B4455;\n",
              "      fill: #D2E3FC;\n",
              "    }\n",
              "\n",
              "    [theme=dark] .colab-df-convert:hover {\n",
              "      background-color: #434B5C;\n",
              "      box-shadow: 0px 1px 3px 1px rgba(0, 0, 0, 0.15);\n",
              "      filter: drop-shadow(0px 1px 2px rgba(0, 0, 0, 0.3));\n",
              "      fill: #FFFFFF;\n",
              "    }\n",
              "  </style>\n",
              "\n",
              "      <script>\n",
              "        const buttonEl =\n",
              "          document.querySelector('#df-a38028bd-640d-4ee1-a577-1d4b2bd5fae4 button.colab-df-convert');\n",
              "        buttonEl.style.display =\n",
              "          google.colab.kernel.accessAllowed ? 'block' : 'none';\n",
              "\n",
              "        async function convertToInteractive(key) {\n",
              "          const element = document.querySelector('#df-a38028bd-640d-4ee1-a577-1d4b2bd5fae4');\n",
              "          const dataTable =\n",
              "            await google.colab.kernel.invokeFunction('convertToInteractive',\n",
              "                                                     [key], {});\n",
              "          if (!dataTable) return;\n",
              "\n",
              "          const docLinkHtml = 'Like what you see? Visit the ' +\n",
              "            '<a target=\"_blank\" href=https://colab.research.google.com/notebooks/data_table.ipynb>data table notebook</a>'\n",
              "            + ' to learn more about interactive tables.';\n",
              "          element.innerHTML = '';\n",
              "          dataTable['output_type'] = 'display_data';\n",
              "          await google.colab.output.renderOutput(dataTable, element);\n",
              "          const docLink = document.createElement('div');\n",
              "          docLink.innerHTML = docLinkHtml;\n",
              "          element.appendChild(docLink);\n",
              "        }\n",
              "      </script>\n",
              "    </div>\n",
              "  </div>\n",
              "  "
            ]
          },
          "metadata": {},
          "execution_count": 77
        }
      ]
    },
    {
      "cell_type": "code",
      "source": [
        "#fea1.shape"
      ],
      "metadata": {
        "colab": {
          "base_uri": "https://localhost:8080/"
        },
        "id": "afygtR0gmoCS",
        "outputId": "82357ec9-f530-4def-c9a5-a1ec119c21ec"
      },
      "execution_count": null,
      "outputs": [
        {
          "output_type": "execute_result",
          "data": {
            "text/plain": [
              "(311431, 2)"
            ]
          },
          "metadata": {},
          "execution_count": 84
        }
      ]
    },
    {
      "cell_type": "code",
      "source": [
        "# 5. Ресерч"
      ],
      "metadata": {
        "id": "0hHZOwLCeTTK"
      },
      "execution_count": null,
      "outputs": []
    },
    {
      "cell_type": "code",
      "source": [
        "# фича1: процент(доля) гласных в именах/фамилиях\n",
        "# гипотеза - в женских именах/фамилиях больше доля гласных\n",
        "\n",
        "# фича2: количество мягких знаков в именах\n",
        "# гипотеза - в женских именах мягкие знаки встречаются чаще\n",
        "\n",
        "# фича3*: можно было бы еще посмотреть на типичные части азиатских отчеств\n",
        "# типа кызы (жен) и оглы/оглу(муж), но их мало и, как правило, там все понятно по имени и фамилии"
      ],
      "metadata": {
        "id": "K1BFVz5veWYo"
      },
      "execution_count": null,
      "outputs": []
    },
    {
      "cell_type": "code",
      "source": [
        "# фича1"
      ],
      "metadata": {
        "id": "Vt1KjUvYHGmV"
      },
      "execution_count": null,
      "outputs": []
    },
    {
      "cell_type": "code",
      "source": [
        "global vowels\n",
        "vowels = set('АЕЁИОУЫЭЮЯаеёиоуыэюя')\n",
        "\n",
        "\n",
        "def num_vowels(y):\n",
        "    counter = 0\n",
        "    for i in range(len(y)):\n",
        "        if y[i] in vowels:\n",
        "            counter += 1\n",
        "    return counter"
      ],
      "metadata": {
        "id": "wluR8iX0JSY-"
      },
      "execution_count": 34,
      "outputs": []
    },
    {
      "cell_type": "code",
      "source": [
        "#vowels_num = lambda x: num_vowels(str(x))\n",
        "vowels_persent = lambda x: num_vowels(str(x))/len(str(x))"
      ],
      "metadata": {
        "id": "_KFbEsnzH9at"
      },
      "execution_count": 109,
      "outputs": []
    },
    {
      "cell_type": "code",
      "source": [
        "# для имен"
      ],
      "metadata": {
        "id": "Nl4R9ymgfA8M"
      },
      "execution_count": null,
      "outputs": []
    },
    {
      "cell_type": "code",
      "source": [
        "males_vowels_per_name = males['name'].apply(vowels_persent)\n",
        "females_vowels_per_name = females['name'].apply(vowels_persent)"
      ],
      "metadata": {
        "id": "om0Pd0DILKAL"
      },
      "execution_count": 110,
      "outputs": []
    },
    {
      "cell_type": "code",
      "source": [
        "males_vowels_per_name.hist(bins=16)"
      ],
      "metadata": {
        "colab": {
          "base_uri": "https://localhost:8080/",
          "height": 293
        },
        "id": "6N-wVKujnUfF",
        "outputId": "0867e7da-bac0-4027-a9bf-4fc8378d0e13"
      },
      "execution_count": 54,
      "outputs": [
        {
          "output_type": "execute_result",
          "data": {
            "text/plain": [
              "<matplotlib.axes._subplots.AxesSubplot at 0x7f2d79315990>"
            ]
          },
          "metadata": {},
          "execution_count": 54
        },
        {
          "output_type": "display_data",
          "data": {
            "text/plain": [
              "<Figure size 432x288 with 1 Axes>"
            ],
            "image/png": "[encoded data removed]"
          },
          "metadata": {
            "needs_background": "light"
          }
        }
      ]
    },
    {
      "cell_type": "code",
      "source": [
        "females_vowels_per_name.hist(bins=16)"
      ],
      "metadata": {
        "colab": {
          "base_uri": "https://localhost:8080/",
          "height": 293
        },
        "id": "P-pZyqkMnbOq",
        "outputId": "e5dde13b-8e79-4886-9880-d28a6e712ec5"
      },
      "execution_count": 55,
      "outputs": [
        {
          "output_type": "execute_result",
          "data": {
            "text/plain": [
              "<matplotlib.axes._subplots.AxesSubplot at 0x7f2d741b7810>"
            ]
          },
          "metadata": {},
          "execution_count": 55
        },
        {
          "output_type": "display_data",
          "data": {
            "text/plain": [
              "<Figure size 432x288 with 1 Axes>"
            ],
            "image/png": "[encoded data removed]"
          },
          "metadata": {
            "needs_background": "light"
          }
        }
      ]
    },
    {
      "cell_type": "code",
      "source": [
        "# для фамилий"
      ],
      "metadata": {
        "id": "g1ltvkIcfEBA"
      },
      "execution_count": null,
      "outputs": []
    },
    {
      "cell_type": "code",
      "source": [
        "males_vowels_per_sur = males['surname'].apply(vowels_persent)\n",
        "females_vowels_per_sur = females['surname'].apply(vowels_persent)"
      ],
      "metadata": {
        "id": "4qEeQxboenSL"
      },
      "execution_count": 67,
      "outputs": []
    },
    {
      "cell_type": "code",
      "source": [
        "males_vowels_per_sur.hist(bins=16)"
      ],
      "metadata": {
        "colab": {
          "base_uri": "https://localhost:8080/",
          "height": 293
        },
        "id": "q7RREoZ8ezR6",
        "outputId": "b245b001-a287-4530-de1f-897f642ea203"
      },
      "execution_count": 68,
      "outputs": [
        {
          "output_type": "execute_result",
          "data": {
            "text/plain": [
              "<matplotlib.axes._subplots.AxesSubplot at 0x7f2d79138b50>"
            ]
          },
          "metadata": {},
          "execution_count": 68
        },
        {
          "output_type": "display_data",
          "data": {
            "text/plain": [
              "<Figure size 432x288 with 1 Axes>"
            ],
            "image/png": "[encoded data removed]"
          },
          "metadata": {
            "needs_background": "light"
          }
        }
      ]
    },
    {
      "cell_type": "code",
      "source": [
        "females_vowels_per_sur.hist(bins=16)"
      ],
      "metadata": {
        "colab": {
          "base_uri": "https://localhost:8080/",
          "height": 293
        },
        "id": "0zi0bIzke3W4",
        "outputId": "6e62263b-2c5e-4de0-f2e6-9a00b6aac02f"
      },
      "execution_count": 69,
      "outputs": [
        {
          "output_type": "execute_result",
          "data": {
            "text/plain": [
              "<matplotlib.axes._subplots.AxesSubplot at 0x7f2d72bed650>"
            ]
          },
          "metadata": {},
          "execution_count": 69
        },
        {
          "output_type": "display_data",
          "data": {
            "text/plain": [
              "<Figure size 432x288 with 1 Axes>"
            ],
            "image/png": "[encoded data removed]"
          },
          "metadata": {
            "needs_background": "light"
          }
        }
      ]
    },
    {
      "cell_type": "code",
      "source": [
        "# вроде гипотеза работает, в женских именах и фамилиях % гласных 0.4-0.6,\n",
        "# тогда как в мужских 0.3-0.4\n",
        "# на отчества смотреть бесполезно, потому что они одинаковые, кроме окончания,\n",
        "# окончания рассматривались раньше"
      ],
      "metadata": {
        "id": "CZfzlphsdjN3"
      },
      "execution_count": null,
      "outputs": []
    },
    {
      "cell_type": "code",
      "source": [
        "# добавим фичу к обучающим данным"
      ],
      "metadata": {
        "id": "BWAduHPEhLLT"
      },
      "execution_count": null,
      "outputs": []
    },
    {
      "cell_type": "code",
      "source": [
        "exp_feature_df = data1"
      ],
      "metadata": {
        "id": "JG_V-qyRhM7K"
      },
      "execution_count": 122,
      "outputs": []
    },
    {
      "cell_type": "code",
      "source": [
        "exp_feature_df.dropna(inplace = True)"
      ],
      "metadata": {
        "id": "q3LLVUIHwANf"
      },
      "execution_count": null,
      "outputs": []
    },
    {
      "cell_type": "code",
      "source": [
        "nm_lst_ltts = lambda x: str(x)[-2:]\n",
        "exp_feature_df['name_last_letters'] = exp_feature_df['name'].map(nm_lst_ltts)\n",
        "exp_feature_df['surname_last_letters'] = exp_feature_df['surname'].map(nm_lst_ltts)\n",
        "exp_feature_df['patronymic_last_letters'] = exp_feature_df['patronymic'].map(nm_lst_ltts)\n",
        "\n",
        "nm_ln = lambda x: len(str(x))\n",
        "exp_feature_df['name_length'] = exp_feature_df['name'].map(nm_ln)\n",
        "exp_feature_df['surname_length'] = exp_feature_df['surname'].map(nm_ln)\n",
        "exp_feature_df['patronymic_length'] = exp_feature_df['patronymic'].map(nm_ln)"
      ],
      "metadata": {
        "id": "0APzQ8inkhCS"
      },
      "execution_count": 101,
      "outputs": []
    },
    {
      "cell_type": "code",
      "source": [
        "vowels_persent = lambda x: num_vowels(str(x))/len(str(x))\n",
        "exp_feature_df['name_vowels_percent'] = exp_feature_df['name'].map(vowels_persent)\n",
        "exp_feature_df['surname_vowels_percent'] = exp_feature_df['surname'].map(vowels_persent)"
      ],
      "metadata": {
        "id": "rWYZ_CLBk60H"
      },
      "execution_count": 125,
      "outputs": []
    },
    {
      "cell_type": "code",
      "source": [
        "exp_feature_df = exp_feature_df.drop(exp_feature_df.columns[[1,2,3]], axis = 1)"
      ],
      "metadata": {
        "id": "I7OcmvQ7xFyG"
      },
      "execution_count": 127,
      "outputs": []
    },
    {
      "cell_type": "code",
      "source": [
        "exp_feature_df = exp_feature_df[['Id', 'name_last_letters', 'surname_last_letters',\n",
        "                         'patronymic_last_letters', 'name_length', 'surname_length',\n",
        "                         'patronymic_length', 'name_vowels_percent', 'surname_vowels_percent', 'target']]"
      ],
      "metadata": {
        "id": "2GycFq8WxpE7"
      },
      "execution_count": 128,
      "outputs": []
    },
    {
      "cell_type": "code",
      "source": [
        "#exp_feature_df"
      ],
      "metadata": {
        "colab": {
          "base_uri": "https://localhost:8080/",
          "height": 488
        },
        "id": "5K2AoQNiwLMv",
        "outputId": "e847d174-c440-4b29-eeea-128007a7acef"
      },
      "execution_count": 129,
      "outputs": [
        {
          "output_type": "execute_result",
          "data": {
            "text/plain": [
              "              Id name_last_letters surname_last_letters  \\\n",
              "0        2636471                на                   ва   \n",
              "1         165386                ор                   ич   \n",
              "2         243807                га                   ва   \n",
              "3         232582                ей                   ов   \n",
              "4        3970023                рк                   ук   \n",
              "...          ...               ...                  ...   \n",
              "5917166   962825                ий                   ов   \n",
              "5917168  3499092                еб                   ев   \n",
              "5917169  4354130                на                   ва   \n",
              "5917171  3299674                ия                   на   \n",
              "5917173   480729                ий                   ин   \n",
              "\n",
              "        patronymic_last_letters  name_length  surname_length  \\\n",
              "0                            на            5               7   \n",
              "1                            ич            5               9   \n",
              "2                            на            5               8   \n",
              "3                            ич            6               7   \n",
              "4                            ич            4               8   \n",
              "...                         ...          ...             ...   \n",
              "5917166                      ич            8               7   \n",
              "5917168                      ич            4               7   \n",
              "5917169                      на            5               7   \n",
              "5917171                      на            4               8   \n",
              "5917173                      ич            7               7   \n",
              "\n",
              "         patronymic_length  name_vowels_percent  surname_vowels_percent  \\\n",
              "0                        9             0.600000                0.571429   \n",
              "1                        8             0.400000                0.444444   \n",
              "2                        9             0.400000                0.500000   \n",
              "3                       12             0.333333                0.285714   \n",
              "4                        9             0.250000                0.375000   \n",
              "...                    ...                  ...                     ...   \n",
              "5917166                  9             0.375000                0.428571   \n",
              "5917168                  9             0.250000                0.428571   \n",
              "5917169                 10             0.600000                0.428571   \n",
              "5917171                 10             0.750000                0.500000   \n",
              "5917173                 13             0.428571                0.428571   \n",
              "\n",
              "         target  \n",
              "0           0.0  \n",
              "1           1.0  \n",
              "2           0.0  \n",
              "3           1.0  \n",
              "4           1.0  \n",
              "...         ...  \n",
              "5917166     1.0  \n",
              "5917168     1.0  \n",
              "5917169     0.0  \n",
              "5917171     0.0  \n",
              "5917173     1.0  \n",
              "\n",
              "[4033958 rows x 10 columns]"
            ],
            "text/html": [
              "\n",
              "  <div id=\"df-72a8e4b1-5057-4fbc-a085-ea1dc9469b39\">\n",
              "    <div class=\"colab-df-container\">\n",
              "      <div>\n",
              "<style scoped>\n",
              "    .dataframe tbody tr th:only-of-type {\n",
              "        vertical-align: middle;\n",
              "    }\n",
              "\n",
              "    .dataframe tbody tr th {\n",
              "        vertical-align: top;\n",
              "    }\n",
              "\n",
              "    .dataframe thead th {\n",
              "        text-align: right;\n",
              "    }\n",
              "</style>\n",
              "<table border=\"1\" class=\"dataframe\">\n",
              "  <thead>\n",
              "    <tr style=\"text-align: right;\">\n",
              "      <th></th>\n",
              "      <th>Id</th>\n",
              "      <th>name_last_letters</th>\n",
              "      <th>surname_last_letters</th>\n",
              "      <th>patronymic_last_letters</th>\n",
              "      <th>name_length</th>\n",
              "      <th>surname_length</th>\n",
              "      <th>patronymic_length</th>\n",
              "      <th>name_vowels_percent</th>\n",
              "      <th>surname_vowels_percent</th>\n",
              "      <th>target</th>\n",
              "    </tr>\n",
              "  </thead>\n",
              "  <tbody>\n",
              "    <tr>\n",
              "      <th>0</th>\n",
              "      <td>2636471</td>\n",
              "      <td>на</td>\n",
              "      <td>ва</td>\n",
              "      <td>на</td>\n",
              "      <td>5</td>\n",
              "      <td>7</td>\n",
              "      <td>9</td>\n",
              "      <td>0.600000</td>\n",
              "      <td>0.571429</td>\n",
              "      <td>0.0</td>\n",
              "    </tr>\n",
              "    <tr>\n",
              "      <th>1</th>\n",
              "      <td>165386</td>\n",
              "      <td>ор</td>\n",
              "      <td>ич</td>\n",
              "      <td>ич</td>\n",
              "      <td>5</td>\n",
              "      <td>9</td>\n",
              "      <td>8</td>\n",
              "      <td>0.400000</td>\n",
              "      <td>0.444444</td>\n",
              "      <td>1.0</td>\n",
              "    </tr>\n",
              "    <tr>\n",
              "      <th>2</th>\n",
              "      <td>243807</td>\n",
              "      <td>га</td>\n",
              "      <td>ва</td>\n",
              "      <td>на</td>\n",
              "      <td>5</td>\n",
              "      <td>8</td>\n",
              "      <td>9</td>\n",
              "      <td>0.400000</td>\n",
              "      <td>0.500000</td>\n",
              "      <td>0.0</td>\n",
              "    </tr>\n",
              "    <tr>\n",
              "      <th>3</th>\n",
              "      <td>232582</td>\n",
              "      <td>ей</td>\n",
              "      <td>ов</td>\n",
              "      <td>ич</td>\n",
              "      <td>6</td>\n",
              "      <td>7</td>\n",
              "      <td>12</td>\n",
              "      <td>0.333333</td>\n",
              "      <td>0.285714</td>\n",
              "      <td>1.0</td>\n",
              "    </tr>\n",
              "    <tr>\n",
              "      <th>4</th>\n",
              "      <td>3970023</td>\n",
              "      <td>рк</td>\n",
              "      <td>ук</td>\n",
              "      <td>ич</td>\n",
              "      <td>4</td>\n",
              "      <td>8</td>\n",
              "      <td>9</td>\n",
              "      <td>0.250000</td>\n",
              "      <td>0.375000</td>\n",
              "      <td>1.0</td>\n",
              "    </tr>\n",
              "    <tr>\n",
              "      <th>...</th>\n",
              "      <td>...</td>\n",
              "      <td>...</td>\n",
              "      <td>...</td>\n",
              "      <td>...</td>\n",
              "      <td>...</td>\n",
              "      <td>...</td>\n",
              "      <td>...</td>\n",
              "      <td>...</td>\n",
              "      <td>...</td>\n",
              "      <td>...</td>\n",
              "    </tr>\n",
              "    <tr>\n",
              "      <th>5917166</th>\n",
              "      <td>962825</td>\n",
              "      <td>ий</td>\n",
              "      <td>ов</td>\n",
              "      <td>ич</td>\n",
              "      <td>8</td>\n",
              "      <td>7</td>\n",
              "      <td>9</td>\n",
              "      <td>0.375000</td>\n",
              "      <td>0.428571</td>\n",
              "      <td>1.0</td>\n",
              "    </tr>\n",
              "    <tr>\n",
              "      <th>5917168</th>\n",
              "      <td>3499092</td>\n",
              "      <td>еб</td>\n",
              "      <td>ев</td>\n",
              "      <td>ич</td>\n",
              "      <td>4</td>\n",
              "      <td>7</td>\n",
              "      <td>9</td>\n",
              "      <td>0.250000</td>\n",
              "      <td>0.428571</td>\n",
              "      <td>1.0</td>\n",
              "    </tr>\n",
              "    <tr>\n",
              "      <th>5917169</th>\n",
              "      <td>4354130</td>\n",
              "      <td>на</td>\n",
              "      <td>ва</td>\n",
              "      <td>на</td>\n",
              "      <td>5</td>\n",
              "      <td>7</td>\n",
              "      <td>10</td>\n",
              "      <td>0.600000</td>\n",
              "      <td>0.428571</td>\n",
              "      <td>0.0</td>\n",
              "    </tr>\n",
              "    <tr>\n",
              "      <th>5917171</th>\n",
              "      <td>3299674</td>\n",
              "      <td>ия</td>\n",
              "      <td>на</td>\n",
              "      <td>на</td>\n",
              "      <td>4</td>\n",
              "      <td>8</td>\n",
              "      <td>10</td>\n",
              "      <td>0.750000</td>\n",
              "      <td>0.500000</td>\n",
              "      <td>0.0</td>\n",
              "    </tr>\n",
              "    <tr>\n",
              "      <th>5917173</th>\n",
              "      <td>480729</td>\n",
              "      <td>ий</td>\n",
              "      <td>ин</td>\n",
              "      <td>ич</td>\n",
              "      <td>7</td>\n",
              "      <td>7</td>\n",
              "      <td>13</td>\n",
              "      <td>0.428571</td>\n",
              "      <td>0.428571</td>\n",
              "      <td>1.0</td>\n",
              "    </tr>\n",
              "  </tbody>\n",
              "</table>\n",
              "<p>4033958 rows × 10 columns</p>\n",
              "</div>\n",
              "      <button class=\"colab-df-convert\" onclick=\"convertToInteractive('df-72a8e4b1-5057-4fbc-a085-ea1dc9469b39')\"\n",
              "              title=\"Convert this dataframe to an interactive table.\"\n",
              "              style=\"display:none;\">\n",
              "        \n",
              "  <svg xmlns=\"http://www.w3.org/2000/svg\" height=\"24px\"viewBox=\"0 0 24 24\"\n",
              "       width=\"24px\">\n",
              "    <path d=\"M0 0h24v24H0V0z\" fill=\"none\"/>\n",
              "    <path d=\"M18.56 5.44l.94 2.06.94-2.06 2.06-.94-2.06-.94-.94-2.06-.94 2.06-2.06.94zm-11 1L8.5 8.5l.94-2.06 2.06-.94-2.06-.94L8.5 2.5l-.94 2.06-2.06.94zm10 10l.94 2.06.94-2.06 2.06-.94-2.06-.94-.94-2.06-.94 2.06-2.06.94z\"/><path d=\"M17.41 7.96l-1.37-1.37c-.4-.4-.92-.59-1.43-.59-.52 0-1.04.2-1.43.59L10.3 9.45l-7.72 7.72c-.78.78-.78 2.05 0 2.83L4 21.41c.39.39.9.59 1.41.59.51 0 1.02-.2 1.41-.59l7.78-7.78 2.81-2.81c.8-.78.8-2.07 0-2.86zM5.41 20L4 18.59l7.72-7.72 1.47 1.35L5.41 20z\"/>\n",
              "  </svg>\n",
              "      </button>\n",
              "      \n",
              "  <style>\n",
              "    .colab-df-container {\n",
              "      display:flex;\n",
              "      flex-wrap:wrap;\n",
              "      gap: 12px;\n",
              "    }\n",
              "\n",
              "    .colab-df-convert {\n",
              "      background-color: #E8F0FE;\n",
              "      border: none;\n",
              "      border-radius: 50%;\n",
              "      cursor: pointer;\n",
              "      display: none;\n",
              "      fill: #1967D2;\n",
              "      height: 32px;\n",
              "      padding: 0 0 0 0;\n",
              "      width: 32px;\n",
              "    }\n",
              "\n",
              "    .colab-df-convert:hover {\n",
              "      background-color: #E2EBFA;\n",
              "      box-shadow: 0px 1px 2px rgba(60, 64, 67, 0.3), 0px 1px 3px 1px rgba(60, 64, 67, 0.15);\n",
              "      fill: #174EA6;\n",
              "    }\n",
              "\n",
              "    [theme=dark] .colab-df-convert {\n",
              "      background-color: #3B4455;\n",
              "      fill: #D2E3FC;\n",
              "    }\n",
              "\n",
              "    [theme=dark] .colab-df-convert:hover {\n",
              "      background-color: #434B5C;\n",
              "      box-shadow: 0px 1px 3px 1px rgba(0, 0, 0, 0.15);\n",
              "      filter: drop-shadow(0px 1px 2px rgba(0, 0, 0, 0.3));\n",
              "      fill: #FFFFFF;\n",
              "    }\n",
              "  </style>\n",
              "\n",
              "      <script>\n",
              "        const buttonEl =\n",
              "          document.querySelector('#df-72a8e4b1-5057-4fbc-a085-ea1dc9469b39 button.colab-df-convert');\n",
              "        buttonEl.style.display =\n",
              "          google.colab.kernel.accessAllowed ? 'block' : 'none';\n",
              "\n",
              "        async function convertToInteractive(key) {\n",
              "          const element = document.querySelector('#df-72a8e4b1-5057-4fbc-a085-ea1dc9469b39');\n",
              "          const dataTable =\n",
              "            await google.colab.kernel.invokeFunction('convertToInteractive',\n",
              "                                                     [key], {});\n",
              "          if (!dataTable) return;\n",
              "\n",
              "          const docLinkHtml = 'Like what you see? Visit the ' +\n",
              "            '<a target=\"_blank\" href=https://colab.research.google.com/notebooks/data_table.ipynb>data table notebook</a>'\n",
              "            + ' to learn more about interactive tables.';\n",
              "          element.innerHTML = '';\n",
              "          dataTable['output_type'] = 'display_data';\n",
              "          await google.colab.output.renderOutput(dataTable, element);\n",
              "          const docLink = document.createElement('div');\n",
              "          docLink.innerHTML = docLinkHtml;\n",
              "          element.appendChild(docLink);\n",
              "        }\n",
              "      </script>\n",
              "    </div>\n",
              "  </div>\n",
              "  "
            ]
          },
          "metadata": {},
          "execution_count": 129
        }
      ]
    },
    {
      "cell_type": "code",
      "source": [
        "train = exp_feature_df[['Id', 'name_last_letters',\t'surname_last_letters',\t'patronymic_last_letters',\t'name_length',\t'surname_length',\t'patronymic_length','name_vowels_percent', 'surname_vowels_percent']]\n",
        "target = exp_feature_df['target']"
      ],
      "metadata": {
        "id": "8LX6mxm7yKxU"
      },
      "execution_count": 131,
      "outputs": []
    },
    {
      "cell_type": "code",
      "source": [
        "X_train, X_valid, y_train, y_valid = train_test_split(train, target, test_size=0.2, random_state=1337)"
      ],
      "metadata": {
        "id": "tbpGMsbzykFH"
      },
      "execution_count": 132,
      "outputs": []
    },
    {
      "cell_type": "code",
      "source": [
        "numeric_features = [\"name_length\", \"surname_length\", \"patronymic_length\", \"name_vowels_percent\", \"surname_vowels_percent\"]\n",
        "numeric_transformer = Pipeline(\n",
        "    steps=[(\"imputer\", SimpleImputer(strategy=\"median\")), (\"scaler\", StandardScaler())]\n",
        ")\n",
        "\n",
        "categorical_features = [\"name_last_letters\", \"surname_last_letters\", \"patronymic_last_letters\"]\n",
        "categorical_transformer = OneHotEncoder(handle_unknown=\"ignore\")\n",
        "\n",
        "preprocessor = ColumnTransformer(\n",
        "    transformers=[\n",
        "        (\"num\", numeric_transformer, numeric_features),\n",
        "        (\"cat\", categorical_transformer, categorical_features),\n",
        "    ]\n",
        ")\n"
      ],
      "metadata": {
        "id": "qLHt9FaBy1Hl"
      },
      "execution_count": 135,
      "outputs": []
    },
    {
      "cell_type": "code",
      "source": [
        "# беру модель LGBM, поскольку она самая точная"
      ],
      "metadata": {
        "id": "PzLyWrn40wCR"
      },
      "execution_count": null,
      "outputs": []
    },
    {
      "cell_type": "code",
      "source": [
        "clf = Pipeline(\n",
        "    steps=[(\"preprocessor\", preprocessor), (\"classifier\", lgb.LGBMClassifier())]\n",
        ")\n",
        "\n",
        "clf.fit(X_train, y_train)\n",
        "print(\"model score: %.3f\" % clf.score(X_valid, y_valid))\n",
        "\n",
        "y_pred = clf.predict(X_valid)\n",
        "\n",
        "# качество модели\n",
        "accuracy = roc_auc_score(y_pred, y_valid)\n",
        "print(\"accuracy =\", accuracy)"
      ],
      "metadata": {
        "colab": {
          "base_uri": "https://localhost:8080/"
        },
        "id": "askxnKKIz4Kk",
        "outputId": "da4ae208-4464-45d3-dc7e-fcd67431f06b"
      },
      "execution_count": 137,
      "outputs": [
        {
          "output_type": "stream",
          "name": "stdout",
          "text": [
            "model score: 0.998\n",
            "accuracy = 0.997609723689953\n"
          ]
        }
      ]
    },
    {
      "cell_type": "code",
      "source": [
        "# можно заметить, что accuracy немного повысилась (было accuracy = 0.9975541700491739)\n",
        "# фича работает!"
      ],
      "metadata": {
        "id": "atA5u5xO0eVF"
      },
      "execution_count": null,
      "outputs": []
    },
    {
      "cell_type": "code",
      "source": [
        "# фича2"
      ],
      "metadata": {
        "id": "EOR5fqLNYSPc"
      },
      "execution_count": null,
      "outputs": []
    },
    {
      "cell_type": "code",
      "source": [
        "global uou\n",
        "uou = set('Ьь')\n",
        "\n",
        "def num_uou(z):\n",
        "    c = 0\n",
        "    for i in range(len(z)):\n",
        "        if z[i] in uou:\n",
        "            c += 1\n",
        "    return c"
      ],
      "metadata": {
        "id": "W8VLAw0bYjYb"
      },
      "execution_count": 62,
      "outputs": []
    },
    {
      "cell_type": "code",
      "source": [
        "uou_num = lambda x: num_uou(str(x))"
      ],
      "metadata": {
        "id": "PlmSKRWkZCQx"
      },
      "execution_count": 63,
      "outputs": []
    },
    {
      "cell_type": "code",
      "source": [
        "males_uou = males['name'].apply(uou_num)\n",
        "females_uou = females['name'].apply(uou_num)"
      ],
      "metadata": {
        "id": "qheQtq9NZC7Q"
      },
      "execution_count": 64,
      "outputs": []
    },
    {
      "cell_type": "code",
      "source": [
        "males_uou.hist(bins=16)"
      ],
      "metadata": {
        "colab": {
          "base_uri": "https://localhost:8080/",
          "height": 293
        },
        "id": "d2mytK13Zjml",
        "outputId": "46ed5516-6743-4c26-f882-0aaf9c3347b4"
      },
      "execution_count": 65,
      "outputs": [
        {
          "output_type": "execute_result",
          "data": {
            "text/plain": [
              "<matplotlib.axes._subplots.AxesSubplot at 0x7f2d7937d5d0>"
            ]
          },
          "metadata": {},
          "execution_count": 65
        },
        {
          "output_type": "display_data",
          "data": {
            "text/plain": [
              "<Figure size 432x288 with 1 Axes>"
            ],
            "image/png": "[encoded data removed]"
          },
          "metadata": {
            "needs_background": "light"
          }
        }
      ]
    },
    {
      "cell_type": "code",
      "source": [
        "females_uou.hist(bins=16)"
      ],
      "metadata": {
        "colab": {
          "base_uri": "https://localhost:8080/",
          "height": 293
        },
        "id": "R5SrlRUjZKHv",
        "outputId": "5a160fda-1dc3-4069-bbaf-32a57e3e6d32"
      },
      "execution_count": 66,
      "outputs": [
        {
          "output_type": "execute_result",
          "data": {
            "text/plain": [
              "<matplotlib.axes._subplots.AxesSubplot at 0x7f2d763718d0>"
            ]
          },
          "metadata": {},
          "execution_count": 66
        },
        {
          "output_type": "display_data",
          "data": {
            "text/plain": [
              "<Figure size 432x288 with 1 Axes>"
            ],
            "image/png": "[encoded data removed]"
          },
          "metadata": {
            "needs_background": "light"
          }
        }
      ]
    },
    {
      "cell_type": "code",
      "source": [
        "# в женских именах действительно чаще встречаются мягкие знаки, однако непонятно, насколько значим признак"
      ],
      "metadata": {
        "id": "ekngIFd1fiyO"
      },
      "execution_count": null,
      "outputs": []
    },
    {
      "cell_type": "code",
      "source": [
        "# добавим фичу к обучающим данным"
      ],
      "metadata": {
        "id": "HwZeZAwchFzS"
      },
      "execution_count": null,
      "outputs": []
    },
    {
      "cell_type": "code",
      "source": [
        "exp_feature_df1 = data1"
      ],
      "metadata": {
        "id": "jLBj00Dk1a17"
      },
      "execution_count": 138,
      "outputs": []
    },
    {
      "cell_type": "code",
      "source": [
        "nm_lst_ltts = lambda x: str(x)[-2:]\n",
        "exp_feature_df1['name_last_letters'] = exp_feature_df1['name'].map(nm_lst_ltts)\n",
        "exp_feature_df1['surname_last_letters'] = exp_feature_df1['surname'].map(nm_lst_ltts)\n",
        "exp_feature_df1['patronymic_last_letters'] = exp_feature_df1['patronymic'].map(nm_lst_ltts)\n",
        "\n",
        "nm_ln = lambda x: len(str(x))\n",
        "exp_feature_df1['name_length'] = exp_feature_df1['name'].map(nm_ln)\n",
        "exp_feature_df1['surname_length'] = exp_feature_df1['surname'].map(nm_ln)\n",
        "exp_feature_df1['patronymic_length'] = exp_feature_df1['patronymic'].map(nm_ln)"
      ],
      "metadata": {
        "id": "MpiE0amb1e3W"
      },
      "execution_count": 140,
      "outputs": []
    },
    {
      "cell_type": "code",
      "source": [
        "uou_num = lambda x: num_uou(str(x))\n",
        "exp_feature_df1['name_ь'] = exp_feature_df1['name'].map(uou_num)"
      ],
      "metadata": {
        "id": "UEs5pVFG2Asx"
      },
      "execution_count": 141,
      "outputs": []
    },
    {
      "cell_type": "code",
      "source": [
        "exp_feature_df1 = exp_feature_df1.drop(exp_feature_df1.columns[[1,2,3]], axis = 1)"
      ],
      "metadata": {
        "id": "F8WclJhE2dhm"
      },
      "execution_count": null,
      "outputs": []
    },
    {
      "cell_type": "code",
      "source": [
        "exp_feature_df1 = exp_feature_df1[['Id', 'name_last_letters', 'surname_last_letters',\n",
        "                         'patronymic_last_letters', 'name_length', 'surname_length',\n",
        "                         'patronymic_length', 'name_ь', 'target']]"
      ],
      "metadata": {
        "id": "FQCHflGn2hzq"
      },
      "execution_count": 143,
      "outputs": []
    },
    {
      "cell_type": "code",
      "source": [
        "#exp_feature_df1"
      ],
      "metadata": {
        "colab": {
          "base_uri": "https://localhost:8080/",
          "height": 488
        },
        "id": "39dFLLoj201p",
        "outputId": "4272b2e8-6b38-4c52-a1d8-c9c999fc01bc"
      },
      "execution_count": 144,
      "outputs": [
        {
          "output_type": "execute_result",
          "data": {
            "text/plain": [
              "              Id name_last_letters surname_last_letters  \\\n",
              "0        2636471                на                   ва   \n",
              "1         165386                ор                   ич   \n",
              "2         243807                га                   ва   \n",
              "3         232582                ей                   ов   \n",
              "4        3970023                рк                   ук   \n",
              "...          ...               ...                  ...   \n",
              "5917166   962825                ий                   ов   \n",
              "5917168  3499092                еб                   ев   \n",
              "5917169  4354130                на                   ва   \n",
              "5917171  3299674                ия                   на   \n",
              "5917173   480729                ий                   ин   \n",
              "\n",
              "        patronymic_last_letters  name_length  surname_length  \\\n",
              "0                            на            5               7   \n",
              "1                            ич            5               9   \n",
              "2                            на            5               8   \n",
              "3                            ич            6               7   \n",
              "4                            ич            4               8   \n",
              "...                         ...          ...             ...   \n",
              "5917166                      ич            8               7   \n",
              "5917168                      ич            4               7   \n",
              "5917169                      на            5               7   \n",
              "5917171                      на            4               8   \n",
              "5917173                      ич            7               7   \n",
              "\n",
              "         patronymic_length  name_ь  target  \n",
              "0                        9       0     0.0  \n",
              "1                        8       0     1.0  \n",
              "2                        9       1     0.0  \n",
              "3                       12       0     1.0  \n",
              "4                        9       0     1.0  \n",
              "...                    ...     ...     ...  \n",
              "5917166                  9       0     1.0  \n",
              "5917168                  9       0     1.0  \n",
              "5917169                 10       0     0.0  \n",
              "5917171                 10       0     0.0  \n",
              "5917173                 13       0     1.0  \n",
              "\n",
              "[4033958 rows x 9 columns]"
            ],
            "text/html": [
              "\n",
              "  <div id=\"df-595c83ae-345e-4860-8b3b-2d4757ffe9a4\">\n",
              "    <div class=\"colab-df-container\">\n",
              "      <div>\n",
              "<style scoped>\n",
              "    .dataframe tbody tr th:only-of-type {\n",
              "        vertical-align: middle;\n",
              "    }\n",
              "\n",
              "    .dataframe tbody tr th {\n",
              "        vertical-align: top;\n",
              "    }\n",
              "\n",
              "    .dataframe thead th {\n",
              "        text-align: right;\n",
              "    }\n",
              "</style>\n",
              "<table border=\"1\" class=\"dataframe\">\n",
              "  <thead>\n",
              "    <tr style=\"text-align: right;\">\n",
              "      <th></th>\n",
              "      <th>Id</th>\n",
              "      <th>name_last_letters</th>\n",
              "      <th>surname_last_letters</th>\n",
              "      <th>patronymic_last_letters</th>\n",
              "      <th>name_length</th>\n",
              "      <th>surname_length</th>\n",
              "      <th>patronymic_length</th>\n",
              "      <th>name_ь</th>\n",
              "      <th>target</th>\n",
              "    </tr>\n",
              "  </thead>\n",
              "  <tbody>\n",
              "    <tr>\n",
              "      <th>0</th>\n",
              "      <td>2636471</td>\n",
              "      <td>на</td>\n",
              "      <td>ва</td>\n",
              "      <td>на</td>\n",
              "      <td>5</td>\n",
              "      <td>7</td>\n",
              "      <td>9</td>\n",
              "      <td>0</td>\n",
              "      <td>0.0</td>\n",
              "    </tr>\n",
              "    <tr>\n",
              "      <th>1</th>\n",
              "      <td>165386</td>\n",
              "      <td>ор</td>\n",
              "      <td>ич</td>\n",
              "      <td>ич</td>\n",
              "      <td>5</td>\n",
              "      <td>9</td>\n",
              "      <td>8</td>\n",
              "      <td>0</td>\n",
              "      <td>1.0</td>\n",
              "    </tr>\n",
              "    <tr>\n",
              "      <th>2</th>\n",
              "      <td>243807</td>\n",
              "      <td>га</td>\n",
              "      <td>ва</td>\n",
              "      <td>на</td>\n",
              "      <td>5</td>\n",
              "      <td>8</td>\n",
              "      <td>9</td>\n",
              "      <td>1</td>\n",
              "      <td>0.0</td>\n",
              "    </tr>\n",
              "    <tr>\n",
              "      <th>3</th>\n",
              "      <td>232582</td>\n",
              "      <td>ей</td>\n",
              "      <td>ов</td>\n",
              "      <td>ич</td>\n",
              "      <td>6</td>\n",
              "      <td>7</td>\n",
              "      <td>12</td>\n",
              "      <td>0</td>\n",
              "      <td>1.0</td>\n",
              "    </tr>\n",
              "    <tr>\n",
              "      <th>4</th>\n",
              "      <td>3970023</td>\n",
              "      <td>рк</td>\n",
              "      <td>ук</td>\n",
              "      <td>ич</td>\n",
              "      <td>4</td>\n",
              "      <td>8</td>\n",
              "      <td>9</td>\n",
              "      <td>0</td>\n",
              "      <td>1.0</td>\n",
              "    </tr>\n",
              "    <tr>\n",
              "      <th>...</th>\n",
              "      <td>...</td>\n",
              "      <td>...</td>\n",
              "      <td>...</td>\n",
              "      <td>...</td>\n",
              "      <td>...</td>\n",
              "      <td>...</td>\n",
              "      <td>...</td>\n",
              "      <td>...</td>\n",
              "      <td>...</td>\n",
              "    </tr>\n",
              "    <tr>\n",
              "      <th>5917166</th>\n",
              "      <td>962825</td>\n",
              "      <td>ий</td>\n",
              "      <td>ов</td>\n",
              "      <td>ич</td>\n",
              "      <td>8</td>\n",
              "      <td>7</td>\n",
              "      <td>9</td>\n",
              "      <td>0</td>\n",
              "      <td>1.0</td>\n",
              "    </tr>\n",
              "    <tr>\n",
              "      <th>5917168</th>\n",
              "      <td>3499092</td>\n",
              "      <td>еб</td>\n",
              "      <td>ев</td>\n",
              "      <td>ич</td>\n",
              "      <td>4</td>\n",
              "      <td>7</td>\n",
              "      <td>9</td>\n",
              "      <td>0</td>\n",
              "      <td>1.0</td>\n",
              "    </tr>\n",
              "    <tr>\n",
              "      <th>5917169</th>\n",
              "      <td>4354130</td>\n",
              "      <td>на</td>\n",
              "      <td>ва</td>\n",
              "      <td>на</td>\n",
              "      <td>5</td>\n",
              "      <td>7</td>\n",
              "      <td>10</td>\n",
              "      <td>0</td>\n",
              "      <td>0.0</td>\n",
              "    </tr>\n",
              "    <tr>\n",
              "      <th>5917171</th>\n",
              "      <td>3299674</td>\n",
              "      <td>ия</td>\n",
              "      <td>на</td>\n",
              "      <td>на</td>\n",
              "      <td>4</td>\n",
              "      <td>8</td>\n",
              "      <td>10</td>\n",
              "      <td>0</td>\n",
              "      <td>0.0</td>\n",
              "    </tr>\n",
              "    <tr>\n",
              "      <th>5917173</th>\n",
              "      <td>480729</td>\n",
              "      <td>ий</td>\n",
              "      <td>ин</td>\n",
              "      <td>ич</td>\n",
              "      <td>7</td>\n",
              "      <td>7</td>\n",
              "      <td>13</td>\n",
              "      <td>0</td>\n",
              "      <td>1.0</td>\n",
              "    </tr>\n",
              "  </tbody>\n",
              "</table>\n",
              "<p>4033958 rows × 9 columns</p>\n",
              "</div>\n",
              "      <button class=\"colab-df-convert\" onclick=\"convertToInteractive('df-595c83ae-345e-4860-8b3b-2d4757ffe9a4')\"\n",
              "              title=\"Convert this dataframe to an interactive table.\"\n",
              "              style=\"display:none;\">\n",
              "        \n",
              "  <svg xmlns=\"http://www.w3.org/2000/svg\" height=\"24px\"viewBox=\"0 0 24 24\"\n",
              "       width=\"24px\">\n",
              "    <path d=\"M0 0h24v24H0V0z\" fill=\"none\"/>\n",
              "    <path d=\"M18.56 5.44l.94 2.06.94-2.06 2.06-.94-2.06-.94-.94-2.06-.94 2.06-2.06.94zm-11 1L8.5 8.5l.94-2.06 2.06-.94-2.06-.94L8.5 2.5l-.94 2.06-2.06.94zm10 10l.94 2.06.94-2.06 2.06-.94-2.06-.94-.94-2.06-.94 2.06-2.06.94z\"/><path d=\"M17.41 7.96l-1.37-1.37c-.4-.4-.92-.59-1.43-.59-.52 0-1.04.2-1.43.59L10.3 9.45l-7.72 7.72c-.78.78-.78 2.05 0 2.83L4 21.41c.39.39.9.59 1.41.59.51 0 1.02-.2 1.41-.59l7.78-7.78 2.81-2.81c.8-.78.8-2.07 0-2.86zM5.41 20L4 18.59l7.72-7.72 1.47 1.35L5.41 20z\"/>\n",
              "  </svg>\n",
              "      </button>\n",
              "      \n",
              "  <style>\n",
              "    .colab-df-container {\n",
              "      display:flex;\n",
              "      flex-wrap:wrap;\n",
              "      gap: 12px;\n",
              "    }\n",
              "\n",
              "    .colab-df-convert {\n",
              "      background-color: #E8F0FE;\n",
              "      border: none;\n",
              "      border-radius: 50%;\n",
              "      cursor: pointer;\n",
              "      display: none;\n",
              "      fill: #1967D2;\n",
              "      height: 32px;\n",
              "      padding: 0 0 0 0;\n",
              "      width: 32px;\n",
              "    }\n",
              "\n",
              "    .colab-df-convert:hover {\n",
              "      background-color: #E2EBFA;\n",
              "      box-shadow: 0px 1px 2px rgba(60, 64, 67, 0.3), 0px 1px 3px 1px rgba(60, 64, 67, 0.15);\n",
              "      fill: #174EA6;\n",
              "    }\n",
              "\n",
              "    [theme=dark] .colab-df-convert {\n",
              "      background-color: #3B4455;\n",
              "      fill: #D2E3FC;\n",
              "    }\n",
              "\n",
              "    [theme=dark] .colab-df-convert:hover {\n",
              "      background-color: #434B5C;\n",
              "      box-shadow: 0px 1px 3px 1px rgba(0, 0, 0, 0.15);\n",
              "      filter: drop-shadow(0px 1px 2px rgba(0, 0, 0, 0.3));\n",
              "      fill: #FFFFFF;\n",
              "    }\n",
              "  </style>\n",
              "\n",
              "      <script>\n",
              "        const buttonEl =\n",
              "          document.querySelector('#df-595c83ae-345e-4860-8b3b-2d4757ffe9a4 button.colab-df-convert');\n",
              "        buttonEl.style.display =\n",
              "          google.colab.kernel.accessAllowed ? 'block' : 'none';\n",
              "\n",
              "        async function convertToInteractive(key) {\n",
              "          const element = document.querySelector('#df-595c83ae-345e-4860-8b3b-2d4757ffe9a4');\n",
              "          const dataTable =\n",
              "            await google.colab.kernel.invokeFunction('convertToInteractive',\n",
              "                                                     [key], {});\n",
              "          if (!dataTable) return;\n",
              "\n",
              "          const docLinkHtml = 'Like what you see? Visit the ' +\n",
              "            '<a target=\"_blank\" href=https://colab.research.google.com/notebooks/data_table.ipynb>data table notebook</a>'\n",
              "            + ' to learn more about interactive tables.';\n",
              "          element.innerHTML = '';\n",
              "          dataTable['output_type'] = 'display_data';\n",
              "          await google.colab.output.renderOutput(dataTable, element);\n",
              "          const docLink = document.createElement('div');\n",
              "          docLink.innerHTML = docLinkHtml;\n",
              "          element.appendChild(docLink);\n",
              "        }\n",
              "      </script>\n",
              "    </div>\n",
              "  </div>\n",
              "  "
            ]
          },
          "metadata": {},
          "execution_count": 144
        }
      ]
    },
    {
      "cell_type": "code",
      "source": [
        "train = exp_feature_df1[['Id', 'name_last_letters',\t'surname_last_letters',\t'patronymic_last_letters',\t'name_length',\t'surname_length',\t'patronymic_length','name_ь']]\n",
        "target = exp_feature_df1['target']"
      ],
      "metadata": {
        "id": "__bDCqZt23SN"
      },
      "execution_count": 146,
      "outputs": []
    },
    {
      "cell_type": "code",
      "source": [
        "X_train, X_valid, y_train, y_valid = train_test_split(train, target, test_size=0.2, random_state=1337)"
      ],
      "metadata": {
        "id": "zI2cVtQm3LlC"
      },
      "execution_count": 147,
      "outputs": []
    },
    {
      "cell_type": "code",
      "source": [
        "numeric_features = [\"name_length\", \"surname_length\", \"patronymic_length\", \"name_ь\"]\n",
        "numeric_transformer = Pipeline(\n",
        "    steps=[(\"imputer\", SimpleImputer(strategy=\"median\")), (\"scaler\", StandardScaler())]\n",
        ")\n",
        "\n",
        "categorical_features = [\"name_last_letters\", \"surname_last_letters\", \"patronymic_last_letters\"]\n",
        "categorical_transformer = OneHotEncoder(handle_unknown=\"ignore\")\n",
        "\n",
        "preprocessor = ColumnTransformer(\n",
        "    transformers=[\n",
        "        (\"num\", numeric_transformer, numeric_features),\n",
        "        (\"cat\", categorical_transformer, categorical_features),\n",
        "    ]\n",
        ")"
      ],
      "metadata": {
        "id": "i04MkgZX3R2M"
      },
      "execution_count": 150,
      "outputs": []
    },
    {
      "cell_type": "code",
      "source": [
        "# тоже LGBM"
      ],
      "metadata": {
        "id": "CTYdMbZE6J4u"
      },
      "execution_count": null,
      "outputs": []
    },
    {
      "cell_type": "code",
      "source": [
        "clf = Pipeline(\n",
        "    steps=[(\"preprocessor\", preprocessor), (\"classifier\", lgb.LGBMClassifier())]\n",
        ")\n",
        "\n",
        "clf.fit(X_train, y_train)\n",
        "print(\"model score: %.3f\" % clf.score(X_valid, y_valid))\n",
        "\n",
        "y_pred = clf.predict(X_valid)\n",
        "\n",
        "# качество модели\n",
        "accuracy = roc_auc_score(y_pred, y_valid)\n",
        "print(\"accuracy =\", accuracy)"
      ],
      "metadata": {
        "colab": {
          "base_uri": "https://localhost:8080/"
        },
        "id": "qzMOtJtP3Yic",
        "outputId": "81191e0d-793e-42b4-a0db-27e52929fea6"
      },
      "execution_count": 151,
      "outputs": [
        {
          "output_type": "stream",
          "name": "stdout",
          "text": [
            "model score: 0.998\n",
            "accuracy = 0.9976059452902802\n"
          ]
        }
      ]
    },
    {
      "cell_type": "code",
      "source": [
        "# фича тоже дала повышение точности (было accuracy = 0.9975541700491739), хотя меньше, чем первая\n",
        "# но фича работает!"
      ],
      "metadata": {
        "id": "9AAW-UTE30RE"
      },
      "execution_count": null,
      "outputs": []
    }
  ]
}